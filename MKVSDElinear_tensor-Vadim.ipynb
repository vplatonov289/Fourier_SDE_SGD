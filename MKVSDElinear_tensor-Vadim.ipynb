{
 "cells": [
  {
   "cell_type": "markdown",
   "id": "a84cd018",
   "metadata": {},
   "source": [
    "### Generate sample paths of a McKean-Vlasov SDE using PyTorch"
   ]
  },
  {
   "cell_type": "markdown",
   "id": "7d4a97b3",
   "metadata": {},
   "source": [
    "Consider McKean-Vlasov SDE of the following form:\n",
    "\n",
    "$$ \n",
    "\\textrm{d}X_t = (\\alpha \\, X_t + \\beta \\, \\mathbb{E}[X_t]) \\textrm{d} t + \\sigma \\, \\textrm{d} W_t, \\quad X_0 = x_0.\n",
    "$$\n",
    "\n",
    "We approximate the solution $X_t, t \\in [0,T]$ by using the following \n",
    "\n",
    "$$ \n",
    "\\textrm{d}X_t = \\bigl(\\alpha \\, X_t + \\beta \\, \\sum^M_{i=1} \\gamma_i \\mathbf{1}_{[t_{i-1},t_i[}(t) \\bigr) \\textrm{d} t + \\sigma \\, \\textrm{d} W_t, \\quad X_0 = x_0,\n",
    "$$\n",
    "\n",
    "where we approximate $\\mathbb{E}[X_t]$ for $t \\in [t_{i-1},t_i[$ by a single constant $\\gamma_i.$ Set $t_0 = 0$ and $t_M = T.$\n"
   ]
  },
  {
   "cell_type": "code",
   "execution_count": 1,
   "id": "bd2642a9",
   "metadata": {},
   "outputs": [],
   "source": [
    "import torch\n",
    "import random\n",
    "from torch import optim, nn\n",
    "import math\n",
    "import matplotlib.pyplot as plt\n",
    "from torchviz import make_dot\n",
    "\n",
    "import numpy as np"
   ]
  },
  {
   "cell_type": "code",
   "execution_count": 2,
   "id": "6ea2074b",
   "metadata": {},
   "outputs": [
    {
     "name": "stderr",
     "output_type": "stream",
     "text": [
      "C:\\Users\\aa261w\\Anaconda3\\lib\\site-packages\\torch\\cuda\\__init__.py:52: UserWarning: CUDA initialization: Found no NVIDIA driver on your system. Please check that you have an NVIDIA GPU and installed a driver from http://www.nvidia.com/Download/index.aspx (Triggered internally at  ..\\c10\\cuda\\CUDAFunctions.cpp:100.)\n",
      "  return torch._C._cuda_getDeviceCount() > 0\n"
     ]
    }
   ],
   "source": [
    "device = torch.device(\"cuda:0\" if torch.cuda.is_available() else \"cpu\")"
   ]
  },
  {
   "cell_type": "code",
   "execution_count": 3,
   "id": "c2333b26",
   "metadata": {
    "scrolled": true
   },
   "outputs": [],
   "source": [
    "class MKVSDElinear_approx(torch.nn.Module):\n",
    "    def __init__(self, gamma):\n",
    "        super().__init__()\n",
    "        # wrap gamma with nn.Parameter to compute gradients with respect to it using autograd\n",
    "        self.gamma = nn.Parameter(gamma)\n",
    "    def forward(self, x0, alpha, beta, sigma, M, dt, dW):\n",
    "        X = x0 * torch.ones(M + 1)\n",
    "        for i in range(1, M + 1):\n",
    "            X[i] = X[i - 1] * (1 + alpha * dt) + beta * dt * self.gamma[i - 1] + sigma * dW[i - 1]\n",
    "        return X\n",
    "#     def getgradpath(self, x0, alpha, beta, sigma, M, dt):\n",
    "#         xi = torch.zeros(M, M + 1) # N paths with M gradient values based on size of gamma, and M + 1 values\n",
    "#         for j in range(M):\n",
    "#             for i in range(1,M + 1):\n",
    "#                 if (i == j):\n",
    "#                     xi[j, i] = xi[j, i - 1] * (1 + alpha * dt) + beta * dt\n",
    "#                 elif (i != j):\n",
    "#                     xi[j, i] = xi[j, i - 1] * (1 + alpha * dt)\n",
    "#         return xi\n",
    "\n",
    "# seed initialise\n",
    "torch.manual_seed(42)\n",
    "\n",
    "# model parameters\n",
    "M = 100  # number of discretisation steps\n",
    "x0 = 1\n",
    "sigma = 1\n",
    "alpha = - 0.5\n",
    "beta = 0.3\n",
    "T = 0.2\n",
    "dt = T / M\n",
    "\n",
    "# simulate Brownian increments\n",
    "dW = dt ** 0.5 * torch.randn(M)\n",
    "# generate random values for gamma initialisation\n",
    "gamma = torch.randn(M, requires_grad = True, dtype=torch.float, device=device)\n",
    "\n",
    "MKVSDE_Xapprox = MKVSDElinear_approx(gamma).to(device)\n",
    "MKVSDE_Xapproxpath = MKVSDE_Xapprox(x0, alpha, beta, sigma, M, dt, dW)\n",
    "#MKVSDE_Xapprox_gradpath = MKVSDE_Xapprox.getgradpath(x0, alpha, beta, sigma, M, dt)\n",
    "\n",
    "#print(MKVSDE_Xapproxpath.size())\n",
    "#print(MKVSDE_Xapprox_gradpath)\n",
    "# MKVSDE_Xapproxpath.backward(torch.ones_like(gamma))"
   ]
  },
  {
   "cell_type": "code",
   "execution_count": 6,
   "id": "565c172d",
   "metadata": {
    "scrolled": true
   },
   "outputs": [
    {
     "ename": "KeyboardInterrupt",
     "evalue": "",
     "output_type": "error",
     "traceback": [
      "\u001b[1;31m---------------------------------------------------------------------------\u001b[0m",
      "\u001b[1;31mKeyboardInterrupt\u001b[0m                         Traceback (most recent call last)",
      "\u001b[1;32m~\\AppData\\Local\\Temp/ipykernel_17096/595991479.py\u001b[0m in \u001b[0;36m<module>\u001b[1;34m\u001b[0m\n\u001b[0;32m     17\u001b[0m     \u001b[0mmodel\u001b[0m\u001b[1;33m.\u001b[0m\u001b[0mtrain\u001b[0m\u001b[1;33m(\u001b[0m\u001b[1;33m)\u001b[0m\u001b[1;33m\u001b[0m\u001b[1;33m\u001b[0m\u001b[0m\n\u001b[0;32m     18\u001b[0m     \u001b[0mdW\u001b[0m \u001b[1;33m=\u001b[0m \u001b[0mdt\u001b[0m \u001b[1;33m**\u001b[0m \u001b[1;36m0.5\u001b[0m \u001b[1;33m*\u001b[0m \u001b[0mtorch\u001b[0m\u001b[1;33m.\u001b[0m\u001b[0mrandn\u001b[0m\u001b[1;33m(\u001b[0m\u001b[0mM\u001b[0m\u001b[1;33m)\u001b[0m\u001b[1;33m\u001b[0m\u001b[1;33m\u001b[0m\u001b[0m\n\u001b[1;32m---> 19\u001b[1;33m     \u001b[0mpath_pred\u001b[0m \u001b[1;33m=\u001b[0m \u001b[0mmodel\u001b[0m\u001b[1;33m(\u001b[0m\u001b[0mx0\u001b[0m\u001b[1;33m,\u001b[0m \u001b[0malpha\u001b[0m\u001b[1;33m,\u001b[0m \u001b[0mbeta\u001b[0m\u001b[1;33m,\u001b[0m \u001b[0msigma\u001b[0m\u001b[1;33m,\u001b[0m \u001b[0mM\u001b[0m\u001b[1;33m,\u001b[0m \u001b[0mdt\u001b[0m\u001b[1;33m,\u001b[0m \u001b[0mdW\u001b[0m\u001b[1;33m)\u001b[0m\u001b[1;33m\u001b[0m\u001b[1;33m\u001b[0m\u001b[0m\n\u001b[0m\u001b[0;32m     20\u001b[0m     \u001b[0mfinal_loss\u001b[0m \u001b[1;33m=\u001b[0m \u001b[0mloss_fn\u001b[0m\u001b[1;33m(\u001b[0m\u001b[0mpath_pred\u001b[0m\u001b[1;33m[\u001b[0m\u001b[1;36m1\u001b[0m\u001b[1;33m:\u001b[0m\u001b[1;33m]\u001b[0m\u001b[1;33m,\u001b[0m \u001b[0mmodel\u001b[0m\u001b[1;33m.\u001b[0m\u001b[0mgamma\u001b[0m\u001b[1;33m)\u001b[0m\u001b[1;33m\u001b[0m\u001b[1;33m\u001b[0m\u001b[0m\n\u001b[0;32m     21\u001b[0m \u001b[1;33m\u001b[0m\u001b[0m\n",
      "\u001b[1;32m~\\Anaconda3\\lib\\site-packages\\torch\\nn\\modules\\module.py\u001b[0m in \u001b[0;36m_call_impl\u001b[1;34m(self, *input, **kwargs)\u001b[0m\n\u001b[0;32m    725\u001b[0m             \u001b[0mresult\u001b[0m \u001b[1;33m=\u001b[0m \u001b[0mself\u001b[0m\u001b[1;33m.\u001b[0m\u001b[0m_slow_forward\u001b[0m\u001b[1;33m(\u001b[0m\u001b[1;33m*\u001b[0m\u001b[0minput\u001b[0m\u001b[1;33m,\u001b[0m \u001b[1;33m**\u001b[0m\u001b[0mkwargs\u001b[0m\u001b[1;33m)\u001b[0m\u001b[1;33m\u001b[0m\u001b[1;33m\u001b[0m\u001b[0m\n\u001b[0;32m    726\u001b[0m         \u001b[1;32melse\u001b[0m\u001b[1;33m:\u001b[0m\u001b[1;33m\u001b[0m\u001b[1;33m\u001b[0m\u001b[0m\n\u001b[1;32m--> 727\u001b[1;33m             \u001b[0mresult\u001b[0m \u001b[1;33m=\u001b[0m \u001b[0mself\u001b[0m\u001b[1;33m.\u001b[0m\u001b[0mforward\u001b[0m\u001b[1;33m(\u001b[0m\u001b[1;33m*\u001b[0m\u001b[0minput\u001b[0m\u001b[1;33m,\u001b[0m \u001b[1;33m**\u001b[0m\u001b[0mkwargs\u001b[0m\u001b[1;33m)\u001b[0m\u001b[1;33m\u001b[0m\u001b[1;33m\u001b[0m\u001b[0m\n\u001b[0m\u001b[0;32m    728\u001b[0m         for hook in itertools.chain(\n\u001b[0;32m    729\u001b[0m                 \u001b[0m_global_forward_hooks\u001b[0m\u001b[1;33m.\u001b[0m\u001b[0mvalues\u001b[0m\u001b[1;33m(\u001b[0m\u001b[1;33m)\u001b[0m\u001b[1;33m,\u001b[0m\u001b[1;33m\u001b[0m\u001b[1;33m\u001b[0m\u001b[0m\n",
      "\u001b[1;32m~\\AppData\\Local\\Temp/ipykernel_17096/3832302532.py\u001b[0m in \u001b[0;36mforward\u001b[1;34m(self, x0, alpha, beta, sigma, M, dt, dW)\u001b[0m\n\u001b[0;32m      7\u001b[0m         \u001b[0mX\u001b[0m \u001b[1;33m=\u001b[0m \u001b[0mx0\u001b[0m \u001b[1;33m*\u001b[0m \u001b[0mtorch\u001b[0m\u001b[1;33m.\u001b[0m\u001b[0mones\u001b[0m\u001b[1;33m(\u001b[0m\u001b[0mM\u001b[0m \u001b[1;33m+\u001b[0m \u001b[1;36m1\u001b[0m\u001b[1;33m)\u001b[0m\u001b[1;33m\u001b[0m\u001b[1;33m\u001b[0m\u001b[0m\n\u001b[0;32m      8\u001b[0m         \u001b[1;32mfor\u001b[0m \u001b[0mi\u001b[0m \u001b[1;32min\u001b[0m \u001b[0mrange\u001b[0m\u001b[1;33m(\u001b[0m\u001b[1;36m1\u001b[0m\u001b[1;33m,\u001b[0m \u001b[0mM\u001b[0m \u001b[1;33m+\u001b[0m \u001b[1;36m1\u001b[0m\u001b[1;33m)\u001b[0m\u001b[1;33m:\u001b[0m\u001b[1;33m\u001b[0m\u001b[1;33m\u001b[0m\u001b[0m\n\u001b[1;32m----> 9\u001b[1;33m             \u001b[0mX\u001b[0m\u001b[1;33m[\u001b[0m\u001b[0mi\u001b[0m\u001b[1;33m]\u001b[0m \u001b[1;33m=\u001b[0m \u001b[0mX\u001b[0m\u001b[1;33m[\u001b[0m\u001b[0mi\u001b[0m \u001b[1;33m-\u001b[0m \u001b[1;36m1\u001b[0m\u001b[1;33m]\u001b[0m \u001b[1;33m*\u001b[0m \u001b[1;33m(\u001b[0m\u001b[1;36m1\u001b[0m \u001b[1;33m+\u001b[0m \u001b[0malpha\u001b[0m \u001b[1;33m*\u001b[0m \u001b[0mdt\u001b[0m\u001b[1;33m)\u001b[0m \u001b[1;33m+\u001b[0m \u001b[0mbeta\u001b[0m \u001b[1;33m*\u001b[0m \u001b[0mdt\u001b[0m \u001b[1;33m*\u001b[0m \u001b[0mself\u001b[0m\u001b[1;33m.\u001b[0m\u001b[0mgamma\u001b[0m\u001b[1;33m[\u001b[0m\u001b[0mi\u001b[0m \u001b[1;33m-\u001b[0m \u001b[1;36m1\u001b[0m\u001b[1;33m]\u001b[0m \u001b[1;33m+\u001b[0m \u001b[0msigma\u001b[0m \u001b[1;33m*\u001b[0m \u001b[0mdW\u001b[0m\u001b[1;33m[\u001b[0m\u001b[0mi\u001b[0m \u001b[1;33m-\u001b[0m \u001b[1;36m1\u001b[0m\u001b[1;33m]\u001b[0m\u001b[1;33m\u001b[0m\u001b[1;33m\u001b[0m\u001b[0m\n\u001b[0m\u001b[0;32m     10\u001b[0m         \u001b[1;32mreturn\u001b[0m \u001b[0mX\u001b[0m\u001b[1;33m\u001b[0m\u001b[1;33m\u001b[0m\u001b[0m\n\u001b[0;32m     11\u001b[0m \u001b[1;31m#     def getgradpath(self, x0, alpha, beta, sigma, M, dt):\u001b[0m\u001b[1;33m\u001b[0m\u001b[1;33m\u001b[0m\u001b[1;33m\u001b[0m\u001b[0m\n",
      "\u001b[1;31mKeyboardInterrupt\u001b[0m: "
     ]
    }
   ],
   "source": [
    "torch.manual_seed(42)\n",
    "n_iteration = 50000\n",
    "lr = 0.01\n",
    "\n",
    "model = MKVSDElinear_approx(gamma)\n",
    "#model = model.to(device)\n",
    "#print(model.state_dict())\n",
    "\n",
    "loss_fn = torch.nn.MSELoss(reduction = 'sum')\n",
    "optimizer = torch.optim.SGD(model.parameters(),lr = lr, weight_decay = 0.0001)\n",
    "\n",
    "i = 0\n",
    "gamma_aver = 0\n",
    "\n",
    "while i < n_iteration:\n",
    "    \n",
    "    model.train()\n",
    "    dW = dt ** 0.5 * torch.randn(M)\n",
    "    path_pred = model(x0, alpha, beta, sigma, M, dt, dW)\n",
    "    final_loss = loss_fn(path_pred[1:], model.gamma)\n",
    "    \n",
    "    final_loss.backward()\n",
    "    optimizer.step()\n",
    "    optimizer.zero_grad()\n",
    "    \n",
    "    error = torch.abs(path_pred[1:] - model.gamma).detach().numpy()\n",
    "    \n",
    "    #print(\"No. of iteration: %i\" % i)\n",
    "    #print(f\"Estimated path: {path_pred}\")\n",
    "    # print(f\"Error in call price: {error}\")\n",
    "    gamma_iter = model.state_dict().get('gamma').numpy()\n",
    "#     print(f'gamma iter is {gamma_iter}')\n",
    "#     print(f'{model.state_dict()}')\n",
    "    gamma_aver = gamma_aver * i / (i + 1) + gamma_iter * 1 / (i + 1)\n",
    "    i += 1\n",
    "    \n",
    "print(model.state_dict())\n",
    "\n",
    "print(gamma_aver)"
   ]
  },
  {
   "cell_type": "code",
   "execution_count": 5,
   "id": "9e2d5435",
   "metadata": {},
   "outputs": [
    {
     "name": "stdout",
     "output_type": "stream",
     "text": [
      "Gamma with algorithm is \n",
      "[1. 0. 0. 0. 0. 0. 0. 0. 0. 0. 0. 0. 0. 0. 0. 0. 0. 0. 0. 0. 0. 0. 0. 0.\n",
      " 0. 0. 0. 0. 0. 0. 0. 0. 0. 0. 0. 0. 0. 0. 0. 0. 0. 0. 0. 0. 0. 0. 0. 0.\n",
      " 0. 0. 0. 0. 0. 0. 0. 0. 0. 0. 0. 0. 0. 0. 0. 0. 0. 0. 0. 0. 0. 0. 0. 0.\n",
      " 0. 0. 0. 0. 0. 0. 0. 0. 0. 0. 0. 0. 0. 0. 0. 0. 0. 0. 0. 0. 0. 0. 0. 0.\n",
      " 0. 0. 0. 0. 0.].\n",
      "\n",
      "Gamma benchmark is \n",
      "[1.         0.99960008 0.99920032 0.99880072 0.99840128 0.998002\n",
      " 0.99760288 0.99720392 0.99680511 0.99640647 0.99600799 0.99560967\n",
      " 0.9952115  0.9948135  0.99441565 0.99401796 0.99362044 0.99322307\n",
      " 0.99282586 0.99242881 0.99203191 0.99163518 0.99123861 0.99084219\n",
      " 0.99044593 0.99004983 0.98965389 0.98925811 0.98886249 0.98846702\n",
      " 0.98807171 0.98767656 0.98728157 0.98688674 0.98649206 0.98609754\n",
      " 0.98570318 0.98530898 0.98491494 0.98452105 0.98412732 0.98373375\n",
      " 0.98334033 0.98294708 0.98255398 0.98216103 0.98176825 0.98137562\n",
      " 0.98098315 0.98059083 0.98019867 0.97980667 0.97941483 0.97902314\n",
      " 0.97863161 0.97824024 0.97784902 0.97745796 0.97706705 0.9766763\n",
      " 0.97628571 0.97589527 0.97550499 0.97511487 0.9747249  0.97433509\n",
      " 0.97394543 0.97355593 0.97316659 0.9727774  0.97238837 0.97199949\n",
      " 0.97161077 0.9712222  0.97083379 0.97044553 0.97005743 0.96966949\n",
      " 0.9692817  0.96889406 0.96850658 0.96811926 0.96773209 0.96734507\n",
      " 0.96695821 0.9665715  0.96618495 0.96579856 0.96541231 0.96502623\n",
      " 0.96464029 0.96425451 0.96386889 0.96348342 0.9630981  0.96271294\n",
      " 0.96232793 0.96194308 0.96155838 0.96117383 0.96078944].\n",
      "\n"
     ]
    },
    {
     "data": {
      "text/plain": [
       "<matplotlib.legend.Legend at 0x216cb963820>"
      ]
     },
     "execution_count": 5,
     "metadata": {},
     "output_type": "execute_result"
    },
    {
     "data": {
      "image/png": "[encoded data removed]",
      "text/plain": [
       "<Figure size 1440x720 with 1 Axes>"
      ]
     },
     "metadata": {
      "needs_background": "light"
     },
     "output_type": "display_data"
    }
   ],
   "source": [
    "np.insert(gamma_aver, 0, x0)\n",
    "gamma_aver_2 = np.zeros(M + 1)\n",
    "gamma_aver_2[0] = x0\n",
    "gamma_aver_2[1:] = gamma_aver \n",
    "\n",
    "#print(gamma_aver_2)\n",
    "\n",
    "t_benchmark = np.linspace(0,T,M + 1)\n",
    "\n",
    "t_sgd = np.linspace(0,T,M+1)\n",
    "\n",
    "gamma_benchmark = np.exp((alpha + beta) * t_benchmark)\n",
    "\n",
    "print(f'Gamma with algorithm is \\n{gamma_aver_2}.\\n')\n",
    "\n",
    "print(f'Gamma benchmark is \\n{gamma_benchmark}.\\n')\n",
    "\n",
    "fig, ax = plt.subplots(1, 1, figsize = (20, 10), tight_layout=True)\n",
    "\n",
    "ax.set_title(r\"Dynamics of the $\\gamma$-s\", fontsize = 15)\n",
    "ax.set_xlabel(r'$t$',fontsize = 15)\n",
    "ax.set_ylabel(r'$\\gamma_t$',fontsize = 15)\n",
    "ax.tick_params(axis='both', which='major', labelsize = 20)\n",
    "ax.tick_params(axis='both', which='minor', labelsize = 20)\n",
    "\n",
    "ax.plot(t_benchmark, gamma_benchmark, label = 'benchmark')\n",
    "ax.plot(t_sgd, gamma_aver_2, label = 'algorithm')\n",
    "\n",
    "ax.legend(loc = 'best', fontsize = 20)"
   ]
  },
  {
   "cell_type": "code",
   "execution_count": null,
   "id": "6751f46c",
   "metadata": {},
   "outputs": [],
   "source": []
  }
 ],
 "metadata": {
  "kernelspec": {
   "display_name": "Python 3 (ipykernel)",
   "language": "python",
   "name": "python3"
  },
  "language_info": {
   "codemirror_mode": {
    "name": "ipython",
    "version": 3
   },
   "file_extension": ".py",
   "mimetype": "text/x-python",
   "name": "python",
   "nbconvert_exporter": "python",
   "pygments_lexer": "ipython3",
   "version": "3.8.8"
  }
 },
 "nbformat": 4,
 "nbformat_minor": 5
}
