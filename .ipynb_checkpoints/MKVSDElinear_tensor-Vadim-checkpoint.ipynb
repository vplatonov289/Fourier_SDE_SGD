{
 "cells": [
  {
   "cell_type": "markdown",
   "id": "a84cd018",
   "metadata": {},
   "source": [
    "### Generate sample paths of a McKean-Vlasov SDE using PyTorch"
   ]
  },
  {
   "cell_type": "markdown",
   "id": "7d4a97b3",
   "metadata": {},
   "source": [
    "Consider McKean-Vlasov SDE of the following form:\n",
    "\n",
    "$$ \n",
    "\\textrm{d}X_t = (\\alpha \\, X_t + \\beta \\, \\mathbb{E}[X_t]) \\textrm{d} t + \\sigma \\, \\textrm{d} W_t, \\quad X_0 = x_0.\n",
    "$$\n",
    "\n",
    "We approximate the solution $X_t, t \\in [0,T]$ by using the following \n",
    "\n",
    "$$ \n",
    "\\textrm{d}X_t = \\bigl(\\alpha \\, X_t + \\beta \\, \\sum^M_{i=1} \\gamma_i \\mathbf{1}_{[t_{i-1},t_i[}(t) \\bigr) \\textrm{d} t + \\sigma \\, \\textrm{d} W_t, \\quad X_0 = x_0,\n",
    "$$\n",
    "\n",
    "where we approximate $\\mathbb{E}[X_t]$ for $t \\in [t_{i-1},t_i[$ by a single constant $\\gamma_i.$ Set $t_0 = 0$ and $t_M = T.$\n"
   ]
  },
  {
   "cell_type": "code",
   "execution_count": 36,
   "id": "bd2642a9",
   "metadata": {},
   "outputs": [],
   "source": [
    "import torch\n",
    "import random\n",
    "from torch import optim, nn\n",
    "import math\n",
    "import matplotlib.pyplot as plt\n",
    "from torchviz import make_dot"
   ]
  },
  {
   "cell_type": "code",
   "execution_count": 37,
   "id": "6ea2074b",
   "metadata": {},
   "outputs": [],
   "source": [
    "device = torch.device(\"cuda:0\" if torch.cuda.is_available() else \"cpu\")"
   ]
  },
  {
   "cell_type": "code",
   "execution_count": 42,
   "id": "c2333b26",
   "metadata": {},
   "outputs": [
    {
     "name": "stdout",
     "output_type": "stream",
     "text": [
      "torch.Size([10, 6])\n",
      "tensor([[0.0000, 0.0120, 0.0238, 0.0353, 0.0466, 0.0576],\n",
      "        [0.0000, 0.0120, 0.0238, 0.0353, 0.0466, 0.0576],\n",
      "        [0.0000, 0.0120, 0.0238, 0.0353, 0.0466, 0.0576],\n",
      "        [0.0000, 0.0120, 0.0238, 0.0353, 0.0466, 0.0576],\n",
      "        [0.0000, 0.0120, 0.0238, 0.0353, 0.0466, 0.0576]])\n"
     ]
    }
   ],
   "source": [
    "class MKVSDElinear_approx(torch.nn.Module):\n",
    "    def __init__(self, gamma):\n",
    "        super().__init__()\n",
    "        # wrap gamma with nn.Parameter to compute gradients with respect to it using autograd\n",
    "        self.gamma = nn.Parameter(gamma)\n",
    "    def getpath(self, x0, alpha, beta, sigma, M, N, dt, dW): \n",
    "        X = x0 * torch.ones(N, M + 1)\n",
    "        X[:, 1:M+1] = X[:, 0:M] * (1 + alpha * dt) + beta * dt * self.gamma + sigma * dW\n",
    "        return X\n",
    "    def getgradpath(self, x0, alpha, beta, sigma, M, N, dt):\n",
    "        xi = torch.zeros(N, M, M + 1) # N paths with M gradient values based on size of gamma, and M + 1 values\n",
    "        for i in range(M):\n",
    "            xi[:,:,i+1] += xi[:,:,i] * (1 + alpha * dt) + beta * dt\n",
    "        return xi\n",
    "\n",
    "# seed initialise\n",
    "torch.manual_seed(42)\n",
    "\n",
    "# model parameters\n",
    "M = 5  # number of discretisation steps\n",
    "N = 10 # number of sample path\n",
    "x0 = 1\n",
    "sigma = 1\n",
    "alpha = - 0.5\n",
    "beta = 0.3\n",
    "T = 0.2\n",
    "dt = T / M\n",
    "\n",
    "# simulate Brownian increments\n",
    "dW = dt**0.5 * torch.randn(size=(N, M))\n",
    "# generate random values for gamma initialisation\n",
    "gamma = torch.randn(M, requires_grad = True, dtype=torch.float, device=device)\n",
    "\n",
    "MKVSDE_Xapprox = MKVSDElinear_approx(gamma).to(device)\n",
    "MKVSDE_Xapproxpath = MKVSDE_Xapprox.getpath(x0, alpha, beta, sigma, M, N, dt, dW)\n",
    "MKVSDE_Xapprox_gradpath = MKVSDE_Xapprox.getgradpath(x0, alpha, beta, sigma, M, N, dt) \n",
    "\n",
    "print(MKVSDE_Xapproxpath.size())\n",
    "print(MKVSDE_Xapprox_gradpath[1,:,:])\n",
    "# MKVSDE_Xapproxpath.backward(torch.ones_like(gamma))\n"
   ]
  },
  {
   "cell_type": "code",
   "execution_count": 52,
   "id": "565c172d",
   "metadata": {},
   "outputs": [
    {
     "name": "stdout",
     "output_type": "stream",
     "text": [
      "tensor([2., 2., 3., 5., 4., 5., 6., 7.])\n"
     ]
    }
   ],
   "source": [
    "x = torch.Tensor([2, 1, 2, 3, 4, 5, 6, 7])\n",
    "x[1:4] = torch.cumsum(x[0:3], dim=0)\n",
    "print(x)"
   ]
  },
  {
   "cell_type": "code",
   "execution_count": null,
   "id": "9e2d5435",
   "metadata": {},
   "outputs": [],
   "source": []
  }
 ],
 "metadata": {
  "kernelspec": {
   "display_name": "Python 3 (ipykernel)",
   "language": "python",
   "name": "python3"
  },
  "language_info": {
   "codemirror_mode": {
    "name": "ipython",
    "version": 3
   },
   "file_extension": ".py",
   "mimetype": "text/x-python",
   "name": "python",
   "nbconvert_exporter": "python",
   "pygments_lexer": "ipython3",
   "version": "3.8.8"
  }
 },
 "nbformat": 4,
 "nbformat_minor": 5
}
