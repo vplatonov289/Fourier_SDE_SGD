{
 "cells": [
  {
   "cell_type": "markdown",
   "id": "bee2f2dd",
   "metadata": {},
   "source": [
    "# Getting the optimal local Fourier approximation for MV-SDE"
   ]
  },
  {
   "cell_type": "markdown",
   "id": "4dbfa0d5",
   "metadata": {},
   "source": [
    "add description here"
   ]
  },
  {
   "cell_type": "markdown",
   "id": "00f14b8d",
   "metadata": {},
   "source": [
    "### Initialising libraries"
   ]
  },
  {
   "cell_type": "code",
   "execution_count": 1,
   "id": "df3054d0",
   "metadata": {},
   "outputs": [],
   "source": [
    "import numpy as np\n",
    "import matplotlib.pyplot as plt"
   ]
  },
  {
   "cell_type": "markdown",
   "id": "62963979",
   "metadata": {},
   "source": [
    "### We introduce the class to store the McKean-Vlasov SDE of Kuramoto's type."
   ]
  },
  {
   "cell_type": "code",
   "execution_count": 2,
   "id": "a654085a",
   "metadata": {},
   "outputs": [],
   "source": [
    "def simulate_dW(N,T):\n",
    "    return np.random.normal(size = N, scale = np.sqrt(T/N[1]))"
   ]
  },
  {
   "cell_type": "code",
   "execution_count": 44,
   "id": "d0d4da1a",
   "metadata": {},
   "outputs": [],
   "source": [
    "class SDE_Kuramoto_MV ():\n",
    "    \n",
    "    #### Check the correct passing of the arguments\n",
    "    \n",
    "    def __init__(self, x_0 = 0, sigma = 1, dW_t = simulate_dW((100,100),1),\n",
    "                 T = 1, n_discr = 100, n_part = 100):\n",
    "        self.x_0 = np.random.normal(size = n_part, scale = 0.2)\n",
    "        self.sigma = sigma\n",
    "        self.T = T\n",
    "        self.n_discr = n_discr\n",
    "        self.n_part = n_part\n",
    "        self.dt = self.T / self.n_discr\n",
    "        self.dW_t = dW_t\n",
    "        self.x = self.get_path()\n",
    "        \n",
    "    #### Simulates the path according to Euler algorithm    \n",
    "    def get_path(self):\n",
    "        x = np.zeros((self.n_part,self.n_discr))\n",
    "\n",
    "        for i in range(self.n_part):\n",
    "            x[i][0] = self.x_0[i]\n",
    "\n",
    "        for j in range(self.n_part):\n",
    "            for i in range(1,self.n_discr):\n",
    "\n",
    "#             print((np.cos(x[1][i - 1]) * np.sin(x[:][i - 1].mean()) \n",
    "#                                       - np.sin(x[1][i - 1]) * np.cos(x[1][i - 1]).mean()) * dt \n",
    "#              + self.sigma * self.dW_t[1][i - 1])\n",
    "                print(j,i)\n",
    "#             print(x[:][i].shape)\n",
    "                x[j][i] = x[j][i - 1] + (np.cos(x[j][i - 1]) * np.sin(x[:][i - 1].mean()) \n",
    "                                     - np.sin(x[j][i - 1]) * np.cos(x[j][i - 1].mean())) * self.dt \n",
    "                + self.sigma * self.dW_t[j][i - 1]\n",
    "        return x\n",
    "    \n",
    "    #### Plots the path\n",
    "    def plot_path(self):\n",
    "        t = np.linspace(0, self.T, self.n_discr)\n",
    "        \n",
    "        fig, ax = plt.subplots(1,1,figsize=(15, 10), tight_layout=True)\n",
    "\n",
    "        ax.set_title(r\"Dynamics of the SDE\", fontsize = 15)\n",
    "        ax.set_xlabel(r'$t$',fontsize = 15)\n",
    "        ax.set_ylabel(r'$X_t$',fontsize = 15)\n",
    "        ax.tick_params(axis='both', which='major', labelsize = 20)\n",
    "        ax.tick_params(axis='both', which='minor', labelsize = 20)\n",
    "        for i in range(self.n_part):\n",
    "            ax.plot(t, self.x[i][:])\n",
    "        \n",
    "        plt.show()\n",
    "\n",
    "        #ksi = self.get_path_for_gradient_SDE()"
   ]
  },
  {
   "cell_type": "code",
   "execution_count": 45,
   "id": "d0d1c9a3",
   "metadata": {},
   "outputs": [
    {
     "name": "stdout",
     "output_type": "stream",
     "text": [
      "0 1\n",
      "0 2\n",
      "0 3\n",
      "0 4\n",
      "0 5\n",
      "0 6\n",
      "0 7\n",
      "0 8\n",
      "0 9\n",
      "0 10\n",
      "0 11\n"
     ]
    },
    {
     "ename": "IndexError",
     "evalue": "index 10 is out of bounds for axis 0 with size 10",
     "output_type": "error",
     "traceback": [
      "\u001b[0;31m---------------------------------------------------------------------------\u001b[0m",
      "\u001b[0;31mIndexError\u001b[0m                                Traceback (most recent call last)",
      "\u001b[0;32m/var/folders/z3/gm8lzhqx7hn56p5x5cvfthsr0000gn/T/ipykernel_5285/2895879077.py\u001b[0m in \u001b[0;36m<module>\u001b[0;34m\u001b[0m\n\u001b[1;32m     17\u001b[0m \u001b[0;34m\u001b[0m\u001b[0m\n\u001b[1;32m     18\u001b[0m \u001b[0;31m# Initialise the class and render the dynamics\u001b[0m\u001b[0;34m\u001b[0m\u001b[0;34m\u001b[0m\u001b[0;34m\u001b[0m\u001b[0m\n\u001b[0;32m---> 19\u001b[0;31m \u001b[0mX\u001b[0m \u001b[0;34m=\u001b[0m \u001b[0mSDE_Kuramoto_MV\u001b[0m\u001b[0;34m(\u001b[0m\u001b[0mx_0\u001b[0m\u001b[0;34m,\u001b[0m \u001b[0msigma\u001b[0m\u001b[0;34m,\u001b[0m \u001b[0mdW_t\u001b[0m\u001b[0;34m,\u001b[0m \u001b[0mT\u001b[0m\u001b[0;34m,\u001b[0m \u001b[0mn_discr\u001b[0m\u001b[0;34m,\u001b[0m \u001b[0mn_part\u001b[0m\u001b[0;34m)\u001b[0m\u001b[0;34m\u001b[0m\u001b[0;34m\u001b[0m\u001b[0m\n\u001b[0m\u001b[1;32m     20\u001b[0m \u001b[0mX\u001b[0m\u001b[0;34m.\u001b[0m\u001b[0mplot_path\u001b[0m\u001b[0;34m(\u001b[0m\u001b[0;34m)\u001b[0m\u001b[0;34m\u001b[0m\u001b[0;34m\u001b[0m\u001b[0m\n",
      "\u001b[0;32m/var/folders/z3/gm8lzhqx7hn56p5x5cvfthsr0000gn/T/ipykernel_5285/2894215501.py\u001b[0m in \u001b[0;36m__init__\u001b[0;34m(self, x_0, sigma, dW_t, T, n_discr, n_part)\u001b[0m\n\u001b[1;32m     12\u001b[0m         \u001b[0mself\u001b[0m\u001b[0;34m.\u001b[0m\u001b[0mdt\u001b[0m \u001b[0;34m=\u001b[0m \u001b[0mself\u001b[0m\u001b[0;34m.\u001b[0m\u001b[0mT\u001b[0m \u001b[0;34m/\u001b[0m \u001b[0mself\u001b[0m\u001b[0;34m.\u001b[0m\u001b[0mn_discr\u001b[0m\u001b[0;34m\u001b[0m\u001b[0;34m\u001b[0m\u001b[0m\n\u001b[1;32m     13\u001b[0m         \u001b[0mself\u001b[0m\u001b[0;34m.\u001b[0m\u001b[0mdW_t\u001b[0m \u001b[0;34m=\u001b[0m \u001b[0mdW_t\u001b[0m\u001b[0;34m\u001b[0m\u001b[0;34m\u001b[0m\u001b[0m\n\u001b[0;32m---> 14\u001b[0;31m         \u001b[0mself\u001b[0m\u001b[0;34m.\u001b[0m\u001b[0mx\u001b[0m \u001b[0;34m=\u001b[0m \u001b[0mself\u001b[0m\u001b[0;34m.\u001b[0m\u001b[0mget_path\u001b[0m\u001b[0;34m(\u001b[0m\u001b[0;34m)\u001b[0m\u001b[0;34m\u001b[0m\u001b[0;34m\u001b[0m\u001b[0m\n\u001b[0m\u001b[1;32m     15\u001b[0m \u001b[0;34m\u001b[0m\u001b[0m\n\u001b[1;32m     16\u001b[0m     \u001b[0;31m#### Simulates the path according to Euler algorithm\u001b[0m\u001b[0;34m\u001b[0m\u001b[0;34m\u001b[0m\u001b[0;34m\u001b[0m\u001b[0m\n",
      "\u001b[0;32m/var/folders/z3/gm8lzhqx7hn56p5x5cvfthsr0000gn/T/ipykernel_5285/2894215501.py\u001b[0m in \u001b[0;36mget_path\u001b[0;34m(self)\u001b[0m\n\u001b[1;32m     29\u001b[0m                 \u001b[0mprint\u001b[0m\u001b[0;34m(\u001b[0m\u001b[0mj\u001b[0m\u001b[0;34m,\u001b[0m\u001b[0mi\u001b[0m\u001b[0;34m)\u001b[0m\u001b[0;34m\u001b[0m\u001b[0;34m\u001b[0m\u001b[0m\n\u001b[1;32m     30\u001b[0m \u001b[0;31m#             print(x[:][i].shape)\u001b[0m\u001b[0;34m\u001b[0m\u001b[0;34m\u001b[0m\u001b[0;34m\u001b[0m\u001b[0m\n\u001b[0;32m---> 31\u001b[0;31m                 x[j][i] = x[j][i - 1] + (np.cos(x[j][i - 1]) * np.sin(x[:][i - 1].mean()) \n\u001b[0m\u001b[1;32m     32\u001b[0m                                      - np.sin(x[j][i - 1]) * np.cos(x[j][i - 1].mean())) * self.dt \n\u001b[1;32m     33\u001b[0m                 \u001b[0;34m+\u001b[0m \u001b[0mself\u001b[0m\u001b[0;34m.\u001b[0m\u001b[0msigma\u001b[0m \u001b[0;34m*\u001b[0m \u001b[0mself\u001b[0m\u001b[0;34m.\u001b[0m\u001b[0mdW_t\u001b[0m\u001b[0;34m[\u001b[0m\u001b[0mj\u001b[0m\u001b[0;34m]\u001b[0m\u001b[0;34m[\u001b[0m\u001b[0mi\u001b[0m \u001b[0;34m-\u001b[0m \u001b[0;36m1\u001b[0m\u001b[0;34m]\u001b[0m\u001b[0;34m\u001b[0m\u001b[0;34m\u001b[0m\u001b[0m\n",
      "\u001b[0;31mIndexError\u001b[0m: index 10 is out of bounds for axis 0 with size 10"
     ]
    }
   ],
   "source": [
    "# Discretisation step to render the SDE and Gamma\n",
    "\n",
    "# Initialise the number of Euler discretisation steps and time horizon\n",
    "n_discr = 100\n",
    "T = 1\n",
    "dt = T / n_discr\n",
    "\n",
    "# Initialise the number of particles\n",
    "n_part = 10\n",
    "\n",
    "# Initialise the starting value and diffusion constant\n",
    "x_0 = 1\n",
    "sigma = 1\n",
    "\n",
    "# Get the Wiener increments\n",
    "dW_t = simulate_dW((n_part,n_discr),T)\n",
    "\n",
    "# Initialise the class and render the dynamics\n",
    "X = SDE_Kuramoto_MV(x_0, sigma, dW_t, T, n_discr, n_part)\n",
    "X.plot_path()"
   ]
  },
  {
   "cell_type": "markdown",
   "id": "0c1201e6",
   "metadata": {},
   "source": [
    "### We introduce a class to store the approximation of Kuramoto MV-SDE's and perform the respective updates"
   ]
  },
  {
   "cell_type": "code",
   "execution_count": null,
   "id": "38e76ac3",
   "metadata": {},
   "outputs": [],
   "source": [
    "class SDE_Kuramoto_appr ():\n",
    "    \n",
    "    ### Check the correct passing of the arguments\n",
    "    \n",
    "    def __init__(self, x_0 = 0, b = np.identity, sigma = 1, \n",
    "                 gamma = np.random.uniform(low = -0.1, high = 0.1, size = (2,100)), \n",
    "                 dW_t = simulate_dW((1,100),1),  T = 1, n_discr = 100):\n",
    "        self.x_0 = x_0\n",
    "        self.b = b\n",
    "        self.sigma = sigma\n",
    "        self.T = T\n",
    "        self.n_discr = n_discr\n",
    "        self.dt = self.T / self.n_discr\n",
    "        self.gamma = gamma\n",
    "        self.dW_t = dW_t\n",
    "        self.x = self.get_path()\n",
    "        self.ksi = self.get_path_for_gradient_SDE()\n",
    "        \n",
    "        \n",
    "    #### Simulates the path according to Euler algorithm    \n",
    "    def get_path(self):\n",
    "        x = np.zeros(self.n_discr)\n",
    "        x[0] = self.x_0 \n",
    "        for i in range(1,self.n_discr):\n",
    "            x[i] = x[i - 1] + (gamma[0][i - 1] * np.sin(x[i - 1]) - \n",
    "                               gamma[1][i - 1] * np.cos(x[i - 1])) * self.dt + sigma * self.dW_t[i - 1]\n",
    "            \n",
    "        return x\n",
    "\n",
    "    def get_path_for_gradient_SDE(self):\n",
    "        ksi = np.zeros((2,self.n_discr))\n",
    "\n",
    "        for i in range(1,self.n_discr):\n",
    "            ksi[0][i] = ksi[0][i - 1] + (np.sin(self.x[i - 1]) + \n",
    "                                   gamma[0][i - 1] * np.cos(self.x[i - 1]) * ksi[0][i - 1] - \n",
    "                                   gamma[1][i - 1] * np.sin(self.x[i - 1]) * ksi[0][i - 1]) * self.dt + sigma * self.dW_t[i - 1]\n",
    "            ksi[1][i] = ksi[1][i - 1] + (np.cos(self.x[i - 1]) + \n",
    "                                   gamma[0][i - 1] * np.cos(self.x[i - 1]) * ksi[1][i - 1] - \n",
    "                                   gamma[1][i - 1] * np.sin(self.x[i - 1]) * ksi[1][i - 1]) * self.dt + sigma * self.dW_t[i - 1]\n",
    "        \n",
    "        return ksi\n",
    "    \n",
    "    #### Plots the path\n",
    "    def plot_path(self):\n",
    "        t = np.linspace(0, self.T, self.n_discr)\n",
    "        \n",
    "        fig, ax = plt.subplots(1,1,figsize=(15, 10), tight_layout=True)\n",
    "\n",
    "        ax.set_title(r\"Dynamics of the SDE\", fontsize = 15)\n",
    "        ax.set_xlabel(r'$t$',fontsize=15)\n",
    "        ax.set_ylabel(r'$X_t$',fontsize=15)\n",
    "        ax.tick_params(axis='both', which='major', labelsize = 20)\n",
    "        ax.tick_params(axis='both', which='minor', labelsize = 20)\n",
    "        ax.plot(t, self.x)\n",
    "        \n",
    "        plt.show()\n",
    "        \n",
    "    def plot_grad_path(self):\n",
    "        t = np.linspace(0, self.T, self.n_discr)\n",
    "        \n",
    "        fig, ax = plt.subplots(1,1,figsize=(15, 10), tight_layout=True)\n",
    "\n",
    "        ax.set_title(r\"Dynamics of the gradient SDE\", fontsize = 15)\n",
    "        ax.set_xlabel(r'$t$',fontsize=15)\n",
    "        ax.set_ylabel(r'$\\xi_t$',fontsize=15)\n",
    "        ax.tick_params(axis='both', which='major', labelsize = 20)\n",
    "        ax.tick_params(axis='both', which='minor', labelsize = 20)\n",
    "        ax.plot(t, self.ksi[0])\n",
    "        \n",
    "        plt.show()\n",
    "        \n",
    "    def update_gamma(self, gamma):\n",
    "        self.gamma = gamma\n",
    "        x = self.get_path()\n",
    "        #ksi = self.get_path_for_gradient_SDE()"
   ]
  },
  {
   "cell_type": "code",
   "execution_count": null,
   "id": "ab7af51f",
   "metadata": {
    "scrolled": false
   },
   "outputs": [],
   "source": [
    "# Discretisation step to render the SDE and Gamma\n",
    "\n",
    "# Initialisse the number of Euler discretisation steps and time horizon\n",
    "\n",
    "n_discr = 1000\n",
    "T = 1\n",
    "dt = T / n_discr\n",
    "\n",
    "\n",
    "# Initialise the starting value, drift function, starting guess for gamma and diffusion constant\n",
    "x_0 = 1\n",
    "b = np.sin\n",
    "gamma = np.random.uniform(low = - 0.1, high = 0.1, size = (2,n_discr))\n",
    "sigma = 1\n",
    "\n",
    "# Get the Wiener increments\n",
    "dW_t = simulate_dW((n_discr,1),T)\n",
    "\n",
    "# Initialise the class and render the dynamics\n",
    "X = SDE_Kuramoto_appr(x_0, b, sigma, gamma, dW_t, T, n_discr)\n",
    "X.plot_path()\n",
    "#X.plot_grad_path()\n",
    "\n",
    "dW_t = simulate_dW((100,n_discr),T)\n",
    "\n",
    "X = SDE_Kuramoto_MV(x_0, b, sigma, dW_t, T, n_discr, n_part = 100)\n",
    "X.plot_path()"
   ]
  },
  {
   "cell_type": "markdown",
   "id": "e367fb08",
   "metadata": {},
   "source": [
    "## Algorithm"
   ]
  },
  {
   "cell_type": "code",
   "execution_count": null,
   "id": "ed56c6fc",
   "metadata": {},
   "outputs": [],
   "source": [
    "eta = 0.1\n",
    "N_iter = 100\n",
    "\n",
    "# Initialise the number of Euler discretisation steps and time horizon\n",
    "\n",
    "n_discr = 1000\n",
    "T = 100\n",
    "dt = T / n_discr\n",
    "\n",
    "# Initialise the starting value, drift function, starting guess for gamma and diffusion constant\n",
    "x_0 = 1\n",
    "b = np.sin\n",
    "sigma = 1\n",
    "\n",
    "gamma = np.random.uniform(low = - 0.1, high = 0.1, size = (2,n_discr))\n",
    "\n",
    "err = np.inf\n",
    "eps = 0\n",
    "i = 0\n",
    "\n",
    "\n",
    "while (err > eps) and (i < N_iter):\n",
    "    dW_t_1 = simulate_dW(n_discr,T)\n",
    "    dW_t_2 = simulate_dW(n_discr,T)\n",
    "    X_1 = SDE_Kuramoto_appr(x_0, b, sigma, gamma, dW_t_1, T, n_discr)\n",
    "    X_2 = SDE_Kuramoto_appr(x_0, b, sigma, gamma, dW_t_2, T, n_discr)\n",
    "    grad = np.zeros((2,n_discr))\n",
    "    grad[0] = np.sin(X.x)\n",
    "    grad[1] = -np.cos(X.x)\n",
    "    \n",
    "    gamma = gamma - grad \n",
    "    \n",
    "    i += 1"
   ]
  },
  {
   "cell_type": "code",
   "execution_count": null,
   "id": "6faf1dbe",
   "metadata": {},
   "outputs": [],
   "source": []
  }
 ],
 "metadata": {
  "kernelspec": {
   "display_name": "Python 3 (ipykernel)",
   "language": "python",
   "name": "python3"
  },
  "language_info": {
   "codemirror_mode": {
    "name": "ipython",
    "version": 3
   },
   "file_extension": ".py",
   "mimetype": "text/x-python",
   "name": "python",
   "nbconvert_exporter": "python",
   "pygments_lexer": "ipython3",
   "version": "3.9.4"
  }
 },
 "nbformat": 4,
 "nbformat_minor": 5
}
