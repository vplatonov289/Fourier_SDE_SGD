{
 "cells": [
  {
   "cell_type": "markdown",
   "id": "bee2f2dd",
   "metadata": {},
   "source": [
    "# Getting the optimal local Fourier approximation for MV-SDE"
   ]
  },
  {
   "cell_type": "markdown",
   "id": "4dbfa0d5",
   "metadata": {},
   "source": [
    "add description here"
   ]
  },
  {
   "cell_type": "markdown",
   "id": "00f14b8d",
   "metadata": {},
   "source": [
    "### Initialising libraries"
   ]
  },
  {
   "cell_type": "code",
   "execution_count": 5,
   "id": "df3054d0",
   "metadata": {},
   "outputs": [],
   "source": [
    "import numpy as np\n",
    "import matplotlib.pyplot as plt\n",
    "\n",
    "import time\n",
    "\n",
    "from brownian_motion import simulate_dW, simulate_dW_1d, transform_dW\n",
    "from linear_true import SDE_Linear_MV\n",
    "from linear_appr import SDE_Linear_MV_appr\n",
    "from algorithm import SGD_MV"
   ]
  },
  {
   "cell_type": "markdown",
   "id": "62963979",
   "metadata": {},
   "source": [
    "## McKean-Vlasov SDE of Kuramoto's type."
   ]
  },
  {
   "cell_type": "markdown",
   "id": "2a597dd0",
   "metadata": {},
   "source": [
    "### We initialise the main class and test it."
   ]
  },
  {
   "cell_type": "markdown",
   "id": "aff404af",
   "metadata": {},
   "source": [
    "We initialise the class of MV-SDE that admits the following dynamics:\n",
    "\n",
    "$$\n",
    "\\text{d}X_t = (\\alpha X_t + \\beta~\\mathbb{E}[X_t])\\text{d}t + \\sigma ~\\text{d}W_t, \\quad X_0 = x_0 \\in \\mathbb{R}.\n",
    "$$\n",
    "\n",
    "We know that $$\\mathbb{E}[X_t] = x_0\\exp((\\alpha+\\beta)t).$$\n",
    "\n",
    "We approximate using the standard SDE\n",
    "\n",
    "$$\n",
    "\\text{d}X^N_t = \\big(\\alpha X_t + \\beta\\sum_{i=1}^N\\gamma_i \\mathbb{1}_{[t_{i-1},t_i)}(t)\\big)\\text{d}t + \\sigma ~\\text{d}W_t, \\quad X_0 = x_0 \\in \\mathbb{R}.\n",
    "$$\n",
    "\n",
    "The gradient path $\\xi^i :=\\partial_{\\gamma_i}X$ then\n",
    "\n",
    "$$\n",
    "\\text{d}\\xi^i_t = \\big(\\alpha \\xi_t + \\beta\\mathbb{1}_{[t_{i-1},t_i)}(t)\\big)\\text{d}t, \\quad \\xi_0 = 0 \\in \\mathbb{R}.\n",
    "$$"
   ]
  },
  {
   "cell_type": "markdown",
   "id": "0c1201e6",
   "metadata": {},
   "source": [
    "## ***write on approximation***"
   ]
  },
  {
   "cell_type": "markdown",
   "id": "c7b4e432",
   "metadata": {},
   "source": [
    "## Testing the variance $\\gamma$ obtained from the algorithm."
   ]
  },
  {
   "cell_type": "code",
   "execution_count": 6,
   "id": "83733e41",
   "metadata": {
    "scrolled": false
   },
   "outputs": [
    {
     "ename": "KeyboardInterrupt",
     "evalue": "",
     "output_type": "error",
     "traceback": [
      "\u001b[0;31m---------------------------------------------------------------------------\u001b[0m",
      "\u001b[0;31mKeyboardInterrupt\u001b[0m                         Traceback (most recent call last)",
      "\u001b[0;32m/var/folders/z3/gm8lzhqx7hn56p5x5cvfthsr0000gn/T/ipykernel_88007/3866539553.py\u001b[0m in \u001b[0;36m<module>\u001b[0;34m\u001b[0m\n\u001b[1;32m     31\u001b[0m \u001b[0;34m\u001b[0m\u001b[0m\n\u001b[1;32m     32\u001b[0m \u001b[0;32mfor\u001b[0m \u001b[0mi\u001b[0m \u001b[0;32min\u001b[0m \u001b[0mrange\u001b[0m\u001b[0;34m(\u001b[0m\u001b[0;36m10\u001b[0m\u001b[0;34m)\u001b[0m\u001b[0;34m:\u001b[0m\u001b[0;34m\u001b[0m\u001b[0;34m\u001b[0m\u001b[0m\n\u001b[0;32m---> 33\u001b[0;31m     \u001b[0mgamma\u001b[0m \u001b[0;34m=\u001b[0m \u001b[0mSGD_linear\u001b[0m\u001b[0;34m.\u001b[0m\u001b[0mlinear_get_gamma\u001b[0m\u001b[0;34m(\u001b[0m\u001b[0mn_discr\u001b[0m \u001b[0;34m=\u001b[0m \u001b[0mn_discr_test\u001b[0m\u001b[0;34m,\u001b[0m \u001b[0meta\u001b[0m \u001b[0;34m=\u001b[0m \u001b[0;36m0.05\u001b[0m\u001b[0;34m,\u001b[0m \u001b[0mgamma\u001b[0m \u001b[0;34m=\u001b[0m \u001b[0mgamma_starting\u001b[0m\u001b[0;34m,\u001b[0m \u001b[0meps\u001b[0m \u001b[0;34m=\u001b[0m \u001b[0;36m1e-5\u001b[0m\u001b[0;34m,\u001b[0m \u001b[0mN_iter\u001b[0m \u001b[0;34m=\u001b[0m \u001b[0mN_iter\u001b[0m\u001b[0;34m,\u001b[0m \u001b[0mcyclic_lr\u001b[0m \u001b[0;34m=\u001b[0m \u001b[0;32mTrue\u001b[0m\u001b[0;34m)\u001b[0m\u001b[0;34m\u001b[0m\u001b[0;34m\u001b[0m\u001b[0m\n\u001b[0m\u001b[1;32m     34\u001b[0m     \u001b[0mprint\u001b[0m\u001b[0;34m(\u001b[0m\u001b[0mgamma\u001b[0m\u001b[0;34m)\u001b[0m\u001b[0;34m\u001b[0m\u001b[0;34m\u001b[0m\u001b[0m\n\u001b[1;32m     35\u001b[0m     \u001b[0mf\u001b[0m\u001b[0;34m.\u001b[0m\u001b[0mwrite\u001b[0m\u001b[0;34m(\u001b[0m\u001b[0;34mf'\\tGamma for n_discr = {n_discr_test}, eta = {0.05}, eps = {1e-10}, N_iter = {N_iter}, cyclic_lr = {True}, is \\n\\n \\t\\t{gamma}\\n\\n'\u001b[0m\u001b[0;34m)\u001b[0m\u001b[0;34m\u001b[0m\u001b[0;34m\u001b[0m\u001b[0m\n",
      "\u001b[0;32m~/Documents/GitHub/Fourier_SDE_SGD/algorithm.py\u001b[0m in \u001b[0;36mlinear_get_gamma\u001b[0;34m(self, n_discr, eta, gamma, eps, N_iter, cyclic_lr)\u001b[0m\n\u001b[1;32m    125\u001b[0m             \u001b[0;32mfor\u001b[0m \u001b[0mi_1\u001b[0m \u001b[0;32min\u001b[0m \u001b[0mrange\u001b[0m\u001b[0;34m(\u001b[0m\u001b[0mn_discr\u001b[0m\u001b[0;34m)\u001b[0m\u001b[0;34m:\u001b[0m\u001b[0;34m\u001b[0m\u001b[0;34m\u001b[0m\u001b[0m\n\u001b[1;32m    126\u001b[0m                 \u001b[0;32mfor\u001b[0m \u001b[0mi_2\u001b[0m \u001b[0;32min\u001b[0m \u001b[0mrange\u001b[0m\u001b[0;34m(\u001b[0m\u001b[0mn_discr\u001b[0m\u001b[0;34m)\u001b[0m\u001b[0;34m:\u001b[0m\u001b[0;34m\u001b[0m\u001b[0;34m\u001b[0m\u001b[0m\n\u001b[0;32m--> 127\u001b[0;31m                     \u001b[0mjacobian\u001b[0m\u001b[0;34m[\u001b[0m\u001b[0mi_1\u001b[0m\u001b[0;34m]\u001b[0m\u001b[0;34m[\u001b[0m\u001b[0mi_2\u001b[0m\u001b[0;34m]\u001b[0m \u001b[0;34m=\u001b[0m \u001b[0mX_1\u001b[0m\u001b[0;34m.\u001b[0m\u001b[0mget_path_for_gradient_SDE\u001b[0m\u001b[0;34m(\u001b[0m\u001b[0mi_2\u001b[0m\u001b[0;34m)\u001b[0m\u001b[0;34m[\u001b[0m\u001b[0mi_1\u001b[0m\u001b[0;34m]\u001b[0m \u001b[0;34m-\u001b[0m \u001b[0;34m(\u001b[0m\u001b[0mi_1\u001b[0m \u001b[0;34m==\u001b[0m \u001b[0mi_2\u001b[0m\u001b[0;34m)\u001b[0m\u001b[0;34m\u001b[0m\u001b[0;34m\u001b[0m\u001b[0m\n\u001b[0m\u001b[1;32m    128\u001b[0m \u001b[0;34m\u001b[0m\u001b[0m\n\u001b[1;32m    129\u001b[0m             \u001b[0mgamma_old\u001b[0m \u001b[0;34m=\u001b[0m \u001b[0mnp\u001b[0m\u001b[0;34m.\u001b[0m\u001b[0mcopy\u001b[0m\u001b[0;34m(\u001b[0m\u001b[0mgamma\u001b[0m\u001b[0;34m)\u001b[0m\u001b[0;34m\u001b[0m\u001b[0;34m\u001b[0m\u001b[0m\n",
      "\u001b[0;31mKeyboardInterrupt\u001b[0m: "
     ]
    }
   ],
   "source": [
    "n_discr_test = 100\n",
    "N_iter = 100000\n",
    "\n",
    "x_0 = 1\n",
    "sigma = 1\n",
    "alpha = - 0.5\n",
    "beta = 0.3\n",
    "T = 0.2\n",
    "\n",
    "f = open(f\"output/gamma_n_discr_{n_discr_test}_N_iter_{N_iter}_T_{T}_{time.time()}.txt\", \"w+\")\n",
    "\n",
    "gamma_starting = np.zeros(n_discr_test)\n",
    "gamma_starting[0] = x_0\n",
    "gamma_starting[1:] = np.random.uniform(low = - 0.3, high = 0.3, size = n_discr_test - 1)\n",
    "\n",
    "gammas_eta = []\n",
    "\n",
    "gammas_cyclical = []\n",
    "#eta = 0.05\n",
    "\n",
    "SGD_linear = SGD_MV(x_0 = x_0, sigma = sigma, alpha = alpha, beta = beta, T = T)\n",
    "\n",
    "etas_test = np.linspace(0.001,0.1,20)\n",
    "\n",
    "# for eta in etas_test:\n",
    "#     gamma, errors = SGD_linear.linear_get_gamma(n_discr = n_discr_test, eta = eta, gamma = gamma_starting, eps = 1e-10, N_iter = 100000, cyclic_lr = False)\n",
    "#     print(gamma)\n",
    "#     f.write(f'\\tGamma for n_discr = {n_discr_test}, eta = {eta}, eps = {1e-10}, N_iter = {N_iter}, cyclic_lr = {False} is \\n\\n {gamma}\\n\\n')\n",
    "#     f.write('=========================================================================================================\\n')\n",
    "#     gammas.append(gamma)\n",
    "\n",
    "for i in range(10):\n",
    "    gamma = SGD_linear.linear_get_gamma(n_discr = n_discr_test, eta = 0.05, gamma = gamma_starting, eps = 1e-5, N_iter = N_iter, cyclic_lr = True)\n",
    "    print(gamma)\n",
    "    f.write(f'\\tGamma for n_discr = {n_discr_test}, eta = {0.05}, eps = {1e-10}, N_iter = {N_iter}, cyclic_lr = {True}, is \\n\\n \\t\\t{gamma}\\n\\n')\n",
    "    f.write('=========================================================================================================\\n')\n",
    "    \n",
    "    gammas_cyclical.append(gamma)\n",
    "    \n",
    "f.close()"
   ]
  },
  {
   "cell_type": "markdown",
   "id": "37db80e8",
   "metadata": {},
   "source": [
    "### We save the average of the SGD gammas to use further in the benchmark."
   ]
  },
  {
   "cell_type": "code",
   "execution_count": 11,
   "id": "3b0a0c9a",
   "metadata": {
    "scrolled": true
   },
   "outputs": [
    {
     "name": "stdout",
     "output_type": "stream",
     "text": [
      "Average gamma is [0.99999, 0.99902473, 0.99798772, 0.9971055, 0.99619158, 0.99515146, 0.99436832, 0.99313163, 0.99208665, 0.99111894, 0.98999859, 0.98895618, 0.98823076, 0.98703041, 0.98598573, 0.98526511, 0.98418103, 0.98348444, 0.98246151, 0.98149153, 0.98064041, 0.97951198, 0.97847574, 0.97724014, 0.97596832, 0.97499562, 0.97377661, 0.97247788, 0.97144232, 0.97035533, 0.96907019, 0.96785275, 0.96717506, 0.96620166, 0.96509311, 0.96410658, 0.96321119, 0.9619399, 0.96098174, 0.95982456, 0.9589261, 0.95811345, 0.95704322, 0.95625118, 0.95547072, 0.95448559, 0.95359441, 0.9529188, 0.95243181, 0.95147746, 0.95052905, 0.94970547, 0.94878814, 0.94788015, 0.94656894, 0.94579421, 0.94500808, 0.94419034, 0.94302932, 0.94224296, 0.94126805, 0.94077395, 0.93970253, 0.93891056, 0.93829584, 0.93746626, 0.93660036, 0.93552194, 0.93474015, 0.93379839, 0.93298013, 0.93239687, 0.93100607, 0.93037699, 0.92922235, 0.92830494, 0.92741263, 0.92647328, 0.92562929, 0.92522956, 0.92437255, 0.9234018, 0.92243485, 0.92176153, 0.92080375, 0.91976395, 0.91886388, 0.91774431, 0.91648662, 0.91553637, 0.91461863, 0.91372153, 0.91283564, 0.91200439, 0.91108648, 0.90987366, 0.90924298, 0.90824297, 0.90744256, 0.9066923]\n"
     ]
    }
   ],
   "source": [
    "gamma_average_sgd = [0.99999, 0.99902473, 0.99798772, 0.9971055, 0.99619158, 0.99515146,\n",
    " 0.99436832, 0.99313163, 0.99208665, 0.99111894, 0.98999859, 0.98895618,\n",
    " 0.98823076, 0.98703041, 0.98598573, 0.98526511, 0.98418103, 0.98348444,\n",
    " 0.98246151, 0.98149153, 0.98064041, 0.97951198, 0.97847574, 0.97724014,\n",
    " 0.97596832, 0.97499562, 0.97377661, 0.97247788, 0.97144232, 0.97035533,\n",
    " 0.96907019, 0.96785275, 0.96717506, 0.96620166, 0.96509311, 0.96410658,\n",
    " 0.96321119, 0.9619399,  0.96098174, 0.95982456, 0.9589261,  0.95811345,\n",
    " 0.95704322, 0.95625118, 0.95547072, 0.95448559, 0.95359441, 0.9529188,\n",
    " 0.95243181, 0.95147746, 0.95052905, 0.94970547, 0.94878814, 0.94788015,\n",
    " 0.94656894, 0.94579421, 0.94500808, 0.94419034, 0.94302932, 0.94224296,\n",
    " 0.94126805, 0.94077395, 0.93970253, 0.93891056, 0.93829584, 0.93746626,\n",
    " 0.93660036, 0.93552194, 0.93474015, 0.93379839, 0.93298013, 0.93239687,\n",
    " 0.93100607, 0.93037699, 0.92922235, 0.92830494, 0.92741263, 0.92647328,\n",
    " 0.92562929, 0.92522956, 0.92437255, 0.9234018,  0.92243485, 0.92176153,\n",
    " 0.92080375, 0.91976395, 0.91886388, 0.91774431, 0.91648662, 0.91553637,\n",
    " 0.91461863, 0.91372153, 0.91283564, 0.91200439, 0.91108648, 0.90987366,\n",
    " 0.90924298, 0.90824297, 0.90744256, 0.9066923]\n",
    "#np.mean(gammas_cyclical, axis = 0)\n",
    "print(f'Average gamma is {gamma_average_sgd}')"
   ]
  },
  {
   "cell_type": "markdown",
   "id": "13b170ae",
   "metadata": {},
   "source": [
    "## Gamma benchmark: comparison of the average of the gammas obtained through SGD and gamma of the MC estimate of the particles system."
   ]
  },
  {
   "cell_type": "code",
   "execution_count": 12,
   "id": "552a67ef",
   "metadata": {
    "scrolled": false
   },
   "outputs": [
    {
     "name": "stdout",
     "output_type": "stream",
     "text": [
      "Gamma benchmark is \n",
      "[1.         0.99959604 0.99919225 0.99878861 0.99838514 0.99798184\n",
      " 0.99757869 0.99717571 0.9967729  0.99637024 0.99596775 0.99556542\n",
      " 0.99516325 0.99476125 0.9943594  0.99395772 0.9935562  0.99315485\n",
      " 0.99275366 0.99235262 0.99195175 0.99155105 0.9911505  0.99075012\n",
      " 0.99034989 0.98994983 0.98954993 0.9891502  0.98875062 0.98835121\n",
      " 0.98795195 0.98755286 0.98715393 0.98675516 0.98635655 0.98595811\n",
      " 0.98555982 0.98516169 0.98476373 0.98436593 0.98396828 0.9835708\n",
      " 0.98317348 0.98277632 0.98237931 0.98198247 0.98158579 0.98118927\n",
      " 0.98079291 0.98039671 0.98000067 0.97960479 0.97920907 0.97881351\n",
      " 0.97841811 0.97802287 0.97762779 0.97723287 0.97683811 0.97644351\n",
      " 0.97604906 0.97565478 0.97526066 0.97486669 0.97447288 0.97407924\n",
      " 0.97368575 0.97329242 0.97289925 0.97250624 0.97211339 0.97172069\n",
      " 0.97132816 0.97093578 0.97054356 0.9701515  0.9697596  0.96936786\n",
      " 0.96897627 0.96858485 0.96819358 0.96780247 0.96741152 0.96702072\n",
      " 0.96663009 0.96623961 0.96584929 0.96545912 0.96506912 0.96467927\n",
      " 0.96428958 0.96390005 0.96351067 0.96312145 0.96273239 0.96234349\n",
      " 0.96195474 0.96156615 0.96117772 0.96078944].\n",
      "\n"
     ]
    },
    {
     "ename": "NameError",
     "evalue": "name 'errors' is not defined",
     "output_type": "error",
     "traceback": [
      "\u001b[0;31m---------------------------------------------------------------------------\u001b[0m",
      "\u001b[0;31mNameError\u001b[0m                                 Traceback (most recent call last)",
      "\u001b[0;32m/var/folders/z3/gm8lzhqx7hn56p5x5cvfthsr0000gn/T/ipykernel_88007/4039077768.py\u001b[0m in \u001b[0;36m<module>\u001b[0;34m\u001b[0m\n\u001b[1;32m     38\u001b[0m \u001b[0max\u001b[0m\u001b[0;34m[\u001b[0m\u001b[0;36m1\u001b[0m\u001b[0;34m]\u001b[0m\u001b[0;34m.\u001b[0m\u001b[0mtick_params\u001b[0m\u001b[0;34m(\u001b[0m\u001b[0maxis\u001b[0m\u001b[0;34m=\u001b[0m\u001b[0;34m'both'\u001b[0m\u001b[0;34m,\u001b[0m \u001b[0mwhich\u001b[0m\u001b[0;34m=\u001b[0m\u001b[0;34m'minor'\u001b[0m\u001b[0;34m,\u001b[0m \u001b[0mlabelsize\u001b[0m \u001b[0;34m=\u001b[0m \u001b[0;36m20\u001b[0m\u001b[0;34m)\u001b[0m\u001b[0;34m\u001b[0m\u001b[0;34m\u001b[0m\u001b[0m\n\u001b[1;32m     39\u001b[0m \u001b[0;34m\u001b[0m\u001b[0m\n\u001b[0;32m---> 40\u001b[0;31m \u001b[0max\u001b[0m\u001b[0;34m[\u001b[0m\u001b[0;36m1\u001b[0m\u001b[0;34m]\u001b[0m\u001b[0;34m.\u001b[0m\u001b[0mplot\u001b[0m\u001b[0;34m(\u001b[0m\u001b[0mnp\u001b[0m\u001b[0;34m.\u001b[0m\u001b[0marange\u001b[0m\u001b[0;34m(\u001b[0m\u001b[0mN_iter\u001b[0m\u001b[0;34m)\u001b[0m\u001b[0;34m[\u001b[0m\u001b[0;34m:\u001b[0m\u001b[0;34m:\u001b[0m\u001b[0;36m100\u001b[0m\u001b[0;34m]\u001b[0m\u001b[0;34m,\u001b[0m \u001b[0;34m(\u001b[0m\u001b[0merrors\u001b[0m\u001b[0;34m[\u001b[0m\u001b[0;34m:\u001b[0m\u001b[0;34m:\u001b[0m\u001b[0;36m100\u001b[0m\u001b[0;34m]\u001b[0m\u001b[0;34m)\u001b[0m\u001b[0;34m,\u001b[0m \u001b[0mlabel\u001b[0m \u001b[0;34m=\u001b[0m \u001b[0;34m'error plot'\u001b[0m\u001b[0;34m)\u001b[0m\u001b[0;34m\u001b[0m\u001b[0;34m\u001b[0m\u001b[0m\n\u001b[0m\u001b[1;32m     41\u001b[0m \u001b[0;31m#ax[1].plot(t_sgd, gamma_average_sgd, label = 'algorithm')\u001b[0m\u001b[0;34m\u001b[0m\u001b[0;34m\u001b[0m\u001b[0;34m\u001b[0m\u001b[0m\n\u001b[1;32m     42\u001b[0m \u001b[0max\u001b[0m\u001b[0;34m[\u001b[0m\u001b[0;36m1\u001b[0m\u001b[0;34m]\u001b[0m\u001b[0;34m.\u001b[0m\u001b[0mplot\u001b[0m\u001b[0;34m(\u001b[0m\u001b[0mnp\u001b[0m\u001b[0;34m.\u001b[0m\u001b[0marange\u001b[0m\u001b[0;34m(\u001b[0m\u001b[0mN_iter\u001b[0m\u001b[0;34m)\u001b[0m\u001b[0;34m,\u001b[0m\u001b[0;34m[\u001b[0m\u001b[0mnp\u001b[0m\u001b[0;34m.\u001b[0m\u001b[0mquantile\u001b[0m\u001b[0;34m(\u001b[0m\u001b[0;34m(\u001b[0m\u001b[0merrors\u001b[0m\u001b[0;34m)\u001b[0m\u001b[0;34m,\u001b[0m\u001b[0;36m0.5\u001b[0m\u001b[0;34m)\u001b[0m\u001b[0;34m]\u001b[0m \u001b[0;34m*\u001b[0m \u001b[0mN_iter\u001b[0m\u001b[0;34m,\u001b[0m \u001b[0mlabel\u001b[0m \u001b[0;34m=\u001b[0m \u001b[0;34m'0.5 quantile'\u001b[0m\u001b[0;34m)\u001b[0m\u001b[0;34m\u001b[0m\u001b[0;34m\u001b[0m\u001b[0m\n",
      "\u001b[0;31mNameError\u001b[0m: name 'errors' is not defined"
     ]
    },
    {
     "data": {
      "image/png": "[encoded data removed]",
      "text/plain": [
       "<Figure size 1440x1440 with 2 Axes>"
      ]
     },
     "metadata": {
      "needs_background": "light"
     },
     "output_type": "display_data"
    }
   ],
   "source": [
    "#print(f'Average gamma from the algorithm is \\n{gamma_average_sgd}.\\n')\n",
    "\n",
    "n_discr_high = 100\n",
    "n_part = 10000\n",
    "x_0 = 1\n",
    "T = 0.2\n",
    "alpha = -0.5\n",
    "beta = 0.3\n",
    "\n",
    "# dW_t = simulate_dW(n_part, T = T)\n",
    "# X_true = SDE_Kuramoto_MV(x_0 = x_0, alpha = -0.5, beta = 0.3 sigma = 1, dW_t = dW_t, T = T, n_discr = n_discr_high, n_part = n_part)\n",
    "\n",
    "t_benchmark = np.linspace(0,T,n_discr_high)\n",
    "\n",
    "t_sgd = np.linspace(0,T,n_discr_test)\n",
    "\n",
    "gamma_benchmark = np.exp((alpha + beta) * t_benchmark)\n",
    "\n",
    "print(f'Gamma benchmark is \\n{gamma_benchmark}.\\n')\n",
    "\n",
    "fig, ax = plt.subplots(2,1, figsize = (20, 20), tight_layout=True)\n",
    "\n",
    "ax[0].set_title(r\"Dynamics of the $\\gamma$-s\", fontsize = 15)\n",
    "ax[0].set_xlabel(r'$t$',fontsize = 15)\n",
    "ax[0].set_ylabel(r'$\\gamma_t$',fontsize = 15)\n",
    "ax[0].tick_params(axis='both', which='major', labelsize = 20)\n",
    "ax[0].tick_params(axis='both', which='minor', labelsize = 20)\n",
    "\n",
    "ax[0].plot(t_benchmark, gamma_benchmark, label = 'benchmark')\n",
    "ax[0].plot(t_sgd, gamma_average_sgd, label = 'algorithm')\n",
    "\n",
    "ax[0].legend(loc = 'best', fontsize = 20)\n",
    "\n",
    "ax[1].set_title(r\"Error plot\", fontsize = 15)\n",
    "ax[1].set_xlabel(r'$error$',fontsize = 15)\n",
    "ax[1].set_ylabel(r'$iteration$',fontsize = 15)\n",
    "ax[1].tick_params(axis='both', which='major', labelsize = 20)\n",
    "ax[1].tick_params(axis='both', which='minor', labelsize = 20)\n",
    "\n",
    "ax[1].plot(np.arange(N_iter)[::100], (errors[::100]), label = 'error plot')\n",
    "#ax[1].plot(t_sgd, gamma_average_sgd, label = 'algorithm')\n",
    "ax[1].plot(np.arange(N_iter),[np.quantile((errors),0.5)] * N_iter, label = '0.5 quantile')\n",
    "\n",
    "ax[1].legend(loc = 'best', fontsize = 20)\n",
    "\n",
    "plt.show()\n",
    "\n",
    "# print(f'The error is {gamma_average_sgd - gamma_benchmark}.\\n')\n",
    "# print(f'The maximum norm is {abs(gamma_average_sgd - gamma_benchmark).max()}\\n')"
   ]
  },
  {
   "cell_type": "code",
   "execution_count": null,
   "id": "904aab0e",
   "metadata": {},
   "outputs": [],
   "source": []
  },
  {
   "cell_type": "code",
   "execution_count": null,
   "id": "44a14fb6",
   "metadata": {},
   "outputs": [],
   "source": [
    "\n",
    "# # dW_t_truncated = dW_t[0]\n",
    "\n",
    "# t = np.linspace(0, T, n_discr)\n",
    "        \n",
    "# fig, ax = plt.subplots(1,1,figsize=(15, 10), tight_layout=True)\n",
    "\n",
    "# ax.set_title(r\"Dynamics of the SDE\", fontsize = 15)\n",
    "# ax.set_xlabel(r'$t$',fontsize = 15)\n",
    "# ax.set_ylabel(r'$X_t$',fontsize = 15)\n",
    "# ax.tick_params(axis='both', which='major', labelsize = 20)\n",
    "# ax.tick_params(axis='both', which='minor', labelsize = 20)\n",
    "\n",
    "# # for n in range(length(n_frequency_range)):\n",
    "# #     dW_t_local = transform_dW(dW_t,n_discr,n_frequency_range[n])\n",
    "# #     X_test = SDE_Kuramoto_MV_appr(X_true.x_0[0], sigma, gammas_freq[n], dW_t_local, T, n_discr_high // n_frequency_range[n])\n",
    "# #     ax.plot(t, X_test.x, label = 'our approximation')\n",
    "    \n",
    "# ax.plot(t, X_true.x[0],c = 'r', label = 'particle approxmiation')\n",
    "# plt.legend(loc = 'best', fontsize = 20)\n",
    "# plt.show()"
   ]
  },
  {
   "cell_type": "code",
   "execution_count": null,
   "id": "618e331a",
   "metadata": {},
   "outputs": [],
   "source": [
    "# n_discr_high = 20\n",
    "\n",
    "# gamma_starting = np.random.uniform(low = - 0.3, high = 0.3, size = (2,n_discr_high))\n",
    "# gamma_reference = SGD_MV(n_discr = n_discr_high, eta = 0.01, gamma = gamma_starting, T = 1, eps = 0.005, N_iter = 5000)"
   ]
  },
  {
   "cell_type": "code",
   "execution_count": null,
   "id": "6faf1dbe",
   "metadata": {
    "scrolled": false
   },
   "outputs": [],
   "source": [
    "# n_discr = n_discr_high\n",
    "\n",
    "# gamma_ref = gamma_reference\n",
    "\n",
    "# n_mc = 10000\n",
    "# t = np.linspace(0,1,n_discr)\n",
    "\n",
    "# fig, ax = plt.subplots(1,2,figsize=(18, 10), tight_layout=True)\n",
    "\n",
    "# ax[0].set_title(r\"Dynamics of the $\\gamma$ of $\\sin$\", fontsize = 15)\n",
    "# ax[0].set_xlabel(r'$t$',fontsize = 15)\n",
    "# ax[0].set_ylabel(r'$\\gamma_t$',fontsize = 15)\n",
    "# ax[0].tick_params(axis='both', which='major', labelsize = 20)\n",
    "# ax[0].tick_params(axis='both', which='minor', labelsize = 20)\n",
    "\n",
    "# ax[1].set_title(r\"Dynamics of the $\\gamma$ of $\\cos$\", fontsize = 15)\n",
    "# ax[1].set_xlabel(r'$t$',fontsize = 15)\n",
    "# ax[1].set_ylabel(r'$\\gamma_t$',fontsize = 15)\n",
    "# ax[1].tick_params(axis='both', which='major', labelsize = 20)\n",
    "# ax[1].tick_params(axis='both', which='minor', labelsize = 20)\n",
    "\n",
    "# T = 1\n",
    "\n",
    "# gamma_aver_mc = np.zeros((2,n_discr))\n",
    "# for j in range(20):\n",
    "#     for i in range(n_mc):\n",
    "#         dW_t = simulate_dW_1d(n_discr, T)\n",
    "#         X = SDE_Kuramoto_MV_appr(x_0, sigma, gamma_ref, dW_t, T, n_discr)\n",
    "#         gamma_aver_mc[0] = gamma_aver_mc[0] * i / (i + 1) + np.sin(X.x) * 1 / (i + 1)\n",
    "#         gamma_aver_mc[1] = gamma_aver_mc[1] * i / (i + 1) + (-np.cos(X.x)) * 1 / (i + 1)\n",
    "#     print(f'Gamma benchmark is: \\n{gamma_aver_mc}\\n\\n')\n",
    "#     print(f'The difference between MC gamma_aver and gamma_aver from the algorithm for {n_discr} is: \\n\\n{gamma_aver_mc - gamma_ref}')\n",
    "\n",
    "#     print(f'\\nThe maximum norm for {n_discr}: {abs(gamma_aver_mc - gamma_ref).max()}.')\n",
    "#     print('\\n_____________________________________________a______________________________________________')\n",
    "#     print('___________________________________________________________________________________________\\n')\n",
    "    \n",
    "#     # for n in range(length(n_frequency_range)):\n",
    "#     #     dW_t_local = transform_dW(dW_t,n_discr,n_frequency_range[n])\n",
    "#     #     X_test = SDE_Kuramoto_MV_appr(X_true.x_0[0], sigma, gammas_freq[n], dW_t_local, T, n_discr_high // n_frequency_range[n])\n",
    "#     #     ax.plot(t, X_test.x, label = 'our approximation')\n",
    "\n",
    "#     ax[0].plot(t, gamma_aver_mc[0], label = j)\n",
    "#     ax[1].plot(t, gamma_aver_mc[1], label = j)\n",
    "    \n",
    "# ax[0].plot(t,gamma_ref[0], label = 'gamma_ref')\n",
    "# ax[1].plot(t,gamma_ref[1], label = 'gamma_ref')\n",
    "# plt.legend(loc = 'best', fontsize = 20)\n",
    "# plt.show()"
   ]
  },
  {
   "cell_type": "code",
   "execution_count": null,
   "id": "98caff38",
   "metadata": {
    "scrolled": false
   },
   "outputs": [],
   "source": [
    "n_discr_test = [2,5,10]\n",
    "etas_test = [0.1,0.05,0.01,0.005,0.001]\n",
    "N_iter_test = [100,200,500,1000,5000,10000]\n",
    "tol_test = [0.1,0.05,0.01,0.005,0.001]\n",
    "\n",
    "x_0 = 1\n",
    "\n",
    "gamma_starting = np.zeros(100)\n",
    "gamma_starting[1:] = np.random.uniform(low = - 0.3, high = 0.3, size = 100 - 1)\n",
    "\n",
    "\n",
    "\n",
    "for n_discr_i in range(len(n_discr_test)):\n",
    "    for eta_i in range(len(etas_test)):\n",
    "        \n",
    "        fig, ax = plt.subplots(len(N_iter_test),len(tol_test),figsize=(40, 30), tight_layout=True)\n",
    "        t_high = np.linspace(0,T,n_discr_high)\n",
    "        for N_iter_i in range(len(N_iter_test)):\n",
    "            for tol_i in range(len(tol_test)):\n",
    "                gamma_starting_local = np.zeros(n_discr_test[n_discr_i])\n",
    "                #print(n_discr_test[n_discr_i])\n",
    "                gamma_starting_local = gamma_starting[::100 // n_discr_test[n_discr_i]]\n",
    "\n",
    "                gamma_sol = SGD_MV(n_discr = n_discr_test[n_discr_i], eta = etas_test[eta_i], gamma = gamma_starting_local, T = 0.2, eps = tol_test[tol_i], N_iter = N_iter_test[N_iter_i], key = 'linear')\n",
    "\n",
    "                print(f'For n_discr = {n_discr_test[n_discr_i]}, eta = {etas_test[eta_i]}, N_iter = {N_iter_test[N_iter_i]}, tol_i = {tol_test[tol_i]} the gamma is \\n {gamma_sol}. \\n\\n')\n",
    "                \n",
    "                ax[N_iter_i][tol_i].set_title(f\"{N_iter_test[N_iter_i]} iterations, {tol_test[tol_i]} tolerance\", fontsize = 15)\n",
    "                ax[N_iter_i][tol_i].set_xlabel(r'$t$',fontsize = 15)\n",
    "                ax[N_iter_i][tol_i].set_ylabel(r'$\\gamma_t$',fontsize = 15)\n",
    "                ax[N_iter_i][tol_i].tick_params(axis='both', which='major', labelsize = 20)\n",
    "                ax[N_iter_i][tol_i].tick_params(axis='both', which='minor', labelsize = 20)\n",
    "                \n",
    "                t = np.linspace(0,T,n_discr_test[n_discr_i])\n",
    "                ax[N_iter_i][tol_i].plot(t, gamma_sol[0], c = 'r', label = 'our approximation for gamma[0]')\n",
    "                ax[N_iter_i][tol_i].plot(t, gamma_sol[1], c = 'b', label = 'our approximation for gamma[1]')\n",
    "                \n",
    "                \n",
    "                ax[N_iter_i][tol_i].plot(t_high, gamma_benchmark[0], 'r--', label = 'benchmark for gamma[0]')\n",
    "                ax[N_iter_i][tol_i].plot(t_high, gamma_benchmark[1], 'b--', label = 'benchmark for gamma[1]')\n",
    "        plt.show()"
   ]
  },
  {
   "cell_type": "code",
   "execution_count": null,
   "id": "5c252b11",
   "metadata": {},
   "outputs": [],
   "source": [
    "n_discr_test = [20]\n",
    "etas_test = [0.1,0.05,0.01,0.005,0.001]\n",
    "N_iter_test = [100,200,500,1000,5000,10000]\n",
    "tol_test = [0.1,0.05,0.01,0.005,0.001]\n",
    "\n",
    "x_0 = 1\n",
    "\n",
    "gamma_starting = np.zeros((2,100))\n",
    "gamma_starting[0][0] = np.sin(x_0)\n",
    "gamma_starting[1][0] = - np.cos(x_0)\n",
    "gamma_starting[:,1:] = np.random.uniform(low = - 0.3, high = 0.3, size = (2,100 - 1))\n",
    "\n",
    "\n",
    "\n",
    "for n_discr_i in range(len(n_discr_test)):\n",
    "    for eta_i in range(len(etas_test)):\n",
    "        \n",
    "        fig, ax = plt.subplots(len(N_iter_test),len(tol_test),figsize=(40, 30), tight_layout=True)\n",
    "        t_high = np.linspace(0,T,n_discr_high)\n",
    "        for N_iter_i in range(len(N_iter_test)):\n",
    "            for tol_i in range(len(tol_test)):\n",
    "                gamma_starting_local = np.zeros((2,n_discr_test[n_discr_i]))\n",
    "                #print(n_discr_test[n_discr_i])\n",
    "                gamma_starting_local[0] = gamma_starting[0][::100 // n_discr_test[n_discr_i]]\n",
    "                gamma_starting_local[1] = gamma_starting[1][::100 // n_discr_test[n_discr_i]]\n",
    "\n",
    "                gamma_sol = SGD_MV(n_discr = n_discr_test[n_discr_i], eta = etas_test[eta_i], gamma = gamma_starting_local, T = 0.2, eps = tol_test[tol_i], N_iter = N_iter_test[N_iter_i], key = 'linear')\n",
    "\n",
    "                print(f'For n_discr = {n_discr_test[n_discr_i]}, eta = {etas_test[eta_i]}, N_iter = {N_iter_test[N_iter_i]}, tol_i = {tol_test[tol_i]} the gamma is \\n {gamma_sol}. \\n\\n')\n",
    "                \n",
    "                ax[N_iter_i][tol_i].set_title(f\"{N_iter_test[N_iter_i]} iterations, {tol_test[tol_i]} tolerance\", fontsize = 15)\n",
    "                ax[N_iter_i][tol_i].set_xlabel(r'$t$',fontsize = 15)\n",
    "                ax[N_iter_i][tol_i].set_ylabel(r'$\\gamma_t$',fontsize = 15)\n",
    "                ax[N_iter_i][tol_i].tick_params(axis='both', which='major', labelsize = 20)\n",
    "                ax[N_iter_i][tol_i].tick_params(axis='both', which='minor', labelsize = 20)\n",
    "                \n",
    "                t = np.linspace(0,T,n_discr_test[n_discr_i])\n",
    "                ax[N_iter_i][tol_i].plot(t, gamma_sol[0], c = 'r', label = 'our approximation for gamma[0]')\n",
    "                ax[N_iter_i][tol_i].plot(t, gamma_sol[1], c = 'b', label = 'our approximation for gamma[1]')\n",
    "                \n",
    "                \n",
    "                ax[N_iter_i][tol_i].plot(t_high, gamma_benchmark[0], 'r--', label = 'benchmark for gamma[0]')\n",
    "                ax[N_iter_i][tol_i].plot(t_high, gamma_benchmark[1], 'b--', label = 'benchmark for gamma[1]')\n",
    "        plt.show()"
   ]
  }
 ],
 "metadata": {
  "kernelspec": {
   "display_name": "Python 3 (ipykernel)",
   "language": "python",
   "name": "python3"
  },
  "language_info": {
   "codemirror_mode": {
    "name": "ipython",
    "version": 3
   },
   "file_extension": ".py",
   "mimetype": "text/x-python",
   "name": "python",
   "nbconvert_exporter": "python",
   "pygments_lexer": "ipython3",
   "version": "3.9.4"
  }
 },
 "nbformat": 4,
 "nbformat_minor": 5
}
