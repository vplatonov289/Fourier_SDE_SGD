{
 "cells": [
  {
   "cell_type": "markdown",
   "id": "bee2f2dd",
   "metadata": {},
   "source": [
    "# Getting the optimal local Fourier approximation for MV-SDE"
   ]
  },
  {
   "cell_type": "markdown",
   "id": "4dbfa0d5",
   "metadata": {},
   "source": [
    "add description here"
   ]
  },
  {
   "cell_type": "markdown",
   "id": "00f14b8d",
   "metadata": {},
   "source": [
    "### Initialising libraries"
   ]
  },
  {
   "cell_type": "code",
   "execution_count": 1,
   "id": "df3054d0",
   "metadata": {},
   "outputs": [],
   "source": [
    "import numpy as np\n",
    "import matplotlib.pyplot as plt\n",
    "\n",
    "import time\n",
    "\n",
    "from brownian_motion import simulate_dW, simulate_dW_1d, transform_dW\n",
    "from kuramoto_true import SDE_Kuramoto_MV\n",
    "from kuramoto_appr import SDE_Kuramoto_MV_appr\n",
    "from algorithm import SGD_MV"
   ]
  },
  {
   "cell_type": "markdown",
   "id": "62963979",
   "metadata": {},
   "source": [
    "## McKean-Vlasov SDE of Kuramoto's type."
   ]
  },
  {
   "cell_type": "markdown",
   "id": "2a597dd0",
   "metadata": {},
   "source": [
    "### We initialise the main class and test it."
   ]
  },
  {
   "cell_type": "markdown",
   "id": "aff404af",
   "metadata": {},
   "source": [
    "We initialise the class of MV-SDE that admits the following dynamics:\n",
    "\n",
    "$$\n",
    "\\text{d}X_t = \\mathbb{E}[\\sin(X_t-x)]_{\\big|x = X_t}~\\text{d}t + \\sigma ~\\text{d}W_t, \\quad X_0 = x_0 \\in L_2(\\Omega).\n",
    "$$\n",
    "\n",
    "The drift can be equivalently rewritten as\n",
    "\n",
    "$$\n",
    "\\mathbb{E}[\\sin(X_t)] \\cos(X_t) - \\mathbb{E}[\\cos(X_t)] \\sin(X_t).\n",
    "$$"
   ]
  },
  {
   "cell_type": "markdown",
   "id": "0c1201e6",
   "metadata": {},
   "source": [
    "## ***write on approximation***"
   ]
  },
  {
   "cell_type": "markdown",
   "id": "c7b4e432",
   "metadata": {},
   "source": [
    "## Testing the variance of $\\gamma$."
   ]
  },
  {
   "cell_type": "code",
   "execution_count": 5,
   "id": "83733e41",
   "metadata": {
    "scrolled": true
   },
   "outputs": [
    {
     "name": "stdout",
     "output_type": "stream",
     "text": [
      "[[ 0.84147098 -0.29270553 -0.19620636 -0.0096908  -0.17569791 -0.2122362\n",
      "   0.17938237 -0.00618275 -0.12041734  0.19872921]\n",
      " [-0.54030231 -0.21360311 -0.16068805  0.29561605 -0.19076446  0.10453738\n",
      "  -0.18390985 -0.12442867  0.12884192  0.19182941]]\n",
      "|70% of the iterations completed.|\n",
      "|80% of the iterations completed.|\n",
      "|90% of the iterations completed.|\n",
      "|100% of the iterations completed.|\n",
      "The solution of the SGD algorithm is [[ 0.84486343  0.8467779   0.84826731  0.84942728  0.84939616  0.84830036\n",
      "   0.84815353  0.84684978  0.84394689  0.84262453]\n",
      " [-0.5367717  -0.51523144 -0.49305627 -0.4713141  -0.45090099 -0.43225827\n",
      "  -0.41192427 -0.39297291 -0.37559908 -0.35750551]].\n",
      "Solved for 90.26 seconds.\n",
      "|70% of the iterations completed.|\n",
      "|80% of the iterations completed.|\n",
      "|90% of the iterations completed.|\n",
      "|100% of the iterations completed.|\n",
      "The solution of the SGD algorithm is [[ 0.83593616  0.83588058  0.83790731  0.83769328  0.83827985  0.83807747\n",
      "   0.83767323  0.83545089  0.83369838  0.83339647]\n",
      " [-0.54569897 -0.52376844 -0.50092469 -0.48134318 -0.46141516 -0.44085139\n",
      "  -0.42216741 -0.40562899 -0.38678198 -0.36743352]].\n",
      "Solved for 90.82 seconds.\n",
      "|70% of the iterations completed.|\n",
      "|80% of the iterations completed.|\n",
      "|90% of the iterations completed.|\n",
      "|100% of the iterations completed.|\n",
      "The solution of the SGD algorithm is [[ 0.83956707  0.84051899  0.8406639   0.84252373  0.84198219  0.84000857\n",
      "   0.83914135  0.83796731  0.83771688  0.83536159]\n",
      " [-0.54206806 -0.51979538 -0.50032712 -0.47777512 -0.45875588 -0.44053215\n",
      "  -0.42056347 -0.40016726 -0.38017313 -0.36098359]].\n",
      "Solved for 90.38 seconds.\n",
      "|70% of the iterations completed.|\n",
      "|80% of the iterations completed.|\n",
      "|90% of the iterations completed.|\n",
      "|100% of the iterations completed.|\n",
      "The solution of the SGD algorithm is [[ 0.84008539  0.84137681  0.8418459   0.8422252   0.84246924  0.84218739\n",
      "   0.84173407  0.84054027  0.83791808  0.83667149]\n",
      " [-0.54154974 -0.51943794 -0.49903591 -0.47761331 -0.45660799 -0.43608435\n",
      "  -0.41646337 -0.39864436 -0.3808586  -0.36277336]].\n",
      "Solved for 90.77 seconds.\n",
      "|70% of the iterations completed.|\n",
      "|80% of the iterations completed.|\n",
      "|90% of the iterations completed.|\n",
      "|100% of the iterations completed.|\n",
      "The solution of the SGD algorithm is [[ 0.84317283  0.84429816  0.84627317  0.84631596  0.84751871  0.84753001\n",
      "   0.84614785  0.84272449  0.84203717  0.84038652]\n",
      " [-0.5384623  -0.51740837 -0.49500157 -0.47396031 -0.45223539 -0.43247566\n",
      "  -0.41331533 -0.39599487 -0.37648766 -0.35855158]].\n",
      "Solved for 90.55 seconds.\n",
      "|70% of the iterations completed.|\n",
      "|80% of the iterations completed.|\n",
      "|90% of the iterations completed.|\n",
      "|100% of the iterations completed.|\n",
      "The solution of the SGD algorithm is [[ 0.84842525  0.85218626  0.85380119  0.85554566  0.85594225  0.85474921\n",
      "   0.85470625  0.85270452  0.85118797  0.84920877]\n",
      " [-0.53320988 -0.5107177  -0.48764818 -0.46367625 -0.44229033 -0.42299562\n",
      "  -0.40281226 -0.38435404 -0.36494036 -0.34422385]].\n",
      "Solved for 90.16 seconds.\n",
      "|70% of the iterations completed.|\n",
      "|80% of the iterations completed.|\n",
      "|90% of the iterations completed.|\n",
      "|100% of the iterations completed.|\n",
      "The solution of the SGD algorithm is [[ 0.84943719  0.85345602  0.85520247  0.85682699  0.85751568  0.85658761\n",
      "   0.85599033  0.85348676  0.85194159  0.84945065]\n",
      " [-0.53219794 -0.50867794 -0.48607791 -0.46201045 -0.44087964 -0.42105888\n",
      "  -0.40118146 -0.38214185 -0.36155832 -0.34263403]].\n",
      "Solved for 90.07 seconds.\n",
      "|70% of the iterations completed.|\n",
      "|80% of the iterations completed.|\n",
      "|90% of the iterations completed.|\n",
      "|100% of the iterations completed.|\n",
      "The solution of the SGD algorithm is [[ 0.84275286  0.84395018  0.84719958  0.84864363  0.84703984  0.84726823\n",
      "   0.8479961   0.84591687  0.84407948  0.84235609]\n",
      " [-0.53888227 -0.51748959 -0.49270367 -0.47063723 -0.45169807 -0.42991841\n",
      "  -0.40874054 -0.39073688 -0.37112183 -0.35229357]].\n",
      "Solved for 90.04 seconds.\n",
      "|70% of the iterations completed.|\n",
      "|80% of the iterations completed.|\n",
      "|90% of the iterations completed.|\n",
      "|100% of the iterations completed.|\n",
      "The solution of the SGD algorithm is [[ 0.8387175   0.83813984  0.83943732  0.84227001  0.84245634  0.84213651\n",
      "   0.8421106   0.84175877  0.84041976  0.83833864]\n",
      " [-0.54291762 -0.52263053 -0.50156203 -0.47693122 -0.45799903 -0.43839133\n",
      "  -0.41912264 -0.39892887 -0.38025987 -0.36240286]].\n",
      "Solved for 90.11 seconds.\n",
      "|70% of the iterations completed.|\n",
      "|80% of the iterations completed.|\n",
      "|90% of the iterations completed.|\n",
      "|100% of the iterations completed.|\n",
      "The solution of the SGD algorithm is [[ 0.83697115  0.8378177   0.83908282  0.84084401  0.84157553  0.84183805\n",
      "   0.84152625  0.8393642   0.83794485  0.83623802]\n",
      " [-0.54466398 -0.52132346 -0.49996766 -0.47783868 -0.45715614 -0.43623574\n",
      "  -0.41544447 -0.39724351 -0.3785568  -0.35930162]].\n",
      "Solved for 90.47 seconds.\n"
     ]
    }
   ],
   "source": [
    "n_discr_test = 10\n",
    "\n",
    "x_0 = 1\n",
    "\n",
    "gamma_starting = np.zeros((2,n_discr_test))\n",
    "gamma_starting[0][0] = np.sin(x_0)\n",
    "gamma_starting[1][0] = - np.cos(x_0)\n",
    "\n",
    "# print(np.random.uniform(low = - 0.3, high = 0.3, size = (2,n_discr_test - 1)).shape)\n",
    "# print(gamma_starting[:,1:].shape)\n",
    "\n",
    "gamma_starting[:,1:] = np.random.uniform(low = - 0.3, high = 0.3, size = (2,n_discr_test - 1))\n",
    "print(gamma_starting)\n",
    "gammas = []\n",
    "#eta = 0.05\n",
    "\n",
    "for i in range(10):\n",
    "    gamma_ref = SGD_MV(n_discr = n_discr_test, eta = 0.05, gamma = gamma_starting, T = 0.2, eps = 0.005, N_iter = 10000, key = 'kuramoto')\n",
    "\n",
    "    gammas.append(gamma_ref)"
   ]
  },
  {
   "cell_type": "markdown",
   "id": "37db80e8",
   "metadata": {},
   "source": [
    "### We save the average of the SGD gammas to use further in the benchmark."
   ]
  },
  {
   "cell_type": "code",
   "execution_count": null,
   "id": "3b0a0c9a",
   "metadata": {},
   "outputs": [],
   "source": [
    "gamma_average_sgd = np.mean(gammas, axis = 0)\n",
    "print(f'Average gamma is {gamma_average_sgd}')"
   ]
  },
  {
   "cell_type": "markdown",
   "id": "c2b82780",
   "metadata": {},
   "source": [
    "### We save the high discretisation gamma to compare with the ones of lower discretisation."
   ]
  },
  {
   "cell_type": "code",
   "execution_count": null,
   "id": "993ca59f",
   "metadata": {
    "scrolled": false
   },
   "outputs": [],
   "source": [
    "n_discr_high = 64\n",
    "\n",
    "gamma_starting = np.random.uniform(low = - 0.3, high = 0.3, size = (2,n_discr_high))\n",
    "gamma_reference = SGD_MV(n_discr = n_discr_high, eta = 0.01, gamma = gamma_starting, T = 1, eps = 0.001, N_iter = 100)"
   ]
  },
  {
   "cell_type": "code",
   "execution_count": null,
   "id": "44330598",
   "metadata": {},
   "outputs": [],
   "source": [
    "print(gamma_reference)\n",
    "n_frequency_range = [2 ** i for i in range(1,6)] ## from 2^6 to 2\n",
    "\n",
    "#n_discr_range = [50,20,10,5,2]\n",
    "T = 1\n",
    "x_0 = 1\n",
    "sigma = 1\n",
    "\n",
    "n_mc = 10000\n",
    "\n",
    "dW_t = simulate_dW_1d(n_discr_high,T)\n",
    "\n",
    "for n in n_frequency_range:\n",
    "    n_discr_local = n_discr_high // n\n",
    "    \n",
    "    gamma_aver_mc = np.zeros((2,n_discr_local))\n",
    "    dW_t_local = transform_dW(dW_t, n_discr_high, n_discr_local)\n",
    "#     gamma_starting_local = np.zeros((2,n_discr_local))\n",
    "#     gamma_starting_local[0] = gamma_starting[0][::n]\n",
    "#     gamma_starting_local[1] = gamma_starting[1][::n]\n",
    "    \n",
    "    gamma_local = np.zeros((2,n_discr_local))\n",
    "    gamma_local[0] = gamma_reference[0][::n]\n",
    "    gamma_local[1] = gamma_reference[1][::n]\n",
    "\n",
    "#     gamma_local = SGD_MV(n_discr = n_discr_local, eta = 0.01, gamma = gamma_starting_local, T = 1, eps = 0.005, N_iter = 500)\n",
    "\n",
    "    for i in range(n_mc):\n",
    "        X = SDE_Kuramoto_MV_appr(x_0, sigma, gamma_local, dW_t_local, T, n_discr_local)\n",
    "        gamma_aver_mc[0] = gamma_aver_mc[0] * i / (i + 1) + np.sin(X.x) * 1 / (i + 1)\n",
    "        gamma_aver_mc[1] = gamma_aver_mc[1] * i / (i + 1) + (-np.cos(X.x)) * 1 / (i + 1)\n",
    "    print(f'The difference between MC gamma_aver and gamma_aver from the algorithm for {n_discr_local} is: \\n\\n{gamma_aver_mc - gamma_local}')\n",
    "\n",
    "    print(f'\\nThe maximum norm for {n_discr_local}: {abs(gamma_aver_mc - gamma_local).max()}.')\n",
    "    print('\\n___________________________________________________________________________________________')\n",
    "    print('___________________________________________________________________________________________\\n')"
   ]
  },
  {
   "cell_type": "markdown",
   "id": "13b170ae",
   "metadata": {},
   "source": [
    "## Gamma benchmark: comparison of the average of the gammas obtained through SGD and gamma of the MC estimate of the particles system."
   ]
  },
  {
   "cell_type": "code",
   "execution_count": null,
   "id": "552a67ef",
   "metadata": {
    "scrolled": false
   },
   "outputs": [],
   "source": [
    "print(f'Average gamma from the algorithm is \\n{gamma_average_sgd}.\\n')\n",
    "\n",
    "n_discr = 100\n",
    "n_part = 10000\n",
    "x_0 = 1\n",
    "T = 0.2\n",
    "\n",
    "dW_t = simulate_dW((n_part,n_discr),T = T)\n",
    "X_true = SDE_Kuramoto_MV(x_0 = x_0, sigma = 1, dW_t = dW_t, T = T, n_discr = n_discr, n_part = n_part)\n",
    "\n",
    "gammas_part_1, gammas_part_2 = np.sin(X_true.x), - np.cos(X_true.x) \n",
    "\n",
    "# Taking the mean across particles (first dimension) and getting benchmark values\n",
    "gamma_benchmark_1 = np.mean(gammas_part_1, axis = 0)\n",
    "gamma_benchmark_2 = np.mean(gammas_part_2, axis = 0)\n",
    "\n",
    "# Form the benchmark gamma 2d shape\n",
    "gamma_benchmark = np.zeros((2,n_discr))\n",
    "gamma_benchmark[0] = gamma_benchmark_1\n",
    "gamma_benchmark[1] = gamma_benchmark_2\n",
    "\n",
    "print(f'Gamma benchmark is \\n{gamma_benchmark}.\\n')\n",
    "\n",
    "# print(f'The error is {gamma_average_sgd - gamma_benchmark}.\\n')\n",
    "# print(f'The maximum norm is {abs(gamma_average_sgd - gamma_benchmark).max()}\\n')\n"
   ]
  },
  {
   "cell_type": "code",
   "execution_count": null,
   "id": "44a14fb6",
   "metadata": {},
   "outputs": [],
   "source": [
    "\n",
    "# # dW_t_truncated = dW_t[0]\n",
    "\n",
    "# t = np.linspace(0, T, n_discr)\n",
    "        \n",
    "# fig, ax = plt.subplots(1,1,figsize=(15, 10), tight_layout=True)\n",
    "\n",
    "# ax.set_title(r\"Dynamics of the SDE\", fontsize = 15)\n",
    "# ax.set_xlabel(r'$t$',fontsize = 15)\n",
    "# ax.set_ylabel(r'$X_t$',fontsize = 15)\n",
    "# ax.tick_params(axis='both', which='major', labelsize = 20)\n",
    "# ax.tick_params(axis='both', which='minor', labelsize = 20)\n",
    "\n",
    "# # for n in range(length(n_frequency_range)):\n",
    "# #     dW_t_local = transform_dW(dW_t,n_discr,n_frequency_range[n])\n",
    "# #     X_test = SDE_Kuramoto_MV_appr(X_true.x_0[0], sigma, gammas_freq[n], dW_t_local, T, n_discr_high // n_frequency_range[n])\n",
    "# #     ax.plot(t, X_test.x, label = 'our approximation')\n",
    "    \n",
    "# ax.plot(t, X_true.x[0],c = 'r', label = 'particle approxmiation')\n",
    "# plt.legend(loc = 'best', fontsize = 20)\n",
    "# plt.show()"
   ]
  },
  {
   "cell_type": "code",
   "execution_count": null,
   "id": "618e331a",
   "metadata": {},
   "outputs": [],
   "source": [
    "# n_discr_high = 20\n",
    "\n",
    "# gamma_starting = np.random.uniform(low = - 0.3, high = 0.3, size = (2,n_discr_high))\n",
    "# gamma_reference = SGD_MV(n_discr = n_discr_high, eta = 0.01, gamma = gamma_starting, T = 1, eps = 0.005, N_iter = 5000)"
   ]
  },
  {
   "cell_type": "code",
   "execution_count": null,
   "id": "6faf1dbe",
   "metadata": {
    "scrolled": false
   },
   "outputs": [],
   "source": [
    "n_discr = n_discr_high\n",
    "\n",
    "gamma_ref = gamma_reference\n",
    "\n",
    "n_mc = 10000\n",
    "t = np.linspace(0,1,n_discr)\n",
    "\n",
    "fig, ax = plt.subplots(1,2,figsize=(18, 10), tight_layout=True)\n",
    "\n",
    "ax[0].set_title(r\"Dynamics of the $\\gamma$ of $\\sin$\", fontsize = 15)\n",
    "ax[0].set_xlabel(r'$t$',fontsize = 15)\n",
    "ax[0].set_ylabel(r'$\\gamma_t$',fontsize = 15)\n",
    "ax[0].tick_params(axis='both', which='major', labelsize = 20)\n",
    "ax[0].tick_params(axis='both', which='minor', labelsize = 20)\n",
    "\n",
    "ax[1].set_title(r\"Dynamics of the $\\gamma$ of $\\cos$\", fontsize = 15)\n",
    "ax[1].set_xlabel(r'$t$',fontsize = 15)\n",
    "ax[1].set_ylabel(r'$\\gamma_t$',fontsize = 15)\n",
    "ax[1].tick_params(axis='both', which='major', labelsize = 20)\n",
    "ax[1].tick_params(axis='both', which='minor', labelsize = 20)\n",
    "\n",
    "T = 1\n",
    "\n",
    "gamma_aver_mc = np.zeros((2,n_discr))\n",
    "for j in range(20):\n",
    "    for i in range(n_mc):\n",
    "        dW_t = simulate_dW_1d(n_discr, T)\n",
    "        X = SDE_Kuramoto_MV_appr(x_0, sigma, gamma_ref, dW_t, T, n_discr)\n",
    "        gamma_aver_mc[0] = gamma_aver_mc[0] * i / (i + 1) + np.sin(X.x) * 1 / (i + 1)\n",
    "        gamma_aver_mc[1] = gamma_aver_mc[1] * i / (i + 1) + (-np.cos(X.x)) * 1 / (i + 1)\n",
    "    print(f'Gamma benchmark is: \\n{gamma_aver_mc}\\n\\n')\n",
    "    print(f'The difference between MC gamma_aver and gamma_aver from the algorithm for {n_discr} is: \\n\\n{gamma_aver_mc - gamma_ref}')\n",
    "\n",
    "    print(f'\\nThe maximum norm for {n_discr}: {abs(gamma_aver_mc - gamma_ref).max()}.')\n",
    "    print('\\n_____________________________________________a______________________________________________')\n",
    "    print('___________________________________________________________________________________________\\n')\n",
    "    \n",
    "    # for n in range(length(n_frequency_range)):\n",
    "    #     dW_t_local = transform_dW(dW_t,n_discr,n_frequency_range[n])\n",
    "    #     X_test = SDE_Kuramoto_MV_appr(X_true.x_0[0], sigma, gammas_freq[n], dW_t_local, T, n_discr_high // n_frequency_range[n])\n",
    "    #     ax.plot(t, X_test.x, label = 'our approximation')\n",
    "\n",
    "    ax[0].plot(t, gamma_aver_mc[0], label = j)\n",
    "    ax[1].plot(t, gamma_aver_mc[1], label = j)\n",
    "    \n",
    "ax[0].plot(t,gamma_ref[0], label = 'gamma_ref')\n",
    "ax[1].plot(t,gamma_ref[1], label = 'gamma_ref')\n",
    "plt.legend(loc = 'best', fontsize = 20)\n",
    "plt.show()"
   ]
  },
  {
   "cell_type": "code",
   "execution_count": null,
   "id": "02b8d477",
   "metadata": {
    "scrolled": false
   },
   "outputs": [],
   "source": [
    "n_discr = n_discr_high\n",
    "\n",
    "gamma_ref = gamma_reference\n",
    "\n",
    "n_mc = 100000\n",
    "t = np.linspace(0,1,n_discr)\n",
    "\n",
    "fig, ax = plt.subplots(1,2,figsize=(18, 10), tight_layout=True)\n",
    "\n",
    "ax[0].set_title(r\"Dynamics of the $\\gamma$ of $\\sin$\", fontsize = 15)\n",
    "ax[0].set_xlabel(r'$t$',fontsize = 15)\n",
    "ax[0].set_ylabel(r'$\\gamma_t$',fontsize = 15)\n",
    "ax[0].tick_params(axis='both', which='major', labelsize = 20)\n",
    "ax[0].tick_params(axis='both', which='minor', labelsize = 20)\n",
    "\n",
    "ax[1].set_title(r\"Dynamics of the $\\gamma$ of $\\cos$\", fontsize = 15)\n",
    "ax[1].set_xlabel(r'$t$',fontsize = 15)\n",
    "ax[1].set_ylabel(r'$\\gamma_t$',fontsize = 15)\n",
    "ax[1].tick_params(axis='both', which='major', labelsize = 20)\n",
    "ax[1].tick_params(axis='both', which='minor', labelsize = 20)\n",
    "\n",
    "gamma_aver_mc = np.zeros((2,n_discr))\n",
    "for j in range(20):\n",
    "    for i in range(n_mc):\n",
    "        dW_t = simulate_dW_1d(n_discr,T)\n",
    "        X = SDE_Kuramoto_MV_appr(x_0, sigma, gamma_ref, dW_t, T, n_discr)\n",
    "        gamma_aver_mc[0] = gamma_aver_mc[0] * i / (i + 1) + np.sin(X.x) * 1 / (i + 1)\n",
    "        gamma_aver_mc[1] = gamma_aver_mc[1] * i / (i + 1) + (-np.cos(X.x)) * 1 / (i + 1)\n",
    "    print(f'Gamma benchmark is: \\n{gamma_aver_mc}\\n\\n')\n",
    "    print(f'The difference between MC gamma_aver and gamma_aver from the algorithm for {n_discr} is: \\n\\n{gamma_aver_mc - gamma_ref}')\n",
    "\n",
    "    print(f'\\nThe maximum norm for {n_discr}: {abs(gamma_aver_mc - gamma_ref).max()}.')\n",
    "    print('\\n_____________________________________________a______________________________________________')\n",
    "    print('___________________________________________________________________________________________\\n')\n",
    "    \n",
    "    # for n in range(length(n_frequency_range)):\n",
    "    #     dW_t_local = transform_dW(dW_t,n_discr,n_frequency_range[n])\n",
    "    #     X_test = SDE_Kuramoto_MV_appr(X_true.x_0[0], sigma, gammas_freq[n], dW_t_local, T, n_discr_high // n_frequency_range[n])\n",
    "    #     ax.plot(t, X_test.x, label = 'our approximation')\n",
    "\n",
    "    ax[0].plot(t, gamma_aver_mc[0], label = j)\n",
    "    ax[1].plot(t, gamma_aver_mc[1], label = j)\n",
    "    \n",
    "ax[0].plot(t,gamma_ref[0], label = 'gamma_ref')\n",
    "ax[0].plot(t,gamma_ref[1], label = 'gamma_ref')\n",
    "plt.legend(loc = 'best', fontsize = 20)\n",
    "plt.show()"
   ]
  }
 ],
 "metadata": {
  "kernelspec": {
   "display_name": "Python 3 (ipykernel)",
   "language": "python",
   "name": "python3"
  },
  "language_info": {
   "codemirror_mode": {
    "name": "ipython",
    "version": 3
   },
   "file_extension": ".py",
   "mimetype": "text/x-python",
   "name": "python",
   "nbconvert_exporter": "python",
   "pygments_lexer": "ipython3",
   "version": "3.9.4"
  }
 },
 "nbformat": 4,
 "nbformat_minor": 5
}
