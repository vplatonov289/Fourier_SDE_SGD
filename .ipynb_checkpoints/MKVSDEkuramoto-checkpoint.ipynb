{
 "cells": [
  {
   "cell_type": "markdown",
   "id": "a84cd018",
   "metadata": {},
   "source": [
    "\n",
    "## SGD set-up for a Kuramoto-type McKean-Vlasov SDE"
   ]
  },
  {
   "cell_type": "markdown",
   "id": "7d4a97b3",
   "metadata": {},
   "source": [
    "Consider a McKean-Vlasov (MKV) SDE of the following form:\n",
    "\n",
    "\\begin{equation}\n",
    "\\textrm{d}X_t = \\bigl(\\mathbb{E}[\\sin(X_t)] \\cos(X_t) - \\mathbb{E}[\\cos(X_t)] \\sin(X_t) \\bigr) \\textrm{d} t + \\sigma \\, \\textrm{d} W_t, \\quad X_0 = x_0.\n",
    "\\end{equation}"
   ]
  },
  {
   "cell_type": "markdown",
   "id": "a8351083",
   "metadata": {},
   "source": [
    "- Method 2: \n",
    "    \n",
    "    We approximate the solution $X_t, t \\in [0,T]$ by using a polynomial approximation for the function $\\mathbb{E}[\\sin(X_t)]$ and $\\mathbb{E}[\\cos(X_t)].$ In particular we use $\\widehat{\\gamma}_{1,k}, k=1,\\ldots,K,$ as the value of $\\mathbb{E}[\\sin(X_t)]$ for $t \\in \\{t_1, \\ldots, t_K\\},$ and $\\widehat{\\gamma}_{2,k}, k=1,\\ldots,K,$ as the value of $\\mathbb{E}[\\cos(X_t)]$ for $t \\in \\{t_1, \\ldots, t_K\\},$ where the values $\\{t_1, \\ldots, t_K\\},$ are either Chebychev or Lagrange nodes in the time interval $[0, T].$ The process with polynomial function approximation is generated as:\n",
    "    \n",
    "    \\begin{equation}\n",
    "    \\textrm{d}Z_t = \\bigl(\\cos(Z_t)\\sum^{K}_{k=1} \\widehat{\\gamma}_{1,k} \\prod_{\\substack{ 1\\leq j \\leq K \\\\ k\\neq j}} \\frac{t-t_j}{t_k - t_j}  -  \\sin(Z_t) \\sum^{K}_{k=1} \\widehat{\\gamma}_{2,k} \\prod_{\\substack{ 1\\leq j \\leq K \\\\ k\\neq j}} \\frac{t-t_j}{t_k - t_j}  \\bigr) \\textrm{d} t + \\sigma \\, \\textrm{d} W_t, \\quad Z_0 = x_0.\n",
    "    \\end{equation}\n",
    "    \n",
    "    The gradient processes $\\xi^k_{1,t}:= \\partial_{\\widehat{\\gamma}_{1,k}}Z_t$ and $\\xi^k_{2,t}:= \\partial_{\\widehat{\\gamma}_{2,k}}Z_t$ for $k = 1, \\ldots, K,$ are given as \n",
    "    \n",
    "    \\begin{align}\n",
    "    \\textrm{d}\\xi^k_{1,t} &= \\bigl(-\\sin(Z_t)\\xi^k_{1,t} \\sum^{K}_{k=1} \\widehat{\\gamma}_{1,k} \\prod_{\\substack{ 1\\leq j \\leq K \\\\ k\\neq j}} \\frac{t-t_j}{t_k - t_j} + \\cos(Z_t) \\prod_{\\substack{ 1\\leq j \\leq K \\\\ k\\neq j}} \\frac{t-t_j}{t_k - t_j}\\bigr) \\textrm{d} t,\\\\\n",
    "    &+ \\bigl(-\\cos(Z_t)\\xi^k_{1,t} \\sum^{K}_{k=1} \\widehat{\\gamma}_{2,k} \\prod_{\\substack{ 1\\leq j \\leq K \\\\ k\\neq j}} \\frac{t-t_j}{t_k - t_j}\\bigr) \\textrm{d} t, \\quad \\xi^k_{1,0} = 0,\\\\\n",
    "    \\textrm{d}\\xi^k_{2,t} &= \\bigl(-\\sin(Z_t)\\xi^k_{2,t} \\sum^{K}_{k=1} \\widehat{\\gamma}_{1,k} \\prod_{\\substack{ 1\\leq j \\leq K \\\\ k\\neq j}} \\frac{t-t_j}{t_k - t_j}\\bigr) \\textrm{d} t,\\\\\n",
    "    &+ \\bigl(-\\cos(Z_t)\\xi^k_{2,t} \\sum^{K}_{k=1} \\widehat{\\gamma}_{2,k} \\prod_{\\substack{ 1\\leq j \\leq K \\\\ k\\neq j}} \\frac{t-t_j}{t_k - t_j} - \\sin(Z_t) \\prod_{\\substack{ 1\\leq j \\leq K \\\\ k\\neq j}} \\frac{t-t_j}{t_k - t_j}\\bigr) \\textrm{d} t, \\quad \\xi^k_{2,0} = 0.\n",
    "    \\end{align}\n",
    "    \n",
    "    We disretise the time interval $[0, T]$ uniformly into $M + 1$ steps, and insert Chebychev nodes to create a final time grid with $M+K$ intermediate points to generate discretised path of $Z$ and gradient processes. Our aim is to find the fixed-point of the map $\\widehat{\\Psi}^{(M+K)}$ defined as\n",
    "    \\begin{equation}\n",
    "      \\widehat{\\Psi}^{(M+K)}(\\widehat{\\gamma}):= \\mathcal{P}\\Bigl(\\Psi\\bigl(\\mathcal{L}(\\widehat{\\gamma})\\bigr)\\Bigr).\n",
    "    \\end{equation}\n",
    "    \n",
    "    In the linear MKV-SDE considered here, we have $\\Psi\\bigl(\\mathcal{L}(\\widehat{\\gamma})\\bigr)(t) = \\bigl(\\mathbb{E}[\\sin(Z_t)], \\mathbb{E}[\\cos(Z_t)]\\bigr).$ We compute the fixed-point by solving the following: \n",
    "    \\begin{equation}\n",
    "    \\big| \\widehat{\\gamma} - \\widehat{\\Psi}^{(M+K)}(\\widehat{\\gamma})\\big|^2.\n",
    "    \\end{equation}\n",
    "    \n",
    "    To perform the numerical step, we vectorize $\\widehat{\\gamma}$ and $\\widehat{\\Psi}^{(M+K)}(\\widehat{\\gamma})$ by concatenating the rows to create a vector. Thus $\\widehat{\\gamma} = (\\widehat{\\gamma}_{1,1}, \\ldots, \\widehat{\\gamma}_{1,K}, \\widehat{\\gamma}_{2,1}, \\ldots, \\widehat{\\gamma}_{2,K}).$\n",
    "    \n",
    "    \\begin{equation}\n",
    "    F_i(\\widehat{\\gamma}, W) = \\sin(Z_{t_i}) - \\widehat{\\gamma}_{1,i}, i=1, \\ldots, K, \\quad \\text{and,} \\quad F_i(\\widehat{\\gamma}, W) = \\cos(Z_{t_i}) - \\widehat{\\gamma}_{2,i}, i=K+1, \\ldots, 2K.\n",
    "    \\end{equation}\n",
    "    \n",
    "    The Jacobian matrix is then given as \n",
    "    \\begin{equation}\n",
    "        J_{\\widehat{\\gamma}}F = \\begin{bmatrix}\n",
    "                                \\nabla^\\top F_1(\\widehat{\\gamma}, W) \\\\\n",
    "                                \\vdots\\\\\n",
    "                                \\nabla^\\top F_{2K}(\\widehat{\\gamma}, W)\n",
    "                                \\end{bmatrix}\n",
    "                                = \\begin{bmatrix}\n",
    "                                    \\frac{\\partial F_1}{\\partial \\widehat{\\gamma}_{1,1}} \\ldots \\frac{\\partial F_1}{\\partial \\widehat{\\gamma}_{2,K}}\\\\\n",
    "                                    \\vdots \\ddots \\vdots \\\\\n",
    "                                    \\frac{\\partial F_{2K}}{\\partial \\widehat{\\gamma}_{1,1}} \\ldots \\frac{\\partial F_{2K}}{\\partial \\widehat{\\gamma}_{2,K}}\\\\\n",
    "                                    \\end{bmatrix}\n",
    "                               = \\begin{bmatrix}\n",
    "                                   \\cos(Z_{t_1}) \\xi^1_{1,t_1} - 1 & \\cos(Z_{t_1}) \\xi^2_{1,t_1} & \\ldots & \\cos(Z_{t_1}) \\xi^{K}_{2,t_1}\\\\\n",
    "                                   \\cos(Z_{t_2}) \\xi^1_{1,t_2} & \\cos(Z_{t_2}) \\xi^2_{1,t_2} - 1 & \\ldots & \\cos(Z_{t_2}) \\xi^K_{2,t_2}\\\\\n",
    "                                   -\\sin(Z_{t_K}) \\xi^1_{1,t_K} & -\\sin(Z_{t_K}) \\xi^2_{1,t_K} & \\ldots & -\\sin(Z_{t_K}) \\xi^K_{2,t_K} - 1\n",
    "                               \\end{bmatrix}.\n",
    "    \\end{equation}"
   ]
  },
  {
   "cell_type": "markdown",
   "id": "c5f93f03",
   "metadata": {},
   "source": [
    "### Implementation for Method 2"
   ]
  },
  {
   "cell_type": "markdown",
   "id": "3b68f5f6",
   "metadata": {},
   "source": [
    "#### *Import relevant libraries*"
   ]
  },
  {
   "cell_type": "code",
   "execution_count": 2,
   "id": "bd2642a9",
   "metadata": {},
   "outputs": [],
   "source": [
    "import random\n",
    "import time\n",
    "import math\n",
    "import numpy\n",
    "from numpy import pi\n",
    "import matplotlib.pyplot as plt"
   ]
  },
  {
   "cell_type": "markdown",
   "id": "54f7e60a",
   "metadata": {},
   "source": [
    "#### *Import plot libraries*"
   ]
  },
  {
   "cell_type": "code",
   "execution_count": 3,
   "id": "6ea2074b",
   "metadata": {},
   "outputs": [],
   "source": [
    "from res.plot_lib import plot_data, plot_model, set_default\n",
    "set_default()"
   ]
  },
  {
   "cell_type": "markdown",
   "id": "763eb3d5",
   "metadata": {},
   "source": [
    "#### *Chebyvchev nodes*"
   ]
  },
  {
   "cell_type": "code",
   "execution_count": 4,
   "id": "3c79c42b",
   "metadata": {},
   "outputs": [],
   "source": [
    "def CC_nodes(a, b, n):\n",
    "    i = numpy.array(range(n))\n",
    "    x = numpy.cos((2 * i + 1) * pi /(2 * n))\n",
    "    z = 0.5 * (b-a) * x + 0.5 * (b + a)\n",
    "    return numpy.flip(z, 0)"
   ]
  },
  {
   "cell_type": "markdown",
   "id": "c4316bec",
   "metadata": {},
   "source": [
    "#### *Parameters*"
   ]
  },
  {
   "cell_type": "code",
   "execution_count": 85,
   "id": "9289f584",
   "metadata": {
    "scrolled": false
   },
   "outputs": [],
   "source": [
    "M = 10  # number of discretisation steps\n",
    "K = 10  # number of Chebychev nodes\n",
    "x0 = 1\n",
    "sigma = 1\n",
    "alpha = - 0.5\n",
    "beta = 0.3\n",
    "T = 0.2\n",
    "dt = T / M\n",
    "max_iter = 10000"
   ]
  },
  {
   "cell_type": "markdown",
   "id": "4ed37add",
   "metadata": {},
   "source": [
    "#### *Compute time grid and factors in polynomial approximation*"
   ]
  },
  {
   "cell_type": "code",
   "execution_count": 86,
   "id": "643cc0e8",
   "metadata": {},
   "outputs": [],
   "source": [
    "tspace = numpy.linspace(0, T, M + 1, dtype=float) # discretisation points\n",
    "tnodes = CC_nodes(0, T, K) # Chebychev nodes\n",
    "\n",
    "tspace = numpy.concatenate((tspace, tnodes), axis=0)\n",
    "tspace.sort()\n",
    "\n",
    "#identify the indices of Chebychev nodes in the time discretisation array\n",
    "tnodes_idx = numpy.zeros(K, dtype=int)\n",
    "tspace_ceil = numpy.uint(numpy.ceil(tspace * M / T))\n",
    "tspace_err = numpy.around(numpy.abs(tspace * M / T - tspace_ceil), 4)\n",
    "\n",
    "ctr = 0\n",
    "for j in range(M+K+1):\n",
    "    if tspace_err[j] != 0.0 and tspace_err[j] != 1.0:\n",
    "        tnodes_idx[ctr] = j\n",
    "        ctr += 1\n",
    "        \n",
    "tspace_fact = numpy.ones((M + K, K)) # M + K time factors for K different Chebychev nodes, t = 0 not required\n",
    "tnode_prod = numpy.zeros(K) \n",
    "\n",
    "# compute products in the denominator of polynomial approxmiation factor\n",
    "for k in range(K):\n",
    "    temp_prod = tnodes[k] - numpy.delete(tnodes, k)\n",
    "    tnode_prod[k] = numpy.prod(temp_prod)\n",
    "\n",
    "# compute time factors in the polynomial approxmiation\n",
    "for i in range(M+K):\n",
    "    for k in range(K):\n",
    "        temp_prod = tspace[i + 1] - numpy.delete(tnodes, k)\n",
    "        tspace_fact[i][k] =  numpy.prod(temp_prod) / tnode_prod[k]"
   ]
  },
  {
   "cell_type": "markdown",
   "id": "b430d070",
   "metadata": {},
   "source": [
    "#### *Define Kuramoto-type MKV SDE class*"
   ]
  },
  {
   "cell_type": "code",
   "execution_count": 87,
   "id": "c2333b26",
   "metadata": {},
   "outputs": [],
   "source": [
    "class MKVSDEkuramoto_approx():\n",
    "    def __init__(self, M, K):\n",
    "        super().__init__()\n",
    "        self.path = numpy.zeros(M+K+1)\n",
    "        self.path_grad = numpy.zeros(M+K+1) # sample path to be used for gradient process\n",
    "        self.grad = numpy.zeros((2,K,M+K+1)) # gradient processes\n",
    "    def generatepath(self, x0, gamma, alpha, beta, sigma, M, K, tspace, dW):\n",
    "        self.path[0] = x0\n",
    "        self.path_grad[0] = x0\n",
    "        for i in range(M+K):\n",
    "            dt = tspace[i+1] - tspace[i]\n",
    "            self.path[i+1] = self.path[i]  + numpy.cos(self.path[i]) * numpy.dot(gamma[0], tspace_fact[i]) * dt \\\n",
    "            - numpy.sin(self.path[i]) * numpy.dot(gamma[1], tspace_fact[i]) * dt \\\n",
    "            + sigma * dt ** 0.5 * dW[0][i]\n",
    "            self.path_grad[i+1] = self.path_grad[i]  + numpy.cos(self.path_grad[i]) * numpy.dot(gamma[0], tspace_fact[i]) * dt \\\n",
    "            - numpy.sin(self.path_grad[i]) * numpy.dot(gamma[1], tspace_fact[i]) * dt \\\n",
    "            + sigma * dt ** 0.5 * dW[1][i]\n",
    "            for k in range(K):\n",
    "                self.grad[0][k][i+1] = self.grad[0][k][i] + numpy.cos(self.path_grad[i]) * tspace_fact[i][k] * dt \\\n",
    "                - numpy.sin(self.path_grad[i]) * self.grad[0][k][i] * numpy.dot(gamma[0], tspace_fact[i]) * dt \\\n",
    "                - numpy.cos(self.path_grad[i]) * self.grad[0][k][i] * numpy.dot(gamma[1], tspace_fact[i]) * dt\n",
    "                self.grad[1][k][i+1] = self.grad[1][k][i] - numpy.sin(self.path_grad[i]) * tspace_fact[i][k] * dt \\\n",
    "                - numpy.cos(self.path_grad[i]) * self.grad[1][k][i] * numpy.dot(gamma[1], tspace_fact[i]) * dt\n",
    "                - numpy.sin(self.path_grad[i]) * self.grad[1][k][i] * numpy.dot(gamma[0], tspace_fact[i]) * dt\n",
    "\n",
    "# seed initialise\n",
    "random.seed(42)\n",
    "\n",
    "# start_time = time.time()\n",
    "# gamma = x0 * numpy.random.randn(2,K)\n",
    "# Z = MKVSDEkuramoto_approx(M, K)\n",
    "# dW = numpy.random.randn(2,M+K)\n",
    "# Z.generatepath(x0, gamma, alpha, beta, sigma, M, K, tspace, dW)\n",
    "# print(\"--- %s seconds ---\" % (time.time() - start_time))\n",
    "\n",
    "# plt.plot(tnodes, Z.grad[0][5][tnodes_idx])"
   ]
  },
  {
   "cell_type": "markdown",
   "id": "25e960ec",
   "metadata": {},
   "source": [
    "#### Test bench"
   ]
  },
  {
   "cell_type": "code",
   "execution_count": 98,
   "id": "dd4d6946",
   "metadata": {},
   "outputs": [],
   "source": [
    "# x = numpy.array([0, 1, 4, 9])\n",
    "# y = numpy.array([2, 3, 6, 7])\n",
    "# w = [8, 9, 3, 10]\n",
    "\n",
    "# z = numpy.array([x[0:2],x[2:4]])\n",
    "# print(z[1])\n",
    "\n",
    "# print(x * y)\n",
    "# z = x\n",
    "# z = numpy.vstack([z, y])\n",
    "# z = numpy.vstack([z, w])\n",
    "# z = numpy.transpose(z)\n",
    "# z = numpy.vstack([z, z])\n",
    "# z = numpy.hstack([z, z])\n",
    "# print(z)\n",
    "# a = numpy.array([[1,2],[3,4]])\n",
    "# b = numpy.array([[5,6],[7,8]])\n",
    "\n",
    "# a * b\n",
    "\n",
    "# gamma = 2.5 * x0 * numpy.ones((2,K))\n",
    "# # print(numpy.concatenate([numpy.sin(gamma[0]), numpy.cos(gamma[1])]))\n",
    "\n",
    "# mat1 = numpy.concatenate([numpy.cos(gamma[0]), -numpy.sin(gamma[1])])\n",
    "# mat1 = numpy.transpose(numpy.tile(mat1, (2*K,1)))\n",
    "# print(mat1.shape)\n",
    "# print(mat1[1])\n",
    "\n",
    "# gamma = 2.5 * x0 * numpy.ones((2,K,M+K+1))\n",
    "# mat1 = numpy.vstack([numpy.cos(gamma[0][0][tnodes_idx]), -numpy.sin(gamma[1][0][tnodes_idx])])\n",
    "# for i in range(K-1):\n",
    "#     tempmat = numpy.vstack([numpy.cos(gamma[0][i+1][tnodes_idx]), -numpy.sin(gamma[1][i+1][tnodes_idx])])\n",
    "#     mat1 = numpy.vstack([mat1, tempmat])\n",
    "# mat1 = numpy.hstack([mat1, mat1])\n",
    "# mat1 = numpy.transpose(mat1)\n",
    "# print(mat1.shape)\n"
   ]
  },
  {
   "cell_type": "markdown",
   "id": "0806c9e9",
   "metadata": {},
   "source": [
    "#### *SGD*"
   ]
  },
  {
   "cell_type": "code",
   "execution_count": 89,
   "id": "3d145290",
   "metadata": {},
   "outputs": [
    {
     "name": "stdout",
     "output_type": "stream",
     "text": [
      "Iteration: [999/10000] \n",
      "Iteration: [1999/10000] \n",
      "Iteration: [2999/10000] \n",
      "Iteration: [3999/10000] \n",
      "Iteration: [4999/10000] \n",
      "Iteration: [5999/10000] \n",
      "Iteration: [6999/10000] \n",
      "Iteration: [7999/10000] \n",
      "Iteration: [8999/10000] \n",
      "Iteration: [9999/10000] \n",
      "---Run time for SGD algo: 37.81499147415161 seconds ---\n",
      "[[0.84152305 0.83727122 0.82961969 0.81946055 0.80904106 0.79866746\n",
      "  0.79029711 0.7812122  0.77636309 0.77404015]\n",
      " [0.54255239 0.54001539 0.53544043 0.53062111 0.52309408 0.5144567\n",
      "  0.50724317 0.50404772 0.49943051 0.49771932]]\n"
     ]
    }
   ],
   "source": [
    "lr = 0.01 # learning rate\n",
    "l2pen = 0 # l2 penalization parameter\n",
    "error_tol = 10 ** -4 # error tolerance\n",
    "error = 1000\n",
    "gamma = x0 * numpy.ones((2,K))\n",
    "Z = MKVSDEkuramoto_approx(M, K)\n",
    "gamma_aver = numpy.zeros((2,K))\n",
    "dW = numpy.random.randn(max_iter,2,M+K)\n",
    "jacobian = numpy.zeros((2*K,2*K))\n",
    "\n",
    "start_time = time.time()\n",
    "ctr = 0 # iteration counter\n",
    "while ctr < max_iter and error > error_tol:\n",
    "    Z.generatepath(x0, gamma, alpha, beta, sigma, M, K, tspace, dW[ctr])\n",
    "    loss_grad = 2 * (numpy.concatenate([numpy.sin(Z.path[tnodes_idx]), numpy.cos(Z.path[tnodes_idx])]) \\\n",
    "                     - numpy.concatenate([gamma[0], gamma[1]]))\n",
    "        \n",
    "    # matrix of basis function at independent path values\n",
    "    jacob1 = numpy.concatenate([numpy.cos(Z.path_grad[tnodes_idx]), \\\n",
    "                                -numpy.sin(Z.path_grad[tnodes_idx])])\n",
    "    jacob1 = numpy.transpose(numpy.tile(jacob1, (2*K,1))) \n",
    "    \n",
    "    # final matrix of gradient values -- This part needs to be generalised and optimised\n",
    "    jacob2_1 = Z.grad[0][0][tnodes_idx]\n",
    "    jacob2_2 = Z.grad[1][0][tnodes_idx]\n",
    "    for i in range(K-1):\n",
    "        jacob2_1 = numpy.vstack([jacob2_1, Z.grad[0][i+1][tnodes_idx]])\n",
    "        jacob2_2 = numpy.vstack([jacob2_2, Z.grad[1][i+1][tnodes_idx]])\n",
    "    jacob2_1 = numpy.transpose(jacob2_1)    \n",
    "    jacob2_2 = numpy.transpose(jacob2_2)\n",
    "    jacob2_1 = numpy.vstack([jacob2_1, jacob2_1])\n",
    "    jacob2_2 = numpy.vstack([jacob2_2, jacob2_2])\n",
    "    jacob2 = numpy.hstack([jacob2_1, jacob2_2])\n",
    "    \n",
    "    # element wise product\n",
    "    jacobian = jacob1 * jacob2 \n",
    "    jacobian = jacobian - numpy.eye(2*K)\n",
    "    gamma_prev = gamma\n",
    "    gamma_prev_SGD = numpy.concatenate([gamma_prev[0], gamma_prev[1]])\n",
    "    \n",
    "    gamma_SGD = gamma_prev_SGD * (1 - l2pen) - lr * numpy.matmul(loss_grad, jacobian)\n",
    "    \n",
    "    gamma = numpy.array([gamma_SGD[0:K],gamma_SGD[K:2*K]])\n",
    "    gamma_aver += gamma\n",
    "\n",
    "    if (ctr + 1) % 1000 == 0:\n",
    "        print('Iteration: [{}/{}] '.format(ctr, max_iter))\n",
    "    ctr += 1\n",
    "\n",
    "print(\"---Run time for SGD algo: %s seconds ---\" % (time.time() - start_time))\n",
    "\n",
    "print(gamma_aver / max_iter)"
   ]
  },
  {
   "cell_type": "markdown",
   "id": "d6fb36a2",
   "metadata": {},
   "source": [
    "#### *Monte Carlo benchmark*"
   ]
  },
  {
   "cell_type": "code",
   "execution_count": 97,
   "id": "02d674c3",
   "metadata": {},
   "outputs": [
    {
     "name": "stdout",
     "output_type": "stream",
     "text": [
      "[0.84110737 0.83747169 0.83011853 0.81866303 0.80802112 0.79709497\n",
      " 0.78673339 0.78017614 0.77571409 0.773262  ]\n",
      "[0.53973106 0.53659773 0.53143943 0.52701542 0.51922136 0.5119103\n",
      " 0.5072113  0.50087977 0.49685257 0.49386485]\n"
     ]
    }
   ],
   "source": [
    "N = 10000\n",
    "ZMC1 = numpy.zeros(N)\n",
    "ZMC1 = x0 # starting value\n",
    "gamma1 = numpy.zeros(M+K+1)\n",
    "gamma2 = numpy.zeros(M+K+1)\n",
    "\n",
    "gamma1[0] = numpy.mean(numpy.sin(ZMC1))\n",
    "gamma2[0] = numpy.mean(numpy.cos(ZMC1))\n",
    "ZMC2 = numpy.zeros(N)\n",
    "\n",
    "dW = numpy.random.randn(M+K,N)\n",
    "for i in range(M+K):\n",
    "        dt = tspace[i+1] - tspace[i]\n",
    "        ZMC2 = ZMC1  + numpy.cos(ZMC1) * gamma1[i] * dt \\\n",
    "        - numpy.sin(ZMC1) * gamma2[i] * dt \\\n",
    "        + sigma * dt ** 0.5 * dW[i]\n",
    "        \n",
    "        ZMC1 = ZMC2\n",
    "        gamma1[i+1] = numpy.mean(numpy.sin(ZMC1))\n",
    "        gamma2[i+1] = numpy.mean(numpy.cos(ZMC1))\n",
    "\n",
    "print(gamma1[tnodes_idx])\n",
    "print(gamma2[tnodes_idx])"
   ]
  },
  {
   "cell_type": "code",
   "execution_count": null,
   "id": "64ebdf38",
   "metadata": {
    "scrolled": true
   },
   "outputs": [],
   "source": [
    "# print(numpy.sum(numpy.abs(gamma_aver / max_iter - gamma_benchmark[tnodes_idx])))\n",
    "plt.plot(tspace[tnodes_idx], gamma_aver[0] / max_iter, 'y', label='approx')\n",
    "plt.plot(tspace[tnodes_idx], gamma1[tnodes_idx], 'g', label='MC')\n",
    "plt.legend()\n",
    "plt.title('max_iter = ' + str(max_iter) + ', M = ' + str(M) + ', K = ' + str(K) + ', T = ' + str(T))"
   ]
  }
 ],
 "metadata": {
  "kernelspec": {
   "display_name": "Python 3 (ipykernel)",
   "language": "python",
   "name": "python3"
  },
  "language_info": {
   "codemirror_mode": {
    "name": "ipython",
    "version": 3
   },
   "file_extension": ".py",
   "mimetype": "text/x-python",
   "name": "python",
   "nbconvert_exporter": "python",
   "pygments_lexer": "ipython3",
   "version": "3.8.8"
  }
 },
 "nbformat": 4,
 "nbformat_minor": 5
}
