{
 "cells": [
  {
   "cell_type": "code",
   "execution_count": 14,
   "id": "53da57a2",
   "metadata": {},
   "outputs": [
    {
     "name": "stdout",
     "output_type": "stream",
     "text": [
      "  File \"/Users/vadimplatonov/Documents/GitHub/Fourier_SDE_SGD/remove_output.py\", line 27\r\n",
      "    print \"wrote %s\" % new_ipynb\r\n",
      "          ^\r\n",
      "SyntaxError: Missing parentheses in call to 'print'. Did you mean print(\"wrote %s\" % new_ipynb)?\r\n"
     ]
    }
   ],
   "source": [
    "!python remove_output.py main.ipynb [ > without_output.ipynb ]"
   ]
  }
 ],
 "metadata": {
  "kernelspec": {
   "display_name": "Python 3 (ipykernel)",
   "language": "python",
   "name": "python3"
  },
  "language_info": {
   "codemirror_mode": {
    "name": "ipython",
    "version": 3
   },
   "file_extension": ".py",
   "mimetype": "text/x-python",
   "name": "python",
   "nbconvert_exporter": "python",
   "pygments_lexer": "ipython3",
   "version": "3.9.4"
  }
 },
 "nbformat": 4,
 "nbformat_minor": 5
}
