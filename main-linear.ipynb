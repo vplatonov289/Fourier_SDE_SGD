{
 "cells": [
  {
   "cell_type": "markdown",
   "id": "bee2f2dd",
   "metadata": {},
   "source": [
    "# Getting the optimal local Fourier approximation for MV-SDE"
   ]
  },
  {
   "cell_type": "markdown",
   "id": "4dbfa0d5",
   "metadata": {},
   "source": [
    "add description here"
   ]
  },
  {
   "cell_type": "markdown",
   "id": "00f14b8d",
   "metadata": {},
   "source": [
    "### Initialising libraries"
   ]
  },
  {
   "cell_type": "code",
   "execution_count": 1,
   "id": "df3054d0",
   "metadata": {},
   "outputs": [],
   "source": [
    "import numpy as np\n",
    "import matplotlib.pyplot as plt\n",
    "\n",
    "import time\n",
    "\n",
    "from brownian_motion import simulate_dW, simulate_dW_1d, transform_dW\n",
    "from linear_true import SDE_Linear_MV\n",
    "from linear_appr import SDE_Linear_MV_appr\n",
    "from algorithm import SGD_MV"
   ]
  },
  {
   "cell_type": "markdown",
   "id": "62963979",
   "metadata": {},
   "source": [
    "## McKean-Vlasov SDE of Kuramoto's type."
   ]
  },
  {
   "cell_type": "markdown",
   "id": "2a597dd0",
   "metadata": {},
   "source": [
    "### We initialise the main class and test it."
   ]
  },
  {
   "cell_type": "markdown",
   "id": "aff404af",
   "metadata": {},
   "source": [
    "We initialise the class of MV-SDE that admits the following dynamics:\n",
    "\n",
    "$$\n",
    "\\text{d}X_t = (\\alpha X_t + \\beta~\\mathbb{E}[X_t])\\text{d}t + \\sigma ~\\text{d}W_t, \\quad X_0 = x_0 \\in \\mathbb{R}.\n",
    "$$\n",
    "\n",
    "We know that $$\\mathbb{E}[X_t] = x_0\\exp((\\alpha+\\beta)t).$$"
   ]
  },
  {
   "cell_type": "markdown",
   "id": "0c1201e6",
   "metadata": {},
   "source": [
    "## ***write on approximation***"
   ]
  },
  {
   "cell_type": "markdown",
   "id": "c7b4e432",
   "metadata": {},
   "source": [
    "## Testing the variance of $\\gamma$."
   ]
  },
  {
   "cell_type": "code",
   "execution_count": 2,
   "id": "967490b4",
   "metadata": {},
   "outputs": [],
   "source": [
    "# n_discr = 100\n",
    "\n",
    "# x_0 = 1\n",
    "# alpha = - 0.5\n",
    "# beta = 0.3\n",
    "# sigma = 1\n",
    "# dW_t = simulate_dW_1d(n_discr,1)\n",
    "\n",
    "# T = 1\n",
    "\n",
    "# X_linear = SDE_Linear_MV(x_0 = x_0, alpha = alpha, beta = beta, sigma = sigma, dW_t = dW_t,\n",
    "#                  T = T, n_discr = n_discr)\n",
    "# X_linear.plot_path()\n",
    "\n",
    "# X_linear_appr = SDE_Linear_MV_appr(x_0 = x_0, alpha = alpha, beta = beta, sigma = sigma, \n",
    "#                  gamma = np.random.uniform(low = -0.3, high = 0.3, size = n_discr), \n",
    "#                  dW_t = dW_t, T = T, n_discr = n_discr)\n",
    "# X_linear_appr.plot_path()"
   ]
  },
  {
   "cell_type": "code",
   "execution_count": 36,
   "id": "83733e41",
   "metadata": {
    "scrolled": true
   },
   "outputs": [
    {
     "name": "stdout",
     "output_type": "stream",
     "text": [
      "Solved for 0.1642 seconds.\n",
      "[ 0.3705203   0.00937203  0.04318636 -0.00291129  0.08613135 -0.13345717\n",
      "  0.01198633  0.01112418 -0.04953406 -0.0189504 ]\n",
      "Solved for 0.6303 seconds.\n",
      "[ 0.1187055   0.02825128  0.03734814  0.02349059  0.05613788 -0.00040458\n",
      "  0.03198561  0.03471826  0.02486017  0.02804439]\n",
      "Solved for 0.4491 seconds.\n",
      "[ 0.15899764  0.02504573  0.02832803  0.01149723  0.03949022 -0.04030064\n",
      "  0.0191739   0.01167065 -0.00546124 -0.01169439]\n",
      "Solved for 0.2324 seconds.\n",
      "[ 0.33319515  0.08537676  0.10873064  0.0730477   0.13435458 -0.0230501\n",
      "  0.07614796  0.07072098  0.02927064  0.04537538]\n",
      "Solved for 0.9791 seconds.\n",
      "[ 0.07244464  0.01238803  0.01514859  0.0014666   0.0174107  -0.02508558\n",
      "  0.00196838  0.00600775 -0.00677895 -0.00041413]\n",
      "Solved for 0.6031 seconds.\n",
      "[ 0.10561021  0.00072234  0.00562638 -0.01230859  0.01916934 -0.03866826\n",
      " -0.00681657 -0.01131602 -0.02398273 -0.02094594]\n",
      "Solved for 0.2486 seconds.\n",
      "[0.34746151 0.12036516 0.14427116 0.13146136 0.18786846 0.04406148\n",
      " 0.14068829 0.14495901 0.0960543  0.11108158]\n",
      "Solved for 0.2149 seconds.\n",
      "[ 0.31563114  0.03961407  0.06193056  0.02183402  0.09279252 -0.08650013\n",
      "  0.02983005  0.03491337 -0.01595614  0.00697225]\n",
      "Solved for 0.2281 seconds.\n",
      "[ 0.24521051 -0.01263164  0.01599896 -0.02077537  0.04207488 -0.11722824\n",
      " -0.01466804 -0.01597386 -0.05580743 -0.04395121]\n",
      "Solved for 0.5086 seconds.\n",
      "[ 0.10037123 -0.02936975 -0.02097844 -0.04014378 -0.00553309 -0.08314856\n",
      " -0.04176167 -0.03390049 -0.05398526 -0.04774031]\n"
     ]
    }
   ],
   "source": [
    "n_discr_test = 10\n",
    "\n",
    "x_0 = 1\n",
    "alpha = -0.5\n",
    "beta = 0.3\n",
    "\n",
    "gamma_starting = np.zeros(n_discr_test)\n",
    "gamma_starting[0] = x_0\n",
    "\n",
    "\n",
    "# print(np.random.uniform(low = - 0.3, high = 0.3, size = (2,n_discr_test - 1)).shape)\n",
    "# print(gamma_starting[:,1:].shape)\n",
    "\n",
    "gamma_starting[1:] = np.random.uniform(low = - 0.3, high = 0.3, size = n_discr_test - 1)\n",
    "#print(gamma_starting)\n",
    "gammas = []\n",
    "#eta = 0.05\n",
    "\n",
    "for i in range(10):\n",
    "    gamma_ref = SGD_MV(n_discr = n_discr_test, eta = 0.005, gamma = gamma_starting, T = 0.2, eps = 0.001, N_iter = 50000, key = 'linear')\n",
    "    print(gamma_ref)\n",
    "    gammas.append(gamma_ref)"
   ]
  },
  {
   "cell_type": "markdown",
   "id": "37db80e8",
   "metadata": {},
   "source": [
    "### We save the average of the SGD gammas to use further in the benchmark."
   ]
  },
  {
   "cell_type": "code",
   "execution_count": null,
   "id": "3b0a0c9a",
   "metadata": {},
   "outputs": [],
   "source": [
    "gamma_average_sgd = np.mean(gammas, axis = 0)\n",
    "print(f'Average gamma is {gamma_average_sgd}')"
   ]
  },
  {
   "cell_type": "markdown",
   "id": "c2b82780",
   "metadata": {},
   "source": [
    "### We save the high discretisation gamma to compare with the ones of lower discretisation."
   ]
  },
  {
   "cell_type": "code",
   "execution_count": null,
   "id": "993ca59f",
   "metadata": {
    "scrolled": false
   },
   "outputs": [],
   "source": [
    "# n_discr_high = 64\n",
    "\n",
    "# gamma_starting = np.random.uniform(low = - 0.3, high = 0.3, size = (2,n_discr_high))\n",
    "# gamma_reference = SGD_MV(n_discr = n_discr_high, eta = 0.01, gamma = gamma_starting, T = 1, eps = 0.001, N_iter = 100)"
   ]
  },
  {
   "cell_type": "code",
   "execution_count": null,
   "id": "44330598",
   "metadata": {},
   "outputs": [],
   "source": [
    "# print(gamma_reference)\n",
    "# n_frequency_range = [2 ** i for i in range(1,6)] ## from 2^6 to 2\n",
    "\n",
    "# #n_discr_range = [50,20,10,5,2]\n",
    "# T = 1\n",
    "# x_0 = 1\n",
    "# sigma = 1\n",
    "\n",
    "# n_mc = 10000\n",
    "\n",
    "# dW_t = simulate_dW_1d(n_discr_high,T)\n",
    "\n",
    "# for n in n_frequency_range:\n",
    "#     n_discr_local = n_discr_high // n\n",
    "    \n",
    "#     gamma_aver_mc = np.zeros((2,n_discr_local))\n",
    "#     dW_t_local = transform_dW(dW_t, n_discr_high, n_discr_local)\n",
    "# #     gamma_starting_local = np.zeros((2,n_discr_local))\n",
    "# #     gamma_starting_local[0] = gamma_starting[0][::n]\n",
    "# #     gamma_starting_local[1] = gamma_starting[1][::n]\n",
    "    \n",
    "#     gamma_local = np.zeros((2,n_discr_local))\n",
    "#     gamma_local[0] = gamma_reference[0][::n]\n",
    "#     gamma_local[1] = gamma_reference[1][::n]\n",
    "\n",
    "# #     gamma_local = SGD_MV(n_discr = n_discr_local, eta = 0.01, gamma = gamma_starting_local, T = 1, eps = 0.005, N_iter = 500)\n",
    "\n",
    "#     for i in range(n_mc):\n",
    "#         X = SDE_Kuramoto_MV_appr(x_0, sigma, gamma_local, dW_t_local, T, n_discr_local)\n",
    "#         gamma_aver_mc[0] = gamma_aver_mc[0] * i / (i + 1) + np.sin(X.x) * 1 / (i + 1)\n",
    "#         gamma_aver_mc[1] = gamma_aver_mc[1] * i / (i + 1) + (-np.cos(X.x)) * 1 / (i + 1)\n",
    "#     print(f'The difference between MC gamma_aver and gamma_aver from the algorithm for {n_discr_local} is: \\n\\n{gamma_aver_mc - gamma_local}')\n",
    "\n",
    "#     print(f'\\nThe maximum norm for {n_discr_local}: {abs(gamma_aver_mc - gamma_local).max()}.')\n",
    "#     print('\\n___________________________________________________________________________________________')\n",
    "#     print('___________________________________________________________________________________________\\n')"
   ]
  },
  {
   "cell_type": "markdown",
   "id": "13b170ae",
   "metadata": {},
   "source": [
    "## Gamma benchmark: comparison of the average of the gammas obtained through SGD and gamma of the MC estimate of the particles system."
   ]
  },
  {
   "cell_type": "code",
   "execution_count": 34,
   "id": "552a67ef",
   "metadata": {
    "scrolled": false
   },
   "outputs": [
    {
     "name": "stdout",
     "output_type": "stream",
     "text": [
      "Gamma benchmark is \n",
      "[1.         0.99965144 0.99921599 0.99880455 0.99835914 0.99796832\n",
      " 0.99760456 0.99719757 0.99670061 0.99629035 0.99586576 0.99548703\n",
      " 0.99507456 0.99462737 0.99411456 0.99363666 0.99322807 0.99283335\n",
      " 0.99239516 0.99206383 0.99161686 0.99124988 0.99084559 0.99051672\n",
      " 0.9900826  0.98970802 0.9893022  0.98892992 0.98855968 0.98817256\n",
      " 0.98775408 0.98737142 0.9869896  0.98659104 0.98622646 0.98581313\n",
      " 0.98542475 0.9850284  0.98460509 0.98420057 0.98377026 0.98343284\n",
      " 0.98309058 0.98273693 0.98232644 0.98193235 0.9815912  0.98114045\n",
      " 0.98069785 0.9802465  0.97991277 0.97951807 0.97907927 0.97868171\n",
      " 0.97831202 0.97790804 0.97750895 0.9770899  0.97673429 0.97635916\n",
      " 0.97596058 0.97553299 0.97520335 0.97486184 0.97441263 0.97405898\n",
      " 0.97368105 0.97332807 0.97286215 0.9724867  0.97207359 0.97172973\n",
      " 0.9714107  0.97093414 0.97055028 0.97014517 0.96979348 0.96942861\n",
      " 0.9690453  0.96863999 0.96821748 0.96783537 0.96741152 0.96702229\n",
      " 0.96663192 0.96621071 0.96587214 0.96555723 0.96516922 0.9648338\n",
      " 0.96446868 0.9640606  0.96368691 0.96332205 0.9629468  0.96260137\n",
      " 0.96220625 0.9617688  0.96142854 0.96107126].\n",
      "\n",
      "Gamma benchmark is \n",
      "[1.         0.99959604 0.99919225 0.99878861 0.99838514 0.99798184\n",
      " 0.99757869 0.99717571 0.9967729  0.99637024 0.99596775 0.99556542\n",
      " 0.99516325 0.99476125 0.9943594  0.99395772 0.9935562  0.99315485\n",
      " 0.99275366 0.99235262 0.99195175 0.99155105 0.9911505  0.99075012\n",
      " 0.99034989 0.98994983 0.98954993 0.9891502  0.98875062 0.98835121\n",
      " 0.98795195 0.98755286 0.98715393 0.98675516 0.98635655 0.98595811\n",
      " 0.98555982 0.98516169 0.98476373 0.98436593 0.98396828 0.9835708\n",
      " 0.98317348 0.98277632 0.98237931 0.98198247 0.98158579 0.98118927\n",
      " 0.98079291 0.98039671 0.98000067 0.97960479 0.97920907 0.97881351\n",
      " 0.97841811 0.97802287 0.97762779 0.97723287 0.97683811 0.97644351\n",
      " 0.97604906 0.97565478 0.97526066 0.97486669 0.97447288 0.97407924\n",
      " 0.97368575 0.97329242 0.97289925 0.97250624 0.97211339 0.97172069\n",
      " 0.97132816 0.97093578 0.97054356 0.9701515  0.9697596  0.96936786\n",
      " 0.96897627 0.96858485 0.96819358 0.96780247 0.96741152 0.96702072\n",
      " 0.96663009 0.96623961 0.96584929 0.96545912 0.96506912 0.96467927\n",
      " 0.96428958 0.96390005 0.96351067 0.96312145 0.96273239 0.96234349\n",
      " 0.96195474 0.96156615 0.96117772 0.96078944].\n",
      "\n"
     ]
    }
   ],
   "source": [
    "#print(f'Average gamma from the algorithm is \\n{gamma_average_sgd}.\\n')\n",
    "\n",
    "n_discr_high = 100\n",
    "n_part = 1000000\n",
    "x_0 = 1\n",
    "T = 0.2\n",
    "alpha = -0.5\n",
    "beta = 0.3\n",
    "\n",
    "# dW_t = simulate_dW(n_part, T = T)\n",
    "# X_true = SDE_Kuramoto_MV(x_0 = x_0, alpha = -0.5, beta = 0.3 sigma = 1, dW_t = dW_t, T = T, n_discr = n_discr_high, n_part = n_part)\n",
    "\n",
    "gamma_benchmark = np.zeros(n_discr_high)\n",
    "\n",
    "for i in range(n_part):\n",
    "    dW_t = simulate_dW_1d(n_discr_high, T = T)\n",
    "    X_true = SDE_Linear_MV(x_0 = x_0, alpha = -0.5, beta = 0.3, sigma = 1, dW_t = dW_t, T = T, n_discr = n_discr_high)\n",
    "    gamma_benchmark = gamma_benchmark * i / (i + 1) + X_true.x * 1 / (i + 1)\n",
    "\n",
    "print(f'Gamma benchmark is \\n{gamma_benchmark}.\\n')\n",
    "\n",
    "t = np.linspace(0,T,n_discr_high)\n",
    "\n",
    "print(f'Gamma benchmark is \\n{np.exp((alpha+beta)*t)}.\\n')\n",
    "\n",
    "# print(f'The error is {gamma_average_sgd - gamma_benchmark}.\\n')\n",
    "# print(f'The maximum norm is {abs(gamma_average_sgd - gamma_benchmark).max()}\\n')"
   ]
  },
  {
   "cell_type": "code",
   "execution_count": null,
   "id": "904aab0e",
   "metadata": {},
   "outputs": [],
   "source": []
  },
  {
   "cell_type": "code",
   "execution_count": null,
   "id": "44a14fb6",
   "metadata": {},
   "outputs": [],
   "source": [
    "\n",
    "# # dW_t_truncated = dW_t[0]\n",
    "\n",
    "# t = np.linspace(0, T, n_discr)\n",
    "        \n",
    "# fig, ax = plt.subplots(1,1,figsize=(15, 10), tight_layout=True)\n",
    "\n",
    "# ax.set_title(r\"Dynamics of the SDE\", fontsize = 15)\n",
    "# ax.set_xlabel(r'$t$',fontsize = 15)\n",
    "# ax.set_ylabel(r'$X_t$',fontsize = 15)\n",
    "# ax.tick_params(axis='both', which='major', labelsize = 20)\n",
    "# ax.tick_params(axis='both', which='minor', labelsize = 20)\n",
    "\n",
    "# # for n in range(length(n_frequency_range)):\n",
    "# #     dW_t_local = transform_dW(dW_t,n_discr,n_frequency_range[n])\n",
    "# #     X_test = SDE_Kuramoto_MV_appr(X_true.x_0[0], sigma, gammas_freq[n], dW_t_local, T, n_discr_high // n_frequency_range[n])\n",
    "# #     ax.plot(t, X_test.x, label = 'our approximation')\n",
    "    \n",
    "# ax.plot(t, X_true.x[0],c = 'r', label = 'particle approxmiation')\n",
    "# plt.legend(loc = 'best', fontsize = 20)\n",
    "# plt.show()"
   ]
  },
  {
   "cell_type": "code",
   "execution_count": null,
   "id": "618e331a",
   "metadata": {},
   "outputs": [],
   "source": [
    "# n_discr_high = 20\n",
    "\n",
    "# gamma_starting = np.random.uniform(low = - 0.3, high = 0.3, size = (2,n_discr_high))\n",
    "# gamma_reference = SGD_MV(n_discr = n_discr_high, eta = 0.01, gamma = gamma_starting, T = 1, eps = 0.005, N_iter = 5000)"
   ]
  },
  {
   "cell_type": "code",
   "execution_count": null,
   "id": "6faf1dbe",
   "metadata": {
    "scrolled": false
   },
   "outputs": [],
   "source": [
    "# n_discr = n_discr_high\n",
    "\n",
    "# gamma_ref = gamma_reference\n",
    "\n",
    "# n_mc = 10000\n",
    "# t = np.linspace(0,1,n_discr)\n",
    "\n",
    "# fig, ax = plt.subplots(1,2,figsize=(18, 10), tight_layout=True)\n",
    "\n",
    "# ax[0].set_title(r\"Dynamics of the $\\gamma$ of $\\sin$\", fontsize = 15)\n",
    "# ax[0].set_xlabel(r'$t$',fontsize = 15)\n",
    "# ax[0].set_ylabel(r'$\\gamma_t$',fontsize = 15)\n",
    "# ax[0].tick_params(axis='both', which='major', labelsize = 20)\n",
    "# ax[0].tick_params(axis='both', which='minor', labelsize = 20)\n",
    "\n",
    "# ax[1].set_title(r\"Dynamics of the $\\gamma$ of $\\cos$\", fontsize = 15)\n",
    "# ax[1].set_xlabel(r'$t$',fontsize = 15)\n",
    "# ax[1].set_ylabel(r'$\\gamma_t$',fontsize = 15)\n",
    "# ax[1].tick_params(axis='both', which='major', labelsize = 20)\n",
    "# ax[1].tick_params(axis='both', which='minor', labelsize = 20)\n",
    "\n",
    "# T = 1\n",
    "\n",
    "# gamma_aver_mc = np.zeros((2,n_discr))\n",
    "# for j in range(20):\n",
    "#     for i in range(n_mc):\n",
    "#         dW_t = simulate_dW_1d(n_discr, T)\n",
    "#         X = SDE_Kuramoto_MV_appr(x_0, sigma, gamma_ref, dW_t, T, n_discr)\n",
    "#         gamma_aver_mc[0] = gamma_aver_mc[0] * i / (i + 1) + np.sin(X.x) * 1 / (i + 1)\n",
    "#         gamma_aver_mc[1] = gamma_aver_mc[1] * i / (i + 1) + (-np.cos(X.x)) * 1 / (i + 1)\n",
    "#     print(f'Gamma benchmark is: \\n{gamma_aver_mc}\\n\\n')\n",
    "#     print(f'The difference between MC gamma_aver and gamma_aver from the algorithm for {n_discr} is: \\n\\n{gamma_aver_mc - gamma_ref}')\n",
    "\n",
    "#     print(f'\\nThe maximum norm for {n_discr}: {abs(gamma_aver_mc - gamma_ref).max()}.')\n",
    "#     print('\\n_____________________________________________a______________________________________________')\n",
    "#     print('___________________________________________________________________________________________\\n')\n",
    "    \n",
    "#     # for n in range(length(n_frequency_range)):\n",
    "#     #     dW_t_local = transform_dW(dW_t,n_discr,n_frequency_range[n])\n",
    "#     #     X_test = SDE_Kuramoto_MV_appr(X_true.x_0[0], sigma, gammas_freq[n], dW_t_local, T, n_discr_high // n_frequency_range[n])\n",
    "#     #     ax.plot(t, X_test.x, label = 'our approximation')\n",
    "\n",
    "#     ax[0].plot(t, gamma_aver_mc[0], label = j)\n",
    "#     ax[1].plot(t, gamma_aver_mc[1], label = j)\n",
    "    \n",
    "# ax[0].plot(t,gamma_ref[0], label = 'gamma_ref')\n",
    "# ax[1].plot(t,gamma_ref[1], label = 'gamma_ref')\n",
    "# plt.legend(loc = 'best', fontsize = 20)\n",
    "# plt.show()"
   ]
  },
  {
   "cell_type": "code",
   "execution_count": null,
   "id": "98caff38",
   "metadata": {
    "scrolled": false
   },
   "outputs": [],
   "source": [
    "n_discr_test = [2,5,10]\n",
    "etas_test = [0.1,0.05,0.01,0.005,0.001]\n",
    "N_iter_test = [100,200,500,1000,5000,10000]\n",
    "tol_test = [0.1,0.05,0.01,0.005,0.001]\n",
    "\n",
    "x_0 = 1\n",
    "\n",
    "gamma_starting = np.zeros((2,100))\n",
    "gamma_starting[0][0] = np.sin(x_0)\n",
    "gamma_starting[1][0] = - np.cos(x_0)\n",
    "gamma_starting[:,1:] = np.random.uniform(low = - 0.3, high = 0.3, size = (2,100 - 1))\n",
    "\n",
    "\n",
    "\n",
    "for n_discr_i in range(len(n_discr_test)):\n",
    "    for eta_i in range(len(etas_test)):\n",
    "        \n",
    "        fig, ax = plt.subplots(len(N_iter_test),len(tol_test),figsize=(40, 30), tight_layout=True)\n",
    "        t_high = np.linspace(0,T,n_discr_high)\n",
    "        for N_iter_i in range(len(N_iter_test)):\n",
    "            for tol_i in range(len(tol_test)):\n",
    "                gamma_starting_local = np.zeros((2,n_discr_test[n_discr_i]))\n",
    "                #print(n_discr_test[n_discr_i])\n",
    "                gamma_starting_local[0] = gamma_starting[0][::100 // n_discr_test[n_discr_i]]\n",
    "                gamma_starting_local[1] = gamma_starting[1][::100 // n_discr_test[n_discr_i]]\n",
    "\n",
    "                gamma_sol = SGD_MV(n_discr = n_discr_test[n_discr_i], eta = etas_test[eta_i], gamma = gamma_starting_local, T = 0.2, eps = tol_test[tol_i], N_iter = N_iter_test[N_iter_i], key = 'kuramoto')\n",
    "\n",
    "                print(f'For n_discr = {n_discr_test[n_discr_i]}, eta = {etas_test[eta_i]}, N_iter = {N_iter_test[N_iter_i]}, tol_i = {tol_test[tol_i]} the gamma is \\n {gamma_sol}. \\n\\n')\n",
    "                \n",
    "                ax[N_iter_i][tol_i].set_title(f\"{N_iter_test[N_iter_i]} iterations, {tol_test[tol_i]} tolerance\", fontsize = 15)\n",
    "                ax[N_iter_i][tol_i].set_xlabel(r'$t$',fontsize = 15)\n",
    "                ax[N_iter_i][tol_i].set_ylabel(r'$\\gamma_t$',fontsize = 15)\n",
    "                ax[N_iter_i][tol_i].tick_params(axis='both', which='major', labelsize = 20)\n",
    "                ax[N_iter_i][tol_i].tick_params(axis='both', which='minor', labelsize = 20)\n",
    "                \n",
    "                t = np.linspace(0,T,n_discr_test[n_discr_i])\n",
    "                ax[N_iter_i][tol_i].plot(t, gamma_sol[0], c = 'r', label = 'our approximation for gamma[0]')\n",
    "                ax[N_iter_i][tol_i].plot(t, gamma_sol[1], c = 'b', label = 'our approximation for gamma[1]')\n",
    "                \n",
    "                \n",
    "                ax[N_iter_i][tol_i].plot(t_high, gamma_benchmark[0], 'r--', label = 'benchmark for gamma[0]')\n",
    "                ax[N_iter_i][tol_i].plot(t_high, gamma_benchmark[1], 'b--', label = 'benchmark for gamma[1]')\n",
    "        plt.show()"
   ]
  },
  {
   "cell_type": "code",
   "execution_count": null,
   "id": "5c252b11",
   "metadata": {},
   "outputs": [],
   "source": [
    "n_discr_test = [20]\n",
    "etas_test = [0.1,0.05,0.01,0.005,0.001]\n",
    "N_iter_test = [100,200,500,1000,5000,10000]\n",
    "tol_test = [0.1,0.05,0.01,0.005,0.001]\n",
    "\n",
    "x_0 = 1\n",
    "\n",
    "gamma_starting = np.zeros((2,100))\n",
    "gamma_starting[0][0] = np.sin(x_0)\n",
    "gamma_starting[1][0] = - np.cos(x_0)\n",
    "gamma_starting[:,1:] = np.random.uniform(low = - 0.3, high = 0.3, size = (2,100 - 1))\n",
    "\n",
    "\n",
    "\n",
    "for n_discr_i in range(len(n_discr_test)):\n",
    "    for eta_i in range(len(etas_test)):\n",
    "        \n",
    "        fig, ax = plt.subplots(len(N_iter_test),len(tol_test),figsize=(40, 30), tight_layout=True)\n",
    "        t_high = np.linspace(0,T,n_discr_high)\n",
    "        for N_iter_i in range(len(N_iter_test)):\n",
    "            for tol_i in range(len(tol_test)):\n",
    "                gamma_starting_local = np.zeros((2,n_discr_test[n_discr_i]))\n",
    "                #print(n_discr_test[n_discr_i])\n",
    "                gamma_starting_local[0] = gamma_starting[0][::100 // n_discr_test[n_discr_i]]\n",
    "                gamma_starting_local[1] = gamma_starting[1][::100 // n_discr_test[n_discr_i]]\n",
    "\n",
    "                gamma_sol = SGD_MV(n_discr = n_discr_test[n_discr_i], eta = etas_test[eta_i], gamma = gamma_starting_local, T = 0.2, eps = tol_test[tol_i], N_iter = N_iter_test[N_iter_i], key = 'kuramoto')\n",
    "\n",
    "                print(f'For n_discr = {n_discr_test[n_discr_i]}, eta = {etas_test[eta_i]}, N_iter = {N_iter_test[N_iter_i]}, tol_i = {tol_test[tol_i]} the gamma is \\n {gamma_sol}. \\n\\n')\n",
    "                \n",
    "                ax[N_iter_i][tol_i].set_title(f\"{N_iter_test[N_iter_i]} iterations, {tol_test[tol_i]} tolerance\", fontsize = 15)\n",
    "                ax[N_iter_i][tol_i].set_xlabel(r'$t$',fontsize = 15)\n",
    "                ax[N_iter_i][tol_i].set_ylabel(r'$\\gamma_t$',fontsize = 15)\n",
    "                ax[N_iter_i][tol_i].tick_params(axis='both', which='major', labelsize = 20)\n",
    "                ax[N_iter_i][tol_i].tick_params(axis='both', which='minor', labelsize = 20)\n",
    "                \n",
    "                t = np.linspace(0,T,n_discr_test[n_discr_i])\n",
    "                ax[N_iter_i][tol_i].plot(t, gamma_sol[0], c = 'r', label = 'our approximation for gamma[0]')\n",
    "                ax[N_iter_i][tol_i].plot(t, gamma_sol[1], c = 'b', label = 'our approximation for gamma[1]')\n",
    "                \n",
    "                \n",
    "                ax[N_iter_i][tol_i].plot(t_high, gamma_benchmark[0], 'r--', label = 'benchmark for gamma[0]')\n",
    "                ax[N_iter_i][tol_i].plot(t_high, gamma_benchmark[1], 'b--', label = 'benchmark for gamma[1]')\n",
    "        plt.show()"
   ]
  }
 ],
 "metadata": {
  "kernelspec": {
   "display_name": "Python 3 (ipykernel)",
   "language": "python",
   "name": "python3"
  },
  "language_info": {
   "codemirror_mode": {
    "name": "ipython",
    "version": 3
   },
   "file_extension": ".py",
   "mimetype": "text/x-python",
   "name": "python",
   "nbconvert_exporter": "python",
   "pygments_lexer": "ipython3",
   "version": "3.9.4"
  }
 },
 "nbformat": 4,
 "nbformat_minor": 5
}
