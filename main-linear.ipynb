{
 "cells": [
  {
   "cell_type": "markdown",
   "id": "bee2f2dd",
   "metadata": {},
   "source": [
    "# Getting the optimal local Fourier approximation for MV-SDE"
   ]
  },
  {
   "cell_type": "markdown",
   "id": "4dbfa0d5",
   "metadata": {},
   "source": [
    "add description here"
   ]
  },
  {
   "cell_type": "markdown",
   "id": "00f14b8d",
   "metadata": {},
   "source": [
    "### Initialising libraries"
   ]
  },
  {
   "cell_type": "code",
   "execution_count": 1,
   "id": "df3054d0",
   "metadata": {},
   "outputs": [],
   "source": [
    "import numpy as np\n",
    "import matplotlib.pyplot as plt\n",
    "\n",
    "import time\n",
    "\n",
    "from brownian_motion import simulate_dW, simulate_dW_1d, transform_dW\n",
    "from linear_true import SDE_Linear_MV\n",
    "from linear_appr import SDE_Linear_MV_appr\n",
    "from algorithm import SGD_MV"
   ]
  },
  {
   "cell_type": "markdown",
   "id": "62963979",
   "metadata": {},
   "source": [
    "## McKean-Vlasov SDE of Kuramoto's type."
   ]
  },
  {
   "cell_type": "markdown",
   "id": "2a597dd0",
   "metadata": {},
   "source": [
    "### We initialise the main class and test it."
   ]
  },
  {
   "cell_type": "markdown",
   "id": "aff404af",
   "metadata": {},
   "source": [
    "We initialise the class of MV-SDE that admits the following dynamics:\n",
    "\n",
    "$$\n",
    "\\text{d}X_t = (\\alpha X_t + \\beta~\\mathbb{E}[X_t])\\text{d}t + \\sigma ~\\text{d}W_t, \\quad X_0 = x_0 \\in \\mathbb{R}.\n",
    "$$\n",
    "\n",
    "We know that $$\\mathbb{E}[X_t] = x_0\\exp((\\alpha+\\beta)t).$$\n",
    "\n",
    "We approximate using the standard SDE\n",
    "\n",
    "$$\n",
    "\\text{d}X^N_t = \\big(\\alpha X_t + \\beta\\sum_{i=1}^N\\gamma_i \\mathbb{1}_{[t_{i-1},t_i)}(t)\\big)\\text{d}t + \\sigma ~\\text{d}W_t, \\quad X_0 = x_0 \\in \\mathbb{R}.\n",
    "$$\n",
    "\n",
    "The gradient path $\\xi^i :=\\partial_{\\gamma_i}X$ then\n",
    "\n",
    "$$\n",
    "\\text{d}\\xi^i_t = \\big(\\alpha \\xi_t + \\beta\\mathbb{1}_{[t_{i-1},t_i)}(t)\\big)\\text{d}t, \\quad \\xi_0 = 0 \\in \\mathbb{R}.\n",
    "$$\n",
    "\n",
    "Set partition $\\pi$ of $[0,T]$ as $\\pi = [t_0,t_1,t_2,\\dots]$.\n",
    "\n",
    "Set $i = 1$, now we write $\\xi^1$ and $t \\in [0,T]$, \n",
    "$$\n",
    "\\text{d}\\xi^1_t \n",
    " = \\big(\\alpha \\xi^1_t + \\beta\\mathbb{1}_{[t_{i-1},t_i)}(t)\\big)\\text{d}t\n",
    "\\Rightarrow \\xi^1_t= 0 + \\int_0^t (\\cdots) dt =  \n",
    "$$\n",
    "\n",
    "Jacobian is $J = (b_{i,i^\\prime})_{i = 1, i^\\prime = 1}^{n,n}$, where $b_{i,i^\\prime} = \\frac\\partial{\\partial_{\\gamma^{i^\\prime}}} X_{t_i} - \\delta_{i,i^\\prime} = \\xi^{i^\\prime}_{t_i} - \\delta$"
   ]
  },
  {
   "cell_type": "markdown",
   "id": "0c1201e6",
   "metadata": {},
   "source": [
    "## ***write on approximation***"
   ]
  },
  {
   "cell_type": "markdown",
   "id": "c7b4e432",
   "metadata": {},
   "source": [
    "## Testing the variance $\\gamma$ obtained from the algorithm."
   ]
  },
  {
   "cell_type": "code",
   "execution_count": 2,
   "id": "83733e41",
   "metadata": {
    "scrolled": false
   },
   "outputs": [
    {
     "name": "stdout",
     "output_type": "stream",
     "text": [
      "Solved for 22.58 seconds.\n",
      "[0.99999    0.89513646 0.80722137 0.72364321 0.65428304 0.58637113\n",
      " 0.52450611 0.47130403 0.42778988 0.39108805 0.35389205 0.31717935\n",
      " 0.28618328 0.24743534 0.21794844 0.20069594 0.18124928 0.16157819\n",
      " 0.14624331 0.13005169]\n"
     ]
    }
   ],
   "source": [
    "n_discr_test = 20\n",
    "N_iter = 100000\n",
    "\n",
    "x_0 = 1\n",
    "sigma = 1\n",
    "alpha = - 0.5\n",
    "beta = 0.3\n",
    "T = 10\n",
    "\n",
    "f = open(f\"output/gamma_n_discr_{n_discr_test}_N_iter_{N_iter}_T_{T}_{time.time()}.txt\", \"w+\")\n",
    "\n",
    "gamma_starting = np.zeros(n_discr_test)\n",
    "gamma_starting[0] = x_0\n",
    "gamma_starting[1:] = np.random.uniform(low = - 0.3, high = 0.3, size = n_discr_test - 1)\n",
    "\n",
    "gammas_eta = []\n",
    "\n",
    "gammas_cyclical = []\n",
    "eta = 0.01\n",
    "\n",
    "SGD_linear = SGD_MV(x_0 = x_0, sigma = sigma, alpha = alpha, beta = beta, T = T)\n",
    "\n",
    "etas_test = np.linspace(0.001,0.1,20)\n",
    "\n",
    "# for eta in etas_test:\n",
    "#     gamma, errors = SGD_linear.linear_get_gamma(n_discr = n_discr_test, eta = eta, gamma = gamma_starting, eps = 1e-10, N_iter = 100000, cyclic_lr = False)\n",
    "#     print(gamma)\n",
    "#     f.write(f'\\tGamma for n_discr = {n_discr_test}, eta = {eta}, eps = {1e-10}, N_iter = {N_iter}, cyclic_lr = {False} is \\n\\n {gamma}\\n\\n')\n",
    "#     f.write('=========================================================================================================\\n')\n",
    "#     gammas.append(gamma)\n",
    "\n",
    "for i in range(1):\n",
    "    gamma = SGD_linear.linear_get_gamma(n_discr = n_discr_test, eta = eta, gamma = gamma_starting, eps = 1e-5, N_iter = N_iter, cyclic_lr = True)\n",
    "    print(gamma)\n",
    "    f.write(f'\\tGamma for n_discr = {n_discr_test}, eta = {eta}, eps = {1e-10}, N_iter = {N_iter}, cyclic_lr = {True}, is \\n\\n \\t\\t{gamma}\\n\\n')\n",
    "    f.write('=========================================================================================================\\n')\n",
    "    gammas_cyclical.append(gamma)\n",
    "    \n",
    "f.close()"
   ]
  },
  {
   "cell_type": "markdown",
   "id": "37db80e8",
   "metadata": {},
   "source": [
    "### We save the average of the SGD gammas to use further in the benchmark."
   ]
  },
  {
   "cell_type": "code",
   "execution_count": 3,
   "id": "3b0a0c9a",
   "metadata": {
    "scrolled": true
   },
   "outputs": [
    {
     "name": "stdout",
     "output_type": "stream",
     "text": [
      "Average gamma is [0.99999    0.89513646 0.80722137 0.72364321 0.65428304 0.58637113\n",
      " 0.52450611 0.47130403 0.42778988 0.39108805 0.35389205 0.31717935\n",
      " 0.28618328 0.24743534 0.21794844 0.20069594 0.18124928 0.16157819\n",
      " 0.14624331 0.13005169]\n"
     ]
    }
   ],
   "source": [
    "gamma_average_sgd = np.mean(gammas_cyclical, axis = 0)\n",
    "print(f'Average gamma is {gamma_average_sgd}')"
   ]
  },
  {
   "cell_type": "markdown",
   "id": "13b170ae",
   "metadata": {},
   "source": [
    "## Gamma benchmark: comparison of the average of the gammas obtained through SGD and true gamma from the explicit solution of MV-SDE."
   ]
  },
  {
   "cell_type": "code",
   "execution_count": 4,
   "id": "552a67ef",
   "metadata": {
    "scrolled": false
   },
   "outputs": [
    {
     "name": "stdout",
     "output_type": "stream",
     "text": [
      "Gamma with algorithm is \n",
      "[0.99999    0.89513646 0.80722137 0.72364321 0.65428304 0.58637113\n",
      " 0.52450611 0.47130403 0.42778988 0.39108805 0.35389205 0.31717935\n",
      " 0.28618328 0.24743534 0.21794844 0.20069594 0.18124928 0.16157819\n",
      " 0.14624331 0.13005169].\n",
      "\n",
      "Gamma benchmark is \n",
      "[1.         0.99000008 0.98010017 0.97029925 0.96059634 0.95099045\n",
      " 0.94148063 0.9320659  0.92274532 0.91351794 0.90438284 0.89533909\n",
      " 0.88638577 0.87752199 0.86874684 0.86005945 0.85145892 0.84294441\n",
      " 0.83451503 0.82616995 0.81790832 0.80972931 0.80163208 0.79361583\n",
      " 0.78567974 0.777823   0.77004484 0.76234446 0.75472107 0.74717393\n",
      " 0.73970225 0.73230529 0.7249823  0.71773254 0.71055527 0.70344978\n",
      " 0.69641534 0.68945124 0.68255679 0.67573128 0.66897402 0.66228434\n",
      " 0.65566155 0.64910499 0.64261399 0.63618791 0.62982608 0.62352787\n",
      " 0.61729265 0.61111977 0.60500863 0.59895859 0.59296905 0.58703941\n",
      " 0.58116907 0.57535743 0.5696039  0.56390791 0.55826888 0.55268624\n",
      " 0.54715942 0.54168787 0.53627104 0.53090837 0.52559933 0.52034338\n",
      " 0.51513999 0.50998864 0.50488879 0.49983995 0.49484159 0.48989322\n",
      " 0.48499432 0.48014442 0.47534302 0.47058963 0.46588377 0.46122497\n",
      " 0.45661276 0.45204667 0.44752624 0.44305102 0.43862054 0.43423438\n",
      " 0.42989207 0.42559318 0.42133729 0.41712395 0.41295275 0.40882325\n",
      " 0.40473505 0.40068774 0.39668089 0.39271412 0.38878701 0.38489917\n",
      " 0.38105021 0.37723974 0.37346738 0.36973273 0.36603544 0.36237511\n",
      " 0.35875139 0.35516391 0.3516123  0.34809621 0.34461527 0.34116915\n",
      " 0.33775749 0.33437994 0.33103617 0.32772583 0.3244486  0.32120415\n",
      " 0.31799213 0.31481224 0.31166414 0.30854752 0.30546208 0.30240748\n",
      " 0.29938343 0.29638962 0.29342575 0.29049152 0.28758663 0.28471078\n",
      " 0.2818637  0.27904509 0.27625466 0.27349214 0.27075724 0.26804969\n",
      " 0.26536921 0.26271554 0.26008841 0.25748755 0.25491269 0.25236359\n",
      " 0.24983997 0.24734159 0.2448682  0.24241954 0.23999536 0.23759543\n",
      " 0.23521949 0.23286732 0.23053867 0.2282333  0.22595098 0.22369149\n",
      " 0.2214546  0.21924007 0.21704769 0.21487723 0.21272847 0.21060121\n",
      " 0.20849521 0.20641028 0.20434619 0.20230275 0.20027974 0.19827696\n",
      " 0.1962942  0.19433128 0.19238798 0.19046412 0.18855949 0.18667391\n",
      " 0.18480719 0.18295913 0.18112956 0.17931828 0.17752511 0.17574987\n",
      " 0.17399239 0.17225248 0.17052997 0.16882468 0.16713645 0.1654651\n",
      " 0.16381046 0.16217237 0.16055066 0.15894517 0.15735573 0.15578219\n",
      " 0.15422438 0.15268215 0.15115534 0.1496438  0.14814737 0.14666591\n",
      " 0.14519926 0.14374728 0.14230982 0.14088674 0.13947788 0.13808311\n",
      " 0.13670229 0.13533528].\n",
      "\n"
     ]
    },
    {
     "data": {
      "image/png": "[encoded data removed]",
      "text/plain": [
       "<Figure size 1440x720 with 1 Axes>"
      ]
     },
     "metadata": {
      "needs_background": "light"
     },
     "output_type": "display_data"
    }
   ],
   "source": [
    "#print(f'Average gamma from the algorithm is \\n{gamma_average_sgd}.\\n')\n",
    "\n",
    "n_discr_high = 200\n",
    "\n",
    "#n_part = 10000\n",
    "\n",
    "x_0 = 1\n",
    "T = 10\n",
    "alpha = -0.5\n",
    "beta = 0.3\n",
    "\n",
    "# dW_t = simulate_dW(n_part, T = T)\n",
    "# X_true = SDE_Kuramoto_MV(x_0 = x_0, alpha = -0.5, beta = 0.3 sigma = 1, dW_t = dW_t, T = T, n_discr = n_discr_high, n_part = n_part)\n",
    "\n",
    "t_benchmark = np.linspace(0,T,n_discr_high)\n",
    "\n",
    "t_sgd = np.linspace(0,T,n_discr_test)\n",
    "\n",
    "gamma_benchmark = np.exp((alpha + beta) * t_benchmark)\n",
    "\n",
    "print(f'Gamma with algorithm is \\n{gamma_average_sgd}.\\n')\n",
    "\n",
    "print(f'Gamma benchmark is \\n{gamma_benchmark}.\\n')\n",
    "\n",
    "fig, ax = plt.subplots(1, 1, figsize = (20, 10), tight_layout=True)\n",
    "\n",
    "ax.set_title(r\"Dynamics of the $\\gamma$-s\", fontsize = 15)\n",
    "ax.set_xlabel(r'$t$',fontsize = 15)\n",
    "ax.set_ylabel(r'$\\gamma_t$',fontsize = 15)\n",
    "ax.tick_params(axis='both', which='major', labelsize = 20)\n",
    "ax.tick_params(axis='both', which='minor', labelsize = 20)\n",
    "\n",
    "ax.plot(t_benchmark, gamma_benchmark, label = 'benchmark')\n",
    "ax.plot(t_sgd, gamma_average_sgd, label = 'algorithm')\n",
    "\n",
    "ax.legend(loc = 'best', fontsize = 20)\n",
    "\n",
    "# ax[1].set_title(r\"Error plot\", fontsize = 15)\n",
    "# ax[1].set_xlabel(r'$error$',fontsize = 15)\n",
    "# ax[1].set_ylabel(r'$iteration$',fontsize = 15)\n",
    "# ax[1].tick_params(axis='both', which='major', labelsize = 20)\n",
    "# ax[1].tick_params(axis='both', which='minor', labelsize = 20)\n",
    "\n",
    "# ax[1].plot(np.arange(N_iter)[::100], (errors[::100]), label = 'error plot')\n",
    "# #ax[1].plot(t_sgd, gamma_average_sgd, label = 'algorithm')\n",
    "# ax[1].plot(np.arange(N_iter),[np.quantile((errors),0.5)] * N_iter, label = '0.5 quantile')\n",
    "\n",
    "# ax[1].legend(loc = 'best', fontsize = 20)\n",
    "\n",
    "plt.show()\n",
    "\n",
    "# print(f'The error is {gamma_average_sgd - gamma_benchmark}.\\n')\n",
    "# print(f'The maximum norm is {abs(gamma_average_sgd - gamma_benchmark).max()}\\n')"
   ]
  },
  {
   "cell_type": "code",
   "execution_count": null,
   "id": "904aab0e",
   "metadata": {},
   "outputs": [],
   "source": []
  },
  {
   "cell_type": "code",
   "execution_count": null,
   "id": "44a14fb6",
   "metadata": {},
   "outputs": [],
   "source": [
    "\n",
    "# # dW_t_truncated = dW_t[0]\n",
    "\n",
    "# t = np.linspace(0, T, n_discr)\n",
    "        \n",
    "# fig, ax = plt.subplots(1,1,figsize=(15, 10), tight_layout=True)\n",
    "\n",
    "# ax.set_title(r\"Dynamics of the SDE\", fontsize = 15)\n",
    "# ax.set_xlabel(r'$t$',fontsize = 15)\n",
    "# ax.set_ylabel(r'$X_t$',fontsize = 15)\n",
    "# ax.tick_params(axis='both', which='major', labelsize = 20)\n",
    "# ax.tick_params(axis='both', which='minor', labelsize = 20)\n",
    "\n",
    "# # for n in range(length(n_frequency_range)):\n",
    "# #     dW_t_local = transform_dW(dW_t,n_discr,n_frequency_range[n])\n",
    "# #     X_test = SDE_Kuramoto_MV_appr(X_true.x_0[0], sigma, gammas_freq[n], dW_t_local, T, n_discr_high // n_frequency_range[n])\n",
    "# #     ax.plot(t, X_test.x, label = 'our approximation')\n",
    "    \n",
    "# ax.plot(t, X_true.x[0],c = 'r', label = 'particle approxmiation')\n",
    "# plt.legend(loc = 'best', fontsize = 20)\n",
    "# plt.show()"
   ]
  },
  {
   "cell_type": "code",
   "execution_count": null,
   "id": "618e331a",
   "metadata": {},
   "outputs": [],
   "source": [
    "# n_discr_high = 20\n",
    "\n",
    "# gamma_starting = np.random.uniform(low = - 0.3, high = 0.3, size = (2,n_discr_high))\n",
    "# gamma_reference = SGD_MV(n_discr = n_discr_high, eta = 0.01, gamma = gamma_starting, T = 1, eps = 0.005, N_iter = 5000)"
   ]
  },
  {
   "cell_type": "code",
   "execution_count": null,
   "id": "6faf1dbe",
   "metadata": {
    "scrolled": false
   },
   "outputs": [],
   "source": [
    "# n_discr = n_discr_high\n",
    "\n",
    "# gamma_ref = gamma_reference\n",
    "\n",
    "# n_mc = 10000\n",
    "# t = np.linspace(0,1,n_discr)\n",
    "\n",
    "# fig, ax = plt.subplots(1,2,figsize=(18, 10), tight_layout=True)\n",
    "\n",
    "# ax[0].set_title(r\"Dynamics of the $\\gamma$ of $\\sin$\", fontsize = 15)\n",
    "# ax[0].set_xlabel(r'$t$',fontsize = 15)\n",
    "# ax[0].set_ylabel(r'$\\gamma_t$',fontsize = 15)\n",
    "# ax[0].tick_params(axis='both', which='major', labelsize = 20)\n",
    "# ax[0].tick_params(axis='both', which='minor', labelsize = 20)\n",
    "\n",
    "# ax[1].set_title(r\"Dynamics of the $\\gamma$ of $\\cos$\", fontsize = 15)\n",
    "# ax[1].set_xlabel(r'$t$',fontsize = 15)\n",
    "# ax[1].set_ylabel(r'$\\gamma_t$',fontsize = 15)\n",
    "# ax[1].tick_params(axis='both', which='major', labelsize = 20)\n",
    "# ax[1].tick_params(axis='both', which='minor', labelsize = 20)\n",
    "\n",
    "# T = 1\n",
    "\n",
    "# gamma_aver_mc = np.zeros((2,n_discr))\n",
    "# for j in range(20):\n",
    "#     for i in range(n_mc):\n",
    "#         dW_t = simulate_dW_1d(n_discr, T)\n",
    "#         X = SDE_Kuramoto_MV_appr(x_0, sigma, gamma_ref, dW_t, T, n_discr)\n",
    "#         gamma_aver_mc[0] = gamma_aver_mc[0] * i / (i + 1) + np.sin(X.x) * 1 / (i + 1)\n",
    "#         gamma_aver_mc[1] = gamma_aver_mc[1] * i / (i + 1) + (-np.cos(X.x)) * 1 / (i + 1)\n",
    "#     print(f'Gamma benchmark is: \\n{gamma_aver_mc}\\n\\n')\n",
    "#     print(f'The difference between MC gamma_aver and gamma_aver from the algorithm for {n_discr} is: \\n\\n{gamma_aver_mc - gamma_ref}')\n",
    "\n",
    "#     print(f'\\nThe maximum norm for {n_discr}: {abs(gamma_aver_mc - gamma_ref).max()}.')\n",
    "#     print('\\n_____________________________________________a______________________________________________')\n",
    "#     print('___________________________________________________________________________________________\\n')\n",
    "    \n",
    "#     # for n in range(length(n_frequency_range)):\n",
    "#     #     dW_t_local = transform_dW(dW_t,n_discr,n_frequency_range[n])\n",
    "#     #     X_test = SDE_Kuramoto_MV_appr(X_true.x_0[0], sigma, gammas_freq[n], dW_t_local, T, n_discr_high // n_frequency_range[n])\n",
    "#     #     ax.plot(t, X_test.x, label = 'our approximation')\n",
    "\n",
    "#     ax[0].plot(t, gamma_aver_mc[0], label = j)\n",
    "#     ax[1].plot(t, gamma_aver_mc[1], label = j)\n",
    "    \n",
    "# ax[0].plot(t,gamma_ref[0], label = 'gamma_ref')\n",
    "# ax[1].plot(t,gamma_ref[1], label = 'gamma_ref')\n",
    "# plt.legend(loc = 'best', fontsize = 20)\n",
    "# plt.show()"
   ]
  },
  {
   "cell_type": "code",
   "execution_count": null,
   "id": "98caff38",
   "metadata": {
    "scrolled": false
   },
   "outputs": [],
   "source": [
    "n_discr_test = [2,5,10]\n",
    "etas_test = [0.1,0.05,0.01,0.005,0.001]\n",
    "N_iter_test = [100,200,500,1000,5000,10000]\n",
    "tol_test = [0.1,0.05,0.01,0.005,0.001]\n",
    "\n",
    "x_0 = 1\n",
    "\n",
    "gamma_starting = np.zeros(100)\n",
    "gamma_starting[1:] = np.random.uniform(low = - 0.3, high = 0.3, size = 100 - 1)\n",
    "\n",
    "\n",
    "\n",
    "for n_discr_i in range(len(n_discr_test)):\n",
    "    for eta_i in range(len(etas_test)):\n",
    "        \n",
    "        fig, ax = plt.subplots(len(N_iter_test),len(tol_test),figsize=(40, 30), tight_layout=True)\n",
    "        t_high = np.linspace(0,T,n_discr_high)\n",
    "        for N_iter_i in range(len(N_iter_test)):\n",
    "            for tol_i in range(len(tol_test)):\n",
    "                gamma_starting_local = np.zeros(n_discr_test[n_discr_i])\n",
    "                #print(n_discr_test[n_discr_i])\n",
    "                gamma_starting_local = gamma_starting[::100 // n_discr_test[n_discr_i]]\n",
    "\n",
    "                gamma_sol = SGD_MV(n_discr = n_discr_test[n_discr_i], eta = etas_test[eta_i], gamma = gamma_starting_local, T = 0.2, eps = tol_test[tol_i], N_iter = N_iter_test[N_iter_i], key = 'linear')\n",
    "\n",
    "                print(f'For n_discr = {n_discr_test[n_discr_i]}, eta = {etas_test[eta_i]}, N_iter = {N_iter_test[N_iter_i]}, tol_i = {tol_test[tol_i]} the gamma is \\n {gamma_sol}. \\n\\n')\n",
    "                \n",
    "                ax[N_iter_i][tol_i].set_title(f\"{N_iter_test[N_iter_i]} iterations, {tol_test[tol_i]} tolerance\", fontsize = 15)\n",
    "                ax[N_iter_i][tol_i].set_xlabel(r'$t$',fontsize = 15)\n",
    "                ax[N_iter_i][tol_i].set_ylabel(r'$\\gamma_t$',fontsize = 15)\n",
    "                ax[N_iter_i][tol_i].tick_params(axis='both', which='major', labelsize = 20)\n",
    "                ax[N_iter_i][tol_i].tick_params(axis='both', which='minor', labelsize = 20)\n",
    "                \n",
    "                t = np.linspace(0,T,n_discr_test[n_discr_i])\n",
    "                ax[N_iter_i][tol_i].plot(t, gamma_sol[0], c = 'r', label = 'our approximation for gamma[0]')\n",
    "                ax[N_iter_i][tol_i].plot(t, gamma_sol[1], c = 'b', label = 'our approximation for gamma[1]')\n",
    "                \n",
    "                \n",
    "                ax[N_iter_i][tol_i].plot(t_high, gamma_benchmark[0], 'r--', label = 'benchmark for gamma[0]')\n",
    "                ax[N_iter_i][tol_i].plot(t_high, gamma_benchmark[1], 'b--', label = 'benchmark for gamma[1]')\n",
    "        plt.show()"
   ]
  },
  {
   "cell_type": "code",
   "execution_count": null,
   "id": "5c252b11",
   "metadata": {},
   "outputs": [],
   "source": [
    "n_discr_test = [20]\n",
    "etas_test = [0.1,0.05,0.01,0.005,0.001]\n",
    "N_iter_test = [100,200,500,1000,5000,10000]\n",
    "tol_test = [0.1,0.05,0.01,0.005,0.001]\n",
    "\n",
    "x_0 = 1\n",
    "\n",
    "gamma_starting = np.zeros((2,100))\n",
    "gamma_starting[0][0] = np.sin(x_0)\n",
    "gamma_starting[1][0] = - np.cos(x_0)\n",
    "gamma_starting[:,1:] = np.random.uniform(low = - 0.3, high = 0.3, size = (2,100 - 1))\n",
    "\n",
    "\n",
    "\n",
    "for n_discr_i in range(len(n_discr_test)):\n",
    "    for eta_i in range(len(etas_test)):\n",
    "        \n",
    "        fig, ax = plt.subplots(len(N_iter_test),len(tol_test),figsize=(40, 30), tight_layout=True)\n",
    "        t_high = np.linspace(0,T,n_discr_high)\n",
    "        for N_iter_i in range(len(N_iter_test)):\n",
    "            for tol_i in range(len(tol_test)):\n",
    "                gamma_starting_local = np.zeros((2,n_discr_test[n_discr_i]))\n",
    "                #print(n_discr_test[n_discr_i])\n",
    "                gamma_starting_local[0] = gamma_starting[0][::100 // n_discr_test[n_discr_i]]\n",
    "                gamma_starting_local[1] = gamma_starting[1][::100 // n_discr_test[n_discr_i]]\n",
    "\n",
    "                gamma_sol = SGD_MV(n_discr = n_discr_test[n_discr_i], eta = etas_test[eta_i], gamma = gamma_starting_local, T = 0.2, eps = tol_test[tol_i], N_iter = N_iter_test[N_iter_i], key = 'linear')\n",
    "\n",
    "                print(f'For n_discr = {n_discr_test[n_discr_i]}, eta = {etas_test[eta_i]}, N_iter = {N_iter_test[N_iter_i]}, tol_i = {tol_test[tol_i]} the gamma is \\n {gamma_sol}. \\n\\n')\n",
    "                \n",
    "                ax[N_iter_i][tol_i].set_title(f\"{N_iter_test[N_iter_i]} iterations, {tol_test[tol_i]} tolerance\", fontsize = 15)\n",
    "                ax[N_iter_i][tol_i].set_xlabel(r'$t$',fontsize = 15)\n",
    "                ax[N_iter_i][tol_i].set_ylabel(r'$\\gamma_t$',fontsize = 15)\n",
    "                ax[N_iter_i][tol_i].tick_params(axis='both', which='major', labelsize = 20)\n",
    "                ax[N_iter_i][tol_i].tick_params(axis='both', which='minor', labelsize = 20)\n",
    "                \n",
    "                t = np.linspace(0,T,n_discr_test[n_discr_i])\n",
    "                ax[N_iter_i][tol_i].plot(t, gamma_sol[0], c = 'r', label = 'our approximation for gamma[0]')\n",
    "                ax[N_iter_i][tol_i].plot(t, gamma_sol[1], c = 'b', label = 'our approximation for gamma[1]')\n",
    "                \n",
    "                \n",
    "                ax[N_iter_i][tol_i].plot(t_high, gamma_benchmark[0], 'r--', label = 'benchmark for gamma[0]')\n",
    "                ax[N_iter_i][tol_i].plot(t_high, gamma_benchmark[1], 'b--', label = 'benchmark for gamma[1]')\n",
    "        plt.show()"
   ]
  }
 ],
 "metadata": {
  "kernelspec": {
   "display_name": "Python 3 (ipykernel)",
   "language": "python",
   "name": "python3"
  },
  "language_info": {
   "codemirror_mode": {
    "name": "ipython",
    "version": 3
   },
   "file_extension": ".py",
   "mimetype": "text/x-python",
   "name": "python",
   "nbconvert_exporter": "python",
   "pygments_lexer": "ipython3",
   "version": "3.9.4"
  }
 },
 "nbformat": 4,
 "nbformat_minor": 5
}
