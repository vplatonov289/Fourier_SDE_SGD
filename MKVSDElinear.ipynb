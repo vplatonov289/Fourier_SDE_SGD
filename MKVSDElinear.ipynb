{
 "cells": [
  {
   "cell_type": "markdown",
   "id": "a84cd018",
   "metadata": {},
   "source": [
    "\n",
    "## SGD set-up for a linear McKean-Vlasov SDE"
   ]
  },
  {
   "cell_type": "markdown",
   "id": "7d4a97b3",
   "metadata": {},
   "source": [
    "Consider a McKean-Vlasov (MKV) SDE of the following form:\n",
    "\n",
    "$$ \n",
    "\\textrm{d}X_t = (\\alpha \\, X_t + \\beta \\, \\mathbb{E}[X_t]) \\textrm{d} t + \\sigma \\, \\textrm{d} W_t, \\quad X_0 = x_0,\n",
    "$$\n",
    "for which we know $\\mathbb{E}[X_t] = x_0\\exp((\\alpha+\\beta)t).$"
   ]
  },
  {
   "cell_type": "markdown",
   "id": "d9c75f1d",
   "metadata": {},
   "source": [
    "- Method 1:\n",
    "    We approximate the solution $X_t, t \\in [0,T]$ by using a piece-wise constant approximation for the function $\\mathbb{E}[X_t]:$\n",
    "    \n",
    "    \\begin{equation}\n",
    "    \\textrm{d}Z_t = \\bigl(\\alpha \\, Z_t + \\beta \\, \\sum^M_{i=1} \\widehat{\\gamma}_{i-1} \\mathbf{1}_{[t_{i-1},t_i[}(t) \\bigr) \\textrm{d} t + \\sigma \\, \\textrm{d} W_t, \\quad Z_0 = x_0.\n",
    "    \\end{equation}\n",
    "    \n",
    "    We suppress the dependence of $Z$ on $\\widehat{\\gamma}$ in the notation. In the above, $t_i := T \\frac{i}{M}, i = 0, 1, \\ldots, M.$ The gradient process $\\xi^i_t:= \\partial_{\\widehat{\\gamma}_i}Z_t, i = 0, \\ldots, M,$ is then given as \n",
    "    \n",
    "    \\begin{equation}\n",
    "    \\textrm{d}\\xi^i_t = \\bigl(\\alpha \\, \\xi^i_t + \\beta \\, \\mathbf{1}_{[t_i,t_{i+1}[}(t) \\bigr) \\textrm{d} t, \\quad \\xi^i_0 = 0.\n",
    "    \\end{equation}\n",
    "\n",
    "    In particular, we have \n",
    "    \\begin{equation}\n",
    "    \\xi^i_t = \\begin{cases}\n",
    "        0 & 0 \\leq t \\leq t_i \\\\ \n",
    "        \\frac{\\beta}{\\alpha} (\\exp(t-t_i) - 1) & t_i < t \\leq t_{i+1} \\\\\n",
    "        \\frac{\\beta}{\\alpha} (\\exp(t_{i+1}-t_i) - 1) & t_{i+1} < t \\leq T\n",
    "    \\end{cases}.\n",
    "    \\end{equation}\n",
    "    \n",
    "    Our aim is to find the fixed-point of the map $\\widehat{\\Psi}^{(n)}$ defined as\n",
    "    \\begin{equation}\n",
    "      \\widehat{\\Psi}^{(n)}(\\widehat{\\gamma}):= \\mathcal{P}\\Bigl(\\Psi\\bigl(\\mathcal{L}(\\widehat{\\gamma})\\bigr)\\Bigr).\n",
    "    \\end{equation}\n",
    "    \n",
    "    In the linear MKV-SDE considered here, we have $\\Psi\\bigl(\\mathcal{L}(\\widehat{\\gamma})\\bigr)(t) = \\mathbb{E}[Z_t].$ We compute the fixed-point by solving the following: \n",
    "    \\begin{equation}\n",
    "    \\big| \\widehat{\\gamma} - \\widehat{\\Psi}^{(n)}(\\widehat{\\gamma})\\big|^2.\n",
    "    \\end{equation}\n",
    "    \n",
    "    Using the notation from the Overleaf draft, we have\n",
    "    \n",
    "    \\begin{equation}\n",
    "    F_i(\\widehat{\\gamma}, W) = Z_{t_i} - \\widehat{\\gamma}_i, \\quad \\text{and,} \\quad \\partial_{\\widehat{\\gamma}_j} F_i(\\widehat{\\gamma}, W) = \\xi^j_{t_{i}} - \\delta_{i}(j).\n",
    "    \\end{equation}"
   ]
  },
  {
   "cell_type": "markdown",
   "id": "a8351083",
   "metadata": {},
   "source": [
    "- Method 2:  \n",
    "    We approximate the solution $X_t, t \\in [0,T]$ by using a polynomial approximation for the function $\\mathbb{E}[X_t]:$\n",
    "    \n",
    "    \\begin{equation}\n",
    "    \\textrm{d}Z_t = \\bigl(\\alpha \\, Z_t + \\beta \\, \\sum^{K}_{k=1} \\widehat{\\gamma}_k \\prod_{\\substack{ 1\\leq j \\leq K \\\\ k\\neq j}} \\frac{t-t_j}{t_k - t_j}  \\bigr) \\textrm{d} t + \\sigma \\, \\textrm{d} W_t, \\quad Z_0 = x_0.\n",
    "    \\end{equation}\n",
    "    \n",
    "    In the above, nodes $\\{t_1, \\ldots, t_K \\},$ are chosen appropriately, either Chebychev or Lagrange nodes. The gradient process $\\xi^k_t:= \\partial_{\\widehat{\\gamma}_k}Z_t, k = 1, \\ldots, K,$ is then given as \n",
    "    \n",
    "    \\begin{equation}\n",
    "    \\textrm{d}\\xi^k_t = \\bigl(\\alpha \\, \\xi^k_t + \\beta \\, \\prod_{\\substack{ 1\\leq j \\leq M \\\\ k\\neq j}} \\frac{t-t_j}{t_k - t_j} \\bigr) \\textrm{d} t, \\quad \\xi^k_0 = 0.\n",
    "    \\end{equation}\n",
    "\n",
    "    We disretise the time interval $[0, T]$ uniformly into $M + 1$ steps, and insert Chebychev nodes to create a final time grid with $M+K$ intermediate points to generate discretised path of $Z$ and gradient processes. Our aim is to find the fixed-point of the map $\\widehat{\\Psi}^{(M+K)}$ defined as\n",
    "    \\begin{equation}\n",
    "      \\widehat{\\Psi}^{(M+K)}(\\widehat{\\gamma}):= \\mathcal{P}\\Bigl(\\Psi\\bigl(\\mathcal{L}(\\widehat{\\gamma})\\bigr)\\Bigr).\n",
    "    \\end{equation}\n",
    "    \n",
    "    In the linear MKV-SDE considered here, we have $\\Psi\\bigl(\\mathcal{L}(\\widehat{\\gamma})\\bigr)(t) = \\mathbb{E}[Z_t].$ We compute the fixed-point by solving the following: \n",
    "    \\begin{equation}\n",
    "    \\big| \\widehat{\\gamma} - \\widehat{\\Psi}^{(M+K)}(\\widehat{\\gamma})\\big|^2.\n",
    "    \\end{equation}\n",
    "    \n",
    "    Using the notation from the Overleaf draft, we have\n",
    "    \n",
    "    \\begin{equation}\n",
    "    F_i(\\widehat{\\gamma}, W) = Z_{t_i} - \\widehat{\\gamma}_i, \\quad \\text{and,} \\quad \\partial_{\\widehat{\\gamma}_j} F_i(\\widehat{\\gamma}, W) = \\xi^j_{t_{i}} - \\delta_{i}(j).\n",
    "    \\end{equation}"
   ]
  },
  {
   "cell_type": "markdown",
   "id": "c5f93f03",
   "metadata": {},
   "source": [
    "### Implementation for Method 2"
   ]
  },
  {
   "cell_type": "markdown",
   "id": "3b68f5f6",
   "metadata": {},
   "source": [
    "#### *Import relevant libraries*"
   ]
  },
  {
   "cell_type": "code",
   "execution_count": 1,
   "id": "bd2642a9",
   "metadata": {},
   "outputs": [],
   "source": [
    "import random\n",
    "import math\n",
    "import numpy\n",
    "from numpy import pi\n",
    "import matplotlib.pyplot as plt"
   ]
  },
  {
   "cell_type": "markdown",
   "id": "54f7e60a",
   "metadata": {},
   "source": [
    "#### *Import plot libraries*"
   ]
  },
  {
   "cell_type": "code",
   "execution_count": 4,
   "id": "6ea2074b",
   "metadata": {},
   "outputs": [],
   "source": [
    "from res.plot_lib import plot_data, plot_model, set_default\n",
    "set_default()"
   ]
  },
  {
   "cell_type": "markdown",
   "id": "763eb3d5",
   "metadata": {},
   "source": [
    "#### *Chebyvchev nodes*"
   ]
  },
  {
   "cell_type": "code",
   "execution_count": 5,
   "id": "3c79c42b",
   "metadata": {},
   "outputs": [],
   "source": [
    "def CC_nodes(a, b, n):\n",
    "    i = numpy.array(range(n))\n",
    "    x = numpy.cos((2 * i + 1) * pi /(2 * n))\n",
    "    z = 0.5 * (b-a) * x + 0.5 * (b + a)\n",
    "    return numpy.flip(z, 0)"
   ]
  },
  {
   "cell_type": "markdown",
   "id": "c4316bec",
   "metadata": {},
   "source": [
    "#### *Parameters*"
   ]
  },
  {
   "cell_type": "code",
   "execution_count": 18,
   "id": "9289f584",
   "metadata": {
    "scrolled": false
   },
   "outputs": [],
   "source": [
    "M = 50  # number of discretisation steps\n",
    "K = 10  # number of Chebychev nodes\n",
    "x0 = 10\n",
    "sigma = 1\n",
    "alpha = - 0.5\n",
    "beta = 0.3\n",
    "T = 1.0\n",
    "dt = T / M\n",
    "max_iter = 100000"
   ]
  },
  {
   "cell_type": "markdown",
   "id": "4ed37add",
   "metadata": {},
   "source": [
    "#### *Compute time grid and factors in polynomial approximation*"
   ]
  },
  {
   "cell_type": "code",
   "execution_count": 19,
   "id": "643cc0e8",
   "metadata": {},
   "outputs": [
    {
     "name": "stdout",
     "output_type": "stream",
     "text": [
      "[10.          9.98769592  9.96007989  9.92031915  9.89159835  9.88071713\n",
      "  9.8412732   9.80198673  9.7628571   9.72388367  9.71135453  9.68506582\n",
      "  9.64640293  9.60789439  9.56953957  9.53133787  9.49328867  9.46862918\n",
      "  9.45539136  9.41764534  9.38005     9.34260474  9.30530896  9.26816207\n",
      "  9.23116346  9.19431256  9.19103488  9.15760877  9.1210515   9.08464016\n",
      "  9.04837418  9.01225297  8.97627596  8.94044258  8.90792782  8.90475223\n",
      "  8.86920437  8.83379841  8.79853379  8.76340995  8.72842632  8.69358235\n",
      "  8.65887748  8.64677175  8.62431115  8.58988281  8.5555919   8.52143789\n",
      "  8.48742022  8.45353835  8.43065455  8.41979173  8.38617983  8.35270211\n",
      "  8.31935804  8.28614707  8.27703192  8.25306868  8.22012235  8.19739367\n",
      "  8.18730753]\n"
     ]
    }
   ],
   "source": [
    "tspace = numpy.linspace(0, T, M + 1, dtype=float) # discretisation points\n",
    "tnodes = CC_nodes(0, T, K) # Chebychev nodes\n",
    "\n",
    "tspace = numpy.concatenate((tspace, tnodes), axis=0)\n",
    "tspace.sort()\n",
    "\n",
    "#identify the indices of Chebychev nodes in the time discretisation array\n",
    "tnodes_idx = numpy.zeros(K, dtype=int)\n",
    "tspace_ceil = numpy.uint(numpy.ceil(tspace * M / T))\n",
    "tspace_err = numpy.around(numpy.abs(tspace * M / T - tspace_ceil), 4)\n",
    "\n",
    "ctr = 0\n",
    "for j in range(M+K+1):\n",
    "    if tspace_err[j] != 0.0 and tspace_err[j] != 1.0:\n",
    "        tnodes_idx[ctr] = j\n",
    "        ctr += 1\n",
    "        \n",
    "tspace_fact = numpy.ones((M + K, K)) # M + K time factors for K different Chebychev nodes, t = 0 not required\n",
    "tnode_prod = numpy.zeros(K) \n",
    "\n",
    "# compute products in the denominator of polynomial approxmiation factor\n",
    "for k in range(K):\n",
    "    temp_prod = tnodes[k] - numpy.delete(tnodes, k)\n",
    "    tnode_prod[k] = numpy.prod(temp_prod)\n",
    "\n",
    "# compute time factors in the polynomial approxmiation\n",
    "for i in range(M+K):\n",
    "    for k in range(K):\n",
    "        temp_prod = tspace[i + 1] - numpy.delete(tnodes, k)\n",
    "        tspace_fact[i][k] =  numpy.prod(temp_prod) / tnode_prod[k]\n",
    "        \n",
    "gamma_benchmark = x0 * numpy.exp((alpha + beta) * tspace)\n",
    "print(gamma_benchmark)"
   ]
  },
  {
   "cell_type": "markdown",
   "id": "b430d070",
   "metadata": {},
   "source": [
    "#### *Define linear MKV SDE class*"
   ]
  },
  {
   "cell_type": "code",
   "execution_count": 23,
   "id": "c2333b26",
   "metadata": {},
   "outputs": [],
   "source": [
    "class MKVSDElinear_approx():\n",
    "    def __init__(self, M, K):\n",
    "        super().__init__()\n",
    "        self.path = numpy.zeros(M+K+1)\n",
    "    def generatepath(self, x0, gamma, alpha, beta, sigma, M, K, tspace, dW):\n",
    "        self.path[0] = x0\n",
    "        for i in range(M+K):\n",
    "            dt = tspace[i+1] - tspace[i]\n",
    "            self.path[i+1] = self.path[i] * (1 + alpha * dt) + beta * dt \\\n",
    "            * numpy.dot(gamma, tspace_fact[i]) \\\n",
    "            + sigma * dt ** 0.5 * dW[i]\n",
    "                \n",
    "# seed initialise\n",
    "random.seed(42)\n",
    "\n",
    "# calculate deterministic gradient \n",
    "Z_grad = numpy.zeros((K,M+K+1))\n",
    "for k in range(K):\n",
    "    Z_grad[k][0] = 0\n",
    "    for i in range(M+K):\n",
    "        dt = tspace[i+1] - tspace[i]\n",
    "        Z_grad[k][i+1] = Z_grad[k][i] * (1 + alpha * dt) \\\n",
    "        + beta * tspace_fact[i][k] * dt\n",
    "\n",
    "# print(Z_grad[1])\n",
    "# gamma = x0 * numpy.random.randn(K)\n",
    "# Z = MKVSDElinear_approx(M, K)\n",
    "# dW = numpy.random.randn(M+K)\n",
    "# Z.generatepath(x0, gamma, alpha, beta, sigma, M, K, tspace, dW)\n",
    "# plt.plot(tnodes, Z.path[tnodes_idx])"
   ]
  },
  {
   "cell_type": "markdown",
   "id": "f5e3236f",
   "metadata": {},
   "source": [
    "#### SGD"
   ]
  },
  {
   "cell_type": "code",
   "execution_count": 21,
   "id": "3d145290",
   "metadata": {},
   "outputs": [
    {
     "name": "stdout",
     "output_type": "stream",
     "text": [
      "Iteration: [19999/100000] \n",
      "Iteration: [39999/100000] \n",
      "Iteration: [59999/100000] \n",
      "Iteration: [79999/100000] \n",
      "Iteration: [99999/100000] \n",
      "[9.99548965 9.90011433 9.71851236 9.47355272 9.1919644  8.90708919\n",
      " 8.64525558 8.42828601 8.2746249  8.19556082]\n"
     ]
    }
   ],
   "source": [
    "lr = 0.01 # learning rate\n",
    "l2pen = 0 # l2 penalization parameter\n",
    "error_tol = 10e-6 # error tolerance\n",
    "ctr = 0 # iteration counter\n",
    "error = 1000\n",
    "gamma = 2.5 * x0 * numpy.ones(K)\n",
    "Z = MKVSDElinear_approx(M, K)\n",
    "gamma_aver = numpy.zeros(K)\n",
    "\n",
    "jacobian = numpy.zeros((K,K))\n",
    "\n",
    "for i in range(K):\n",
    "    for j in range(K):\n",
    "        jacobian[i][j] = Z_grad[j][tnodes_idx[i]]\n",
    "jacobian = jacobian - numpy.eye(K)\n",
    "\n",
    "while ctr < max_iter and error > error_tol:\n",
    "    dW = numpy.random.randn(M+K)\n",
    "    Z.generatepath(x0, gamma, alpha, beta, sigma, M, K, tspace, dW)\n",
    "    loss_grad = 2 * (Z.path[tnodes_idx] - gamma)\n",
    "    gamma_prev = gamma\n",
    "    \n",
    "    gamma = gamma_prev * (1 - l2pen) - lr * numpy.matmul(loss_grad, jacobian)    \n",
    "    gamma_aver += gamma\n",
    "\n",
    "    if (ctr + 1) % 20000 == 0:\n",
    "        print('Iteration: [{}/{}] '.format(ctr, max_iter))\n",
    "        lr = lr / 2\n",
    "    ctr += 1\n",
    "\n",
    "print(gamma_aver / max_iter)"
   ]
  },
  {
   "cell_type": "code",
   "execution_count": 22,
   "id": "64ebdf38",
   "metadata": {
    "scrolled": true
   },
   "outputs": [
    {
     "name": "stdout",
     "output_type": "stream",
     "text": [
      "0.03828382836935518\n"
     ]
    },
    {
     "data": {
      "text/plain": [
       "Text(0.5, 1.0, 'N = 100000, M = 50, K = 10, T = 1.0')"
      ]
     },
     "execution_count": 22,
     "metadata": {},
     "output_type": "execute_result"
    },
    {
     "data": {
      "image/png": "[encoded data removed]",
      "text/plain": [
       "<Figure size 1000x1000 with 1 Axes>"
      ]
     },
     "metadata": {},
     "output_type": "display_data"
    }
   ],
   "source": [
    "print(numpy.sum(numpy.abs(gamma_aver / max_iter - gamma_benchmark[tnodes_idx])))\n",
    "plt.plot(tspace[tnodes_idx], gamma_aver / max_iter, 'y', label='approx')\n",
    "plt.plot(tspace[tnodes_idx], gamma_benchmark[tnodes_idx], 'g', label='true')\n",
    "plt.legend()\n",
    "plt.title('N = ' + str(max_iter) + ', M = ' + str(M) + ', K = ' + str(K) + ', T = ' + str(T))"
   ]
  },
  {
   "cell_type": "code",
   "execution_count": null,
   "id": "fb35f6af",
   "metadata": {},
   "outputs": [],
   "source": []
  }
 ],
 "metadata": {
  "kernelspec": {
   "display_name": "Python 3 (ipykernel)",
   "language": "python",
   "name": "python3"
  },
  "language_info": {
   "codemirror_mode": {
    "name": "ipython",
    "version": 3
   },
   "file_extension": ".py",
   "mimetype": "text/x-python",
   "name": "python",
   "nbconvert_exporter": "python",
   "pygments_lexer": "ipython3",
   "version": "3.8.8"
  }
 },
 "nbformat": 4,
 "nbformat_minor": 5
}
